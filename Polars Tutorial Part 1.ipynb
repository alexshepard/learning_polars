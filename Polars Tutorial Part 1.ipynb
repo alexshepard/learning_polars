{
 "cells": [
  {
   "cell_type": "markdown",
   "id": "a2c9b855-060f-4d9f-9ede-f4f26b7ce689",
   "metadata": {},
   "source": [
    "polars tutorial 1\n",
    "\n",
    "https://www.youtube.com/watch?v=3RuYcXWIcoY&list=PLo9Vi5B84_dfAuwJqNYG4XhZMrGTF3sBx&index=2"
   ]
  },
  {
   "cell_type": "code",
   "execution_count": 1,
   "id": "0536dc27-653b-4cdc-810a-aa669a167b33",
   "metadata": {},
   "outputs": [],
   "source": [
    "import polars as pl\n",
    "import pandas as pd\n",
    "import numpy as np\n",
    "import pyarrow\n",
    "\n",
    "import matplotlib.pyplot as plt\n",
    "import seaborn as sns"
   ]
  },
  {
   "cell_type": "code",
   "execution_count": 2,
   "id": "e6650dbe-ab28-466d-b5bb-754919480fd7",
   "metadata": {},
   "outputs": [],
   "source": [
    "data_file = \"/Users/alex/.cache/kagglehub/datasets/mkechinov/ecommerce-behavior-data-from-multi-category-store/versions/8/2019-Nov.csv\""
   ]
  },
  {
   "cell_type": "markdown",
   "id": "341c94fc-2c11-4295-bae0-405180ca128b",
   "metadata": {},
   "source": [
    "# read 5gb csv file"
   ]
  },
  {
   "cell_type": "code",
   "execution_count": 3,
   "id": "bc6d3b4a-8acb-4ea0-804c-810ac3c13bfd",
   "metadata": {},
   "outputs": [],
   "source": [
    "df = pl.read_csv(data_file)"
   ]
  },
  {
   "cell_type": "markdown",
   "id": "4d6007ef-c71c-4489-ab90-838602a82a50",
   "metadata": {},
   "source": [
    "# basic ops"
   ]
  },
  {
   "cell_type": "code",
   "execution_count": 4,
   "id": "dd273160-250e-448c-b087-97ac2405bdb8",
   "metadata": {},
   "outputs": [
    {
     "data": {
      "text/plain": [
       "(67501979, 9)"
      ]
     },
     "execution_count": 4,
     "metadata": {},
     "output_type": "execute_result"
    }
   ],
   "source": [
    "df.shape"
   ]
  },
  {
   "cell_type": "markdown",
   "id": "156b470d-bda8-4ed2-8596-a0c57d0c71a5",
   "metadata": {},
   "source": [
    "# print options"
   ]
  },
  {
   "cell_type": "code",
   "execution_count": 5,
   "id": "41c6ec66-0890-4c66-a8d7-1645dc49cb65",
   "metadata": {},
   "outputs": [
    {
     "data": {
      "text/html": [
       "<div><style>\n",
       ".dataframe > thead > tr,\n",
       ".dataframe > tbody > tr {\n",
       "  text-align: right;\n",
       "  white-space: pre-wrap;\n",
       "}\n",
       "</style>\n",
       "<small>shape: (5, 9)</small><table border=\"1\" class=\"dataframe\"><thead><tr><th>event_time</th><th>event_type</th><th>product_id</th><th>category_id</th><th>category_code</th><th>brand</th><th>price</th><th>user_id</th><th>user_session</th></tr><tr><td>str</td><td>str</td><td>i64</td><td>i64</td><td>str</td><td>str</td><td>f64</td><td>i64</td><td>str</td></tr></thead><tbody><tr><td>&quot;2019-11-01 00:00:00 UTC&quot;</td><td>&quot;view&quot;</td><td>1003461</td><td>2053013555631882655</td><td>&quot;electronics.smartphone&quot;</td><td>&quot;xiaomi&quot;</td><td>489.07</td><td>520088904</td><td>&quot;4d3b30da-a5e4-49df-b1a8-ba5943…</td></tr><tr><td>&quot;2019-11-01 00:00:00 UTC&quot;</td><td>&quot;view&quot;</td><td>5000088</td><td>2053013566100866035</td><td>&quot;appliances.sewing_machine&quot;</td><td>&quot;janome&quot;</td><td>293.65</td><td>530496790</td><td>&quot;8e5f4f83-366c-4f70-860e-ca7417…</td></tr><tr><td>&quot;2019-11-01 00:00:01 UTC&quot;</td><td>&quot;view&quot;</td><td>17302664</td><td>2053013553853497655</td><td>null</td><td>&quot;creed&quot;</td><td>28.31</td><td>561587266</td><td>&quot;755422e7-9040-477b-9bd2-6a6e8f…</td></tr><tr><td>&quot;2019-11-01 00:00:01 UTC&quot;</td><td>&quot;view&quot;</td><td>3601530</td><td>2053013563810775923</td><td>&quot;appliances.kitchen.washer&quot;</td><td>&quot;lg&quot;</td><td>712.87</td><td>518085591</td><td>&quot;3bfb58cd-7892-48cc-8020-2f17e6…</td></tr><tr><td>&quot;2019-11-01 00:00:01 UTC&quot;</td><td>&quot;view&quot;</td><td>1004775</td><td>2053013555631882655</td><td>&quot;electronics.smartphone&quot;</td><td>&quot;xiaomi&quot;</td><td>183.27</td><td>558856683</td><td>&quot;313628f1-68b8-460d-84f6-cec7a8…</td></tr></tbody></table></div>"
      ],
      "text/plain": [
       "shape: (5, 9)\n",
       "┌────────────┬────────────┬────────────┬────────────┬───┬────────┬────────┬───────────┬────────────┐\n",
       "│ event_time ┆ event_type ┆ product_id ┆ category_i ┆ … ┆ brand  ┆ price  ┆ user_id   ┆ user_sessi │\n",
       "│ ---        ┆ ---        ┆ ---        ┆ d          ┆   ┆ ---    ┆ ---    ┆ ---       ┆ on         │\n",
       "│ str        ┆ str        ┆ i64        ┆ ---        ┆   ┆ str    ┆ f64    ┆ i64       ┆ ---        │\n",
       "│            ┆            ┆            ┆ i64        ┆   ┆        ┆        ┆           ┆ str        │\n",
       "╞════════════╪════════════╪════════════╪════════════╪═══╪════════╪════════╪═══════════╪════════════╡\n",
       "│ 2019-11-01 ┆ view       ┆ 1003461    ┆ 2053013555 ┆ … ┆ xiaomi ┆ 489.07 ┆ 520088904 ┆ 4d3b30da-a │\n",
       "│ 00:00:00   ┆            ┆            ┆ 631882655  ┆   ┆        ┆        ┆           ┆ 5e4-49df-b │\n",
       "│ UTC        ┆            ┆            ┆            ┆   ┆        ┆        ┆           ┆ 1a8-ba5943 │\n",
       "│            ┆            ┆            ┆            ┆   ┆        ┆        ┆           ┆ …          │\n",
       "│ 2019-11-01 ┆ view       ┆ 5000088    ┆ 2053013566 ┆ … ┆ janome ┆ 293.65 ┆ 530496790 ┆ 8e5f4f83-3 │\n",
       "│ 00:00:00   ┆            ┆            ┆ 100866035  ┆   ┆        ┆        ┆           ┆ 66c-4f70-8 │\n",
       "│ UTC        ┆            ┆            ┆            ┆   ┆        ┆        ┆           ┆ 60e-ca7417 │\n",
       "│            ┆            ┆            ┆            ┆   ┆        ┆        ┆           ┆ …          │\n",
       "│ 2019-11-01 ┆ view       ┆ 17302664   ┆ 2053013553 ┆ … ┆ creed  ┆ 28.31  ┆ 561587266 ┆ 755422e7-9 │\n",
       "│ 00:00:01   ┆            ┆            ┆ 853497655  ┆   ┆        ┆        ┆           ┆ 040-477b-9 │\n",
       "│ UTC        ┆            ┆            ┆            ┆   ┆        ┆        ┆           ┆ bd2-6a6e8f │\n",
       "│            ┆            ┆            ┆            ┆   ┆        ┆        ┆           ┆ …          │\n",
       "│ 2019-11-01 ┆ view       ┆ 3601530    ┆ 2053013563 ┆ … ┆ lg     ┆ 712.87 ┆ 518085591 ┆ 3bfb58cd-7 │\n",
       "│ 00:00:01   ┆            ┆            ┆ 810775923  ┆   ┆        ┆        ┆           ┆ 892-48cc-8 │\n",
       "│ UTC        ┆            ┆            ┆            ┆   ┆        ┆        ┆           ┆ 020-2f17e6 │\n",
       "│            ┆            ┆            ┆            ┆   ┆        ┆        ┆           ┆ …          │\n",
       "│ 2019-11-01 ┆ view       ┆ 1004775    ┆ 2053013555 ┆ … ┆ xiaomi ┆ 183.27 ┆ 558856683 ┆ 313628f1-6 │\n",
       "│ 00:00:01   ┆            ┆            ┆ 631882655  ┆   ┆        ┆        ┆           ┆ 8b8-460d-8 │\n",
       "│ UTC        ┆            ┆            ┆            ┆   ┆        ┆        ┆           ┆ 4f6-cec7a8 │\n",
       "│            ┆            ┆            ┆            ┆   ┆        ┆        ┆           ┆ …          │\n",
       "└────────────┴────────────┴────────────┴────────────┴───┴────────┴────────┴───────────┴────────────┘"
      ]
     },
     "execution_count": 5,
     "metadata": {},
     "output_type": "execute_result"
    }
   ],
   "source": [
    "df.head()"
   ]
  },
  {
   "cell_type": "code",
   "execution_count": 6,
   "id": "50b2eacf-7d00-4ace-925f-2ab8fb5afc75",
   "metadata": {},
   "outputs": [
    {
     "name": "stdout",
     "output_type": "stream",
     "text": [
      "shape: (2, 9)\n",
      "┌────────────┬────────────┬────────────┬────────────┬───┬────────┬────────┬───────────┬────────────┐\n",
      "│ event_time ┆ event_type ┆ product_id ┆ category_i ┆ … ┆ brand  ┆ price  ┆ user_id   ┆ user_sessi │\n",
      "│ ---        ┆ ---        ┆ ---        ┆ d          ┆   ┆ ---    ┆ ---    ┆ ---       ┆ on         │\n",
      "│ str        ┆ str        ┆ i64        ┆ ---        ┆   ┆ str    ┆ f64    ┆ i64       ┆ ---        │\n",
      "│            ┆            ┆            ┆ i64        ┆   ┆        ┆        ┆           ┆ str        │\n",
      "╞════════════╪════════════╪════════════╪════════════╪═══╪════════╪════════╪═══════════╪════════════╡\n",
      "│ 2019-11-01 ┆ view       ┆ 1003461    ┆ 2053013555 ┆ … ┆ xiaomi ┆ 489.07 ┆ 520088904 ┆ 4d3b30da-a │\n",
      "│ 00:00:00   ┆            ┆            ┆ 631882655  ┆   ┆        ┆        ┆           ┆ 5e4-49df-b │\n",
      "│ UTC        ┆            ┆            ┆            ┆   ┆        ┆        ┆           ┆ 1a8-ba5943 │\n",
      "│            ┆            ┆            ┆            ┆   ┆        ┆        ┆           ┆ …          │\n",
      "│ 2019-11-01 ┆ view       ┆ 5000088    ┆ 2053013566 ┆ … ┆ janome ┆ 293.65 ┆ 530496790 ┆ 8e5f4f83-3 │\n",
      "│ 00:00:00   ┆            ┆            ┆ 100866035  ┆   ┆        ┆        ┆           ┆ 66c-4f70-8 │\n",
      "│ UTC        ┆            ┆            ┆            ┆   ┆        ┆        ┆           ┆ 60e-ca7417 │\n",
      "│            ┆            ┆            ┆            ┆   ┆        ┆        ┆           ┆ …          │\n",
      "└────────────┴────────────┴────────────┴────────────┴───┴────────┴────────┴───────────┴────────────┘\n"
     ]
    }
   ],
   "source": [
    "print(df.head(2))"
   ]
  },
  {
   "cell_type": "code",
   "execution_count": 7,
   "id": "ad699da2-798f-4e71-aac1-79537f2cd403",
   "metadata": {},
   "outputs": [
    {
     "data": {
      "text/plain": [
       "[String, String, Int64, Int64, String, String, Float64, Int64, String]"
      ]
     },
     "execution_count": 7,
     "metadata": {},
     "output_type": "execute_result"
    }
   ],
   "source": [
    "df.dtypes"
   ]
  },
  {
   "cell_type": "code",
   "execution_count": 8,
   "id": "50fef2ee-3cbc-4344-9673-c5466c3e8fab",
   "metadata": {},
   "outputs": [
    {
     "data": {
      "text/html": [
       "<div>\n",
       "<style scoped>\n",
       "    .dataframe tbody tr th:only-of-type {\n",
       "        vertical-align: middle;\n",
       "    }\n",
       "\n",
       "    .dataframe tbody tr th {\n",
       "        vertical-align: top;\n",
       "    }\n",
       "\n",
       "    .dataframe thead th {\n",
       "        text-align: right;\n",
       "    }\n",
       "</style>\n",
       "<table border=\"1\" class=\"dataframe\">\n",
       "  <thead>\n",
       "    <tr style=\"text-align: right;\">\n",
       "      <th></th>\n",
       "      <th>event_time</th>\n",
       "      <th>event_type</th>\n",
       "      <th>product_id</th>\n",
       "      <th>category_id</th>\n",
       "      <th>category_code</th>\n",
       "      <th>brand</th>\n",
       "      <th>price</th>\n",
       "      <th>user_id</th>\n",
       "      <th>user_session</th>\n",
       "    </tr>\n",
       "  </thead>\n",
       "  <tbody>\n",
       "    <tr>\n",
       "      <th>0</th>\n",
       "      <td>2019-11-01 00:00:00 UTC</td>\n",
       "      <td>view</td>\n",
       "      <td>1003461</td>\n",
       "      <td>2053013555631882655</td>\n",
       "      <td>electronics.smartphone</td>\n",
       "      <td>xiaomi</td>\n",
       "      <td>489.07</td>\n",
       "      <td>520088904</td>\n",
       "      <td>4d3b30da-a5e4-49df-b1a8-ba5943f1dd33</td>\n",
       "    </tr>\n",
       "    <tr>\n",
       "      <th>1</th>\n",
       "      <td>2019-11-01 00:00:00 UTC</td>\n",
       "      <td>view</td>\n",
       "      <td>5000088</td>\n",
       "      <td>2053013566100866035</td>\n",
       "      <td>appliances.sewing_machine</td>\n",
       "      <td>janome</td>\n",
       "      <td>293.65</td>\n",
       "      <td>530496790</td>\n",
       "      <td>8e5f4f83-366c-4f70-860e-ca7417414283</td>\n",
       "    </tr>\n",
       "    <tr>\n",
       "      <th>2</th>\n",
       "      <td>2019-11-01 00:00:01 UTC</td>\n",
       "      <td>view</td>\n",
       "      <td>17302664</td>\n",
       "      <td>2053013553853497655</td>\n",
       "      <td>None</td>\n",
       "      <td>creed</td>\n",
       "      <td>28.31</td>\n",
       "      <td>561587266</td>\n",
       "      <td>755422e7-9040-477b-9bd2-6a6e8fd97387</td>\n",
       "    </tr>\n",
       "    <tr>\n",
       "      <th>3</th>\n",
       "      <td>2019-11-01 00:00:01 UTC</td>\n",
       "      <td>view</td>\n",
       "      <td>3601530</td>\n",
       "      <td>2053013563810775923</td>\n",
       "      <td>appliances.kitchen.washer</td>\n",
       "      <td>lg</td>\n",
       "      <td>712.87</td>\n",
       "      <td>518085591</td>\n",
       "      <td>3bfb58cd-7892-48cc-8020-2f17e6de6e7f</td>\n",
       "    </tr>\n",
       "    <tr>\n",
       "      <th>4</th>\n",
       "      <td>2019-11-01 00:00:01 UTC</td>\n",
       "      <td>view</td>\n",
       "      <td>1004775</td>\n",
       "      <td>2053013555631882655</td>\n",
       "      <td>electronics.smartphone</td>\n",
       "      <td>xiaomi</td>\n",
       "      <td>183.27</td>\n",
       "      <td>558856683</td>\n",
       "      <td>313628f1-68b8-460d-84f6-cec7a8796ef2</td>\n",
       "    </tr>\n",
       "  </tbody>\n",
       "</table>\n",
       "</div>"
      ],
      "text/plain": [
       "                event_time event_type  product_id          category_id  \\\n",
       "0  2019-11-01 00:00:00 UTC       view     1003461  2053013555631882655   \n",
       "1  2019-11-01 00:00:00 UTC       view     5000088  2053013566100866035   \n",
       "2  2019-11-01 00:00:01 UTC       view    17302664  2053013553853497655   \n",
       "3  2019-11-01 00:00:01 UTC       view     3601530  2053013563810775923   \n",
       "4  2019-11-01 00:00:01 UTC       view     1004775  2053013555631882655   \n",
       "\n",
       "               category_code   brand   price    user_id  \\\n",
       "0     electronics.smartphone  xiaomi  489.07  520088904   \n",
       "1  appliances.sewing_machine  janome  293.65  530496790   \n",
       "2                       None   creed   28.31  561587266   \n",
       "3  appliances.kitchen.washer      lg  712.87  518085591   \n",
       "4     electronics.smartphone  xiaomi  183.27  558856683   \n",
       "\n",
       "                           user_session  \n",
       "0  4d3b30da-a5e4-49df-b1a8-ba5943f1dd33  \n",
       "1  8e5f4f83-366c-4f70-860e-ca7417414283  \n",
       "2  755422e7-9040-477b-9bd2-6a6e8fd97387  \n",
       "3  3bfb58cd-7892-48cc-8020-2f17e6de6e7f  \n",
       "4  313628f1-68b8-460d-84f6-cec7a8796ef2  "
      ]
     },
     "execution_count": 8,
     "metadata": {},
     "output_type": "execute_result"
    }
   ],
   "source": [
    "df.head().to_pandas()"
   ]
  },
  {
   "cell_type": "markdown",
   "id": "eb987b18-e7eb-4819-ac4a-2232e2419d92",
   "metadata": {},
   "source": [
    "# selecting and filtering data\n",
    "like SELECT and WHERE in SQL"
   ]
  },
  {
   "cell_type": "markdown",
   "id": "843870c6-36da-4e18-874e-462035be1d6a",
   "metadata": {},
   "source": [
    "### 1. indexing with [ works but is an 'anti-pattern' in polars"
   ]
  },
  {
   "cell_type": "code",
   "execution_count": 9,
   "id": "5ce5e905-1c52-4fcb-a797-dbab248e9795",
   "metadata": {},
   "outputs": [
    {
     "data": {
      "text/html": [
       "<div><style>\n",
       ".dataframe > thead > tr,\n",
       ".dataframe > tbody > tr {\n",
       "  text-align: right;\n",
       "  white-space: pre-wrap;\n",
       "}\n",
       "</style>\n",
       "<small>shape: (1, 9)</small><table border=\"1\" class=\"dataframe\"><thead><tr><th>event_time</th><th>event_type</th><th>product_id</th><th>category_id</th><th>category_code</th><th>brand</th><th>price</th><th>user_id</th><th>user_session</th></tr><tr><td>str</td><td>str</td><td>i64</td><td>i64</td><td>str</td><td>str</td><td>f64</td><td>i64</td><td>str</td></tr></thead><tbody><tr><td>&quot;2019-11-01 00:00:00 UTC&quot;</td><td>&quot;view&quot;</td><td>1003461</td><td>2053013555631882655</td><td>&quot;electronics.smartphone&quot;</td><td>&quot;xiaomi&quot;</td><td>489.07</td><td>520088904</td><td>&quot;4d3b30da-a5e4-49df-b1a8-ba5943…</td></tr></tbody></table></div>"
      ],
      "text/plain": [
       "shape: (1, 9)\n",
       "┌────────────┬────────────┬────────────┬────────────┬───┬────────┬────────┬───────────┬────────────┐\n",
       "│ event_time ┆ event_type ┆ product_id ┆ category_i ┆ … ┆ brand  ┆ price  ┆ user_id   ┆ user_sessi │\n",
       "│ ---        ┆ ---        ┆ ---        ┆ d          ┆   ┆ ---    ┆ ---    ┆ ---       ┆ on         │\n",
       "│ str        ┆ str        ┆ i64        ┆ ---        ┆   ┆ str    ┆ f64    ┆ i64       ┆ ---        │\n",
       "│            ┆            ┆            ┆ i64        ┆   ┆        ┆        ┆           ┆ str        │\n",
       "╞════════════╪════════════╪════════════╪════════════╪═══╪════════╪════════╪═══════════╪════════════╡\n",
       "│ 2019-11-01 ┆ view       ┆ 1003461    ┆ 2053013555 ┆ … ┆ xiaomi ┆ 489.07 ┆ 520088904 ┆ 4d3b30da-a │\n",
       "│ 00:00:00   ┆            ┆            ┆ 631882655  ┆   ┆        ┆        ┆           ┆ 5e4-49df-b │\n",
       "│ UTC        ┆            ┆            ┆            ┆   ┆        ┆        ┆           ┆ 1a8-ba5943 │\n",
       "│            ┆            ┆            ┆            ┆   ┆        ┆        ┆           ┆ …          │\n",
       "└────────────┴────────────┴────────────┴────────────┴───┴────────┴────────┴───────────┴────────────┘"
      ]
     },
     "execution_count": 9,
     "metadata": {},
     "output_type": "execute_result"
    }
   ],
   "source": [
    "df[0,:]"
   ]
  },
  {
   "cell_type": "code",
   "execution_count": 10,
   "id": "510eaa4d-22e4-405d-8280-04ae8673ed04",
   "metadata": {},
   "outputs": [
    {
     "data": {
      "text/html": [
       "<div><style>\n",
       ".dataframe > thead > tr,\n",
       ".dataframe > tbody > tr {\n",
       "  text-align: right;\n",
       "  white-space: pre-wrap;\n",
       "}\n",
       "</style>\n",
       "<small>shape: (5, 2)</small><table border=\"1\" class=\"dataframe\"><thead><tr><th>event_time</th><th>price</th></tr><tr><td>str</td><td>f64</td></tr></thead><tbody><tr><td>&quot;2019-11-01 00:00:00 UTC&quot;</td><td>489.07</td></tr><tr><td>&quot;2019-11-01 00:00:00 UTC&quot;</td><td>293.65</td></tr><tr><td>&quot;2019-11-01 00:00:01 UTC&quot;</td><td>28.31</td></tr><tr><td>&quot;2019-11-01 00:00:01 UTC&quot;</td><td>712.87</td></tr><tr><td>&quot;2019-11-01 00:00:01 UTC&quot;</td><td>183.27</td></tr></tbody></table></div>"
      ],
      "text/plain": [
       "shape: (5, 2)\n",
       "┌─────────────────────────┬────────┐\n",
       "│ event_time              ┆ price  │\n",
       "│ ---                     ┆ ---    │\n",
       "│ str                     ┆ f64    │\n",
       "╞═════════════════════════╪════════╡\n",
       "│ 2019-11-01 00:00:00 UTC ┆ 489.07 │\n",
       "│ 2019-11-01 00:00:00 UTC ┆ 293.65 │\n",
       "│ 2019-11-01 00:00:01 UTC ┆ 28.31  │\n",
       "│ 2019-11-01 00:00:01 UTC ┆ 712.87 │\n",
       "│ 2019-11-01 00:00:01 UTC ┆ 183.27 │\n",
       "└─────────────────────────┴────────┘"
      ]
     },
     "execution_count": 10,
     "metadata": {},
     "output_type": "execute_result"
    }
   ],
   "source": [
    "df[:,['event_time', 'price']].head()"
   ]
  },
  {
   "cell_type": "code",
   "execution_count": 12,
   "id": "7219907d-8c25-4817-9e32-a730069b33a9",
   "metadata": {},
   "outputs": [
    {
     "data": {
      "text/html": [
       "<div><style>\n",
       ".dataframe > thead > tr,\n",
       ".dataframe > tbody > tr {\n",
       "  text-align: right;\n",
       "  white-space: pre-wrap;\n",
       "}\n",
       "</style>\n",
       "<small>shape: (5, 9)</small><table border=\"1\" class=\"dataframe\"><thead><tr><th>event_time</th><th>event_type</th><th>product_id</th><th>category_id</th><th>category_code</th><th>brand</th><th>price</th><th>user_id</th><th>user_session</th></tr><tr><td>str</td><td>str</td><td>i64</td><td>i64</td><td>str</td><td>str</td><td>f64</td><td>i64</td><td>str</td></tr></thead><tbody><tr><td>&quot;2019-11-01 00:00:27 UTC&quot;</td><td>&quot;view&quot;</td><td>1004237</td><td>2053013555631882655</td><td>&quot;electronics.smartphone&quot;</td><td>&quot;apple&quot;</td><td>1091.33</td><td>565404816</td><td>&quot;d9cf0ac4-c3ec-4e1f-83aa-326b1e…</td></tr><tr><td>&quot;2019-11-01 00:00:40 UTC&quot;</td><td>&quot;view&quot;</td><td>1005116</td><td>2053013555631882655</td><td>&quot;electronics.smartphone&quot;</td><td>&quot;apple&quot;</td><td>1013.86</td><td>532647354</td><td>&quot;d2d3d2c6-631d-489e-9fb5-06f340…</td></tr><tr><td>&quot;2019-11-01 00:00:41 UTC&quot;</td><td>&quot;view&quot;</td><td>1004241</td><td>2053013555631882655</td><td>&quot;electronics.smartphone&quot;</td><td>&quot;apple&quot;</td><td>1173.6</td><td>565404816</td><td>&quot;d9cf0ac4-c3ec-4e1f-83aa-326b1e…</td></tr><tr><td>&quot;2019-11-01 00:00:41 UTC&quot;</td><td>&quot;view&quot;</td><td>1004237</td><td>2053013555631882655</td><td>&quot;electronics.smartphone&quot;</td><td>&quot;apple&quot;</td><td>1091.33</td><td>519277091</td><td>&quot;62fadce6-aa4a-4dde-92fc-c04c22…</td></tr><tr><td>&quot;2019-11-01 00:00:51 UTC&quot;</td><td>&quot;view&quot;</td><td>1307012</td><td>2053013558920217191</td><td>&quot;computers.notebook&quot;</td><td>&quot;apple&quot;</td><td>2342.15</td><td>530857208</td><td>&quot;c69f9c63-7098-426c-97d9-8cb94a…</td></tr></tbody></table></div>"
      ],
      "text/plain": [
       "shape: (5, 9)\n",
       "┌────────────┬────────────┬────────────┬────────────┬───┬───────┬─────────┬───────────┬────────────┐\n",
       "│ event_time ┆ event_type ┆ product_id ┆ category_i ┆ … ┆ brand ┆ price   ┆ user_id   ┆ user_sessi │\n",
       "│ ---        ┆ ---        ┆ ---        ┆ d          ┆   ┆ ---   ┆ ---     ┆ ---       ┆ on         │\n",
       "│ str        ┆ str        ┆ i64        ┆ ---        ┆   ┆ str   ┆ f64     ┆ i64       ┆ ---        │\n",
       "│            ┆            ┆            ┆ i64        ┆   ┆       ┆         ┆           ┆ str        │\n",
       "╞════════════╪════════════╪════════════╪════════════╪═══╪═══════╪═════════╪═══════════╪════════════╡\n",
       "│ 2019-11-01 ┆ view       ┆ 1004237    ┆ 2053013555 ┆ … ┆ apple ┆ 1091.33 ┆ 565404816 ┆ d9cf0ac4-c │\n",
       "│ 00:00:27   ┆            ┆            ┆ 631882655  ┆   ┆       ┆         ┆           ┆ 3ec-4e1f-8 │\n",
       "│ UTC        ┆            ┆            ┆            ┆   ┆       ┆         ┆           ┆ 3aa-326b1e │\n",
       "│            ┆            ┆            ┆            ┆   ┆       ┆         ┆           ┆ …          │\n",
       "│ 2019-11-01 ┆ view       ┆ 1005116    ┆ 2053013555 ┆ … ┆ apple ┆ 1013.86 ┆ 532647354 ┆ d2d3d2c6-6 │\n",
       "│ 00:00:40   ┆            ┆            ┆ 631882655  ┆   ┆       ┆         ┆           ┆ 31d-489e-9 │\n",
       "│ UTC        ┆            ┆            ┆            ┆   ┆       ┆         ┆           ┆ fb5-06f340 │\n",
       "│            ┆            ┆            ┆            ┆   ┆       ┆         ┆           ┆ …          │\n",
       "│ 2019-11-01 ┆ view       ┆ 1004241    ┆ 2053013555 ┆ … ┆ apple ┆ 1173.6  ┆ 565404816 ┆ d9cf0ac4-c │\n",
       "│ 00:00:41   ┆            ┆            ┆ 631882655  ┆   ┆       ┆         ┆           ┆ 3ec-4e1f-8 │\n",
       "│ UTC        ┆            ┆            ┆            ┆   ┆       ┆         ┆           ┆ 3aa-326b1e │\n",
       "│            ┆            ┆            ┆            ┆   ┆       ┆         ┆           ┆ …          │\n",
       "│ 2019-11-01 ┆ view       ┆ 1004237    ┆ 2053013555 ┆ … ┆ apple ┆ 1091.33 ┆ 519277091 ┆ 62fadce6-a │\n",
       "│ 00:00:41   ┆            ┆            ┆ 631882655  ┆   ┆       ┆         ┆           ┆ a4a-4dde-9 │\n",
       "│ UTC        ┆            ┆            ┆            ┆   ┆       ┆         ┆           ┆ 2fc-c04c22 │\n",
       "│            ┆            ┆            ┆            ┆   ┆       ┆         ┆           ┆ …          │\n",
       "│ 2019-11-01 ┆ view       ┆ 1307012    ┆ 2053013558 ┆ … ┆ apple ┆ 2342.15 ┆ 530857208 ┆ c69f9c63-7 │\n",
       "│ 00:00:51   ┆            ┆            ┆ 920217191  ┆   ┆       ┆         ┆           ┆ 098-426c-9 │\n",
       "│ UTC        ┆            ┆            ┆            ┆   ┆       ┆         ┆           ┆ 7d9-8cb94a │\n",
       "│            ┆            ┆            ┆            ┆   ┆       ┆         ┆           ┆ …          │\n",
       "└────────────┴────────────┴────────────┴────────────┴───┴───────┴─────────┴───────────┴────────────┘"
      ]
     },
     "execution_count": 12,
     "metadata": {},
     "output_type": "execute_result"
    }
   ],
   "source": [
    "# works but looks awful\n",
    "df.filter(df[\"price\"] > 1_000).head()"
   ]
  },
  {
   "cell_type": "code",
   "execution_count": 13,
   "id": "24ce11b7-389b-49e3-9798-ab31f301cba4",
   "metadata": {},
   "outputs": [
    {
     "data": {
      "text/html": [
       "<div><style>\n",
       ".dataframe > thead > tr,\n",
       ".dataframe > tbody > tr {\n",
       "  text-align: right;\n",
       "  white-space: pre-wrap;\n",
       "}\n",
       "</style>\n",
       "<small>shape: (5, 9)</small><table border=\"1\" class=\"dataframe\"><thead><tr><th>event_time</th><th>event_type</th><th>product_id</th><th>category_id</th><th>category_code</th><th>brand</th><th>price</th><th>user_id</th><th>user_session</th></tr><tr><td>str</td><td>str</td><td>i64</td><td>i64</td><td>str</td><td>str</td><td>f64</td><td>i64</td><td>str</td></tr></thead><tbody><tr><td>&quot;2019-11-01 00:00:27 UTC&quot;</td><td>&quot;view&quot;</td><td>1004237</td><td>2053013555631882655</td><td>&quot;electronics.smartphone&quot;</td><td>&quot;apple&quot;</td><td>1091.33</td><td>565404816</td><td>&quot;d9cf0ac4-c3ec-4e1f-83aa-326b1e…</td></tr><tr><td>&quot;2019-11-01 00:00:40 UTC&quot;</td><td>&quot;view&quot;</td><td>1005116</td><td>2053013555631882655</td><td>&quot;electronics.smartphone&quot;</td><td>&quot;apple&quot;</td><td>1013.86</td><td>532647354</td><td>&quot;d2d3d2c6-631d-489e-9fb5-06f340…</td></tr><tr><td>&quot;2019-11-01 00:00:41 UTC&quot;</td><td>&quot;view&quot;</td><td>1004241</td><td>2053013555631882655</td><td>&quot;electronics.smartphone&quot;</td><td>&quot;apple&quot;</td><td>1173.6</td><td>565404816</td><td>&quot;d9cf0ac4-c3ec-4e1f-83aa-326b1e…</td></tr><tr><td>&quot;2019-11-01 00:00:41 UTC&quot;</td><td>&quot;view&quot;</td><td>1004237</td><td>2053013555631882655</td><td>&quot;electronics.smartphone&quot;</td><td>&quot;apple&quot;</td><td>1091.33</td><td>519277091</td><td>&quot;62fadce6-aa4a-4dde-92fc-c04c22…</td></tr><tr><td>&quot;2019-11-01 00:00:51 UTC&quot;</td><td>&quot;view&quot;</td><td>1307012</td><td>2053013558920217191</td><td>&quot;computers.notebook&quot;</td><td>&quot;apple&quot;</td><td>2342.15</td><td>530857208</td><td>&quot;c69f9c63-7098-426c-97d9-8cb94a…</td></tr></tbody></table></div>"
      ],
      "text/plain": [
       "shape: (5, 9)\n",
       "┌────────────┬────────────┬────────────┬────────────┬───┬───────┬─────────┬───────────┬────────────┐\n",
       "│ event_time ┆ event_type ┆ product_id ┆ category_i ┆ … ┆ brand ┆ price   ┆ user_id   ┆ user_sessi │\n",
       "│ ---        ┆ ---        ┆ ---        ┆ d          ┆   ┆ ---   ┆ ---     ┆ ---       ┆ on         │\n",
       "│ str        ┆ str        ┆ i64        ┆ ---        ┆   ┆ str   ┆ f64     ┆ i64       ┆ ---        │\n",
       "│            ┆            ┆            ┆ i64        ┆   ┆       ┆         ┆           ┆ str        │\n",
       "╞════════════╪════════════╪════════════╪════════════╪═══╪═══════╪═════════╪═══════════╪════════════╡\n",
       "│ 2019-11-01 ┆ view       ┆ 1004237    ┆ 2053013555 ┆ … ┆ apple ┆ 1091.33 ┆ 565404816 ┆ d9cf0ac4-c │\n",
       "│ 00:00:27   ┆            ┆            ┆ 631882655  ┆   ┆       ┆         ┆           ┆ 3ec-4e1f-8 │\n",
       "│ UTC        ┆            ┆            ┆            ┆   ┆       ┆         ┆           ┆ 3aa-326b1e │\n",
       "│            ┆            ┆            ┆            ┆   ┆       ┆         ┆           ┆ …          │\n",
       "│ 2019-11-01 ┆ view       ┆ 1005116    ┆ 2053013555 ┆ … ┆ apple ┆ 1013.86 ┆ 532647354 ┆ d2d3d2c6-6 │\n",
       "│ 00:00:40   ┆            ┆            ┆ 631882655  ┆   ┆       ┆         ┆           ┆ 31d-489e-9 │\n",
       "│ UTC        ┆            ┆            ┆            ┆   ┆       ┆         ┆           ┆ fb5-06f340 │\n",
       "│            ┆            ┆            ┆            ┆   ┆       ┆         ┆           ┆ …          │\n",
       "│ 2019-11-01 ┆ view       ┆ 1004241    ┆ 2053013555 ┆ … ┆ apple ┆ 1173.6  ┆ 565404816 ┆ d9cf0ac4-c │\n",
       "│ 00:00:41   ┆            ┆            ┆ 631882655  ┆   ┆       ┆         ┆           ┆ 3ec-4e1f-8 │\n",
       "│ UTC        ┆            ┆            ┆            ┆   ┆       ┆         ┆           ┆ 3aa-326b1e │\n",
       "│            ┆            ┆            ┆            ┆   ┆       ┆         ┆           ┆ …          │\n",
       "│ 2019-11-01 ┆ view       ┆ 1004237    ┆ 2053013555 ┆ … ┆ apple ┆ 1091.33 ┆ 519277091 ┆ 62fadce6-a │\n",
       "│ 00:00:41   ┆            ┆            ┆ 631882655  ┆   ┆       ┆         ┆           ┆ a4a-4dde-9 │\n",
       "│ UTC        ┆            ┆            ┆            ┆   ┆       ┆         ┆           ┆ 2fc-c04c22 │\n",
       "│            ┆            ┆            ┆            ┆   ┆       ┆         ┆           ┆ …          │\n",
       "│ 2019-11-01 ┆ view       ┆ 1307012    ┆ 2053013558 ┆ … ┆ apple ┆ 2342.15 ┆ 530857208 ┆ c69f9c63-7 │\n",
       "│ 00:00:51   ┆            ┆            ┆ 920217191  ┆   ┆       ┆         ┆           ┆ 098-426c-9 │\n",
       "│ UTC        ┆            ┆            ┆            ┆   ┆       ┆         ┆           ┆ 7d9-8cb94a │\n",
       "│            ┆            ┆            ┆            ┆   ┆       ┆         ┆           ┆ …          │\n",
       "└────────────┴────────────┴────────────┴────────────┴───┴───────┴─────────┴───────────┴────────────┘"
      ]
     },
     "execution_count": 13,
     "metadata": {},
     "output_type": "execute_result"
    }
   ],
   "source": [
    "# better to use this\n",
    "df.filter(pl.col(\"price\") > 1_000).head()"
   ]
  },
  {
   "cell_type": "markdown",
   "id": "ae5bdbd9-1f08-4e66-8c4f-e17960185dcc",
   "metadata": {},
   "source": [
    "### 2. how to select data using idiomatic polars style"
   ]
  },
  {
   "cell_type": "code",
   "execution_count": 16,
   "id": "4d16cfb8-1d34-48f2-8b63-8b7fb93dfb5d",
   "metadata": {},
   "outputs": [
    {
     "data": {
      "text/html": [
       "<div>\n",
       "<style scoped>\n",
       "    .dataframe tbody tr th:only-of-type {\n",
       "        vertical-align: middle;\n",
       "    }\n",
       "\n",
       "    .dataframe tbody tr th {\n",
       "        vertical-align: top;\n",
       "    }\n",
       "\n",
       "    .dataframe thead th {\n",
       "        text-align: right;\n",
       "    }\n",
       "</style>\n",
       "<table border=\"1\" class=\"dataframe\">\n",
       "  <thead>\n",
       "    <tr style=\"text-align: right;\">\n",
       "      <th></th>\n",
       "      <th>event_time</th>\n",
       "      <th>event_type</th>\n",
       "      <th>product_id</th>\n",
       "      <th>category_id</th>\n",
       "      <th>category_code</th>\n",
       "      <th>brand</th>\n",
       "      <th>price</th>\n",
       "      <th>user_id</th>\n",
       "      <th>user_session</th>\n",
       "    </tr>\n",
       "  </thead>\n",
       "  <tbody>\n",
       "    <tr>\n",
       "      <th>0</th>\n",
       "      <td>2019-11-18 17:30:41 UTC</td>\n",
       "      <td>view</td>\n",
       "      <td>12500535</td>\n",
       "      <td>2053013556277805513</td>\n",
       "      <td>None</td>\n",
       "      <td>crown</td>\n",
       "      <td>35.88</td>\n",
       "      <td>526765906</td>\n",
       "      <td>2630981a-341a-4d78-84ce-ca22cab4b326</td>\n",
       "    </tr>\n",
       "    <tr>\n",
       "      <th>1</th>\n",
       "      <td>2019-11-01 06:21:50 UTC</td>\n",
       "      <td>view</td>\n",
       "      <td>26400187</td>\n",
       "      <td>2053013563651392361</td>\n",
       "      <td>None</td>\n",
       "      <td>None</td>\n",
       "      <td>196.14</td>\n",
       "      <td>547009646</td>\n",
       "      <td>d0c40b81-b03d-4175-8b9b-41536fcb250f</td>\n",
       "    </tr>\n",
       "    <tr>\n",
       "      <th>2</th>\n",
       "      <td>2019-11-23 08:18:43 UTC</td>\n",
       "      <td>view</td>\n",
       "      <td>1005239</td>\n",
       "      <td>2053013555631882655</td>\n",
       "      <td>electronics.smartphone</td>\n",
       "      <td>xiaomi</td>\n",
       "      <td>258.57</td>\n",
       "      <td>554959825</td>\n",
       "      <td>097843d0-489b-432c-97f4-8b7f65be8f6e</td>\n",
       "    </tr>\n",
       "  </tbody>\n",
       "</table>\n",
       "</div>"
      ],
      "text/plain": [
       "                event_time event_type  product_id          category_id  \\\n",
       "0  2019-11-18 17:30:41 UTC       view    12500535  2053013556277805513   \n",
       "1  2019-11-01 06:21:50 UTC       view    26400187  2053013563651392361   \n",
       "2  2019-11-23 08:18:43 UTC       view     1005239  2053013555631882655   \n",
       "\n",
       "            category_code   brand   price    user_id  \\\n",
       "0                    None   crown   35.88  526765906   \n",
       "1                    None    None  196.14  547009646   \n",
       "2  electronics.smartphone  xiaomi  258.57  554959825   \n",
       "\n",
       "                           user_session  \n",
       "0  2630981a-341a-4d78-84ce-ca22cab4b326  \n",
       "1  d0c40b81-b03d-4175-8b9b-41536fcb250f  \n",
       "2  097843d0-489b-432c-97f4-8b7f65be8f6e  "
      ]
     },
     "execution_count": 16,
     "metadata": {},
     "output_type": "execute_result"
    }
   ],
   "source": [
    "df.sample(3).to_pandas()"
   ]
  },
  {
   "cell_type": "code",
   "execution_count": 17,
   "id": "ed12040b-6150-4dd0-b256-a4eeaee5c09d",
   "metadata": {},
   "outputs": [
    {
     "data": {
      "text/html": [
       "<div><style>\n",
       ".dataframe > thead > tr,\n",
       ".dataframe > tbody > tr {\n",
       "  text-align: right;\n",
       "  white-space: pre-wrap;\n",
       "}\n",
       "</style>\n",
       "<small>shape: (5, 2)</small><table border=\"1\" class=\"dataframe\"><thead><tr><th>brand</th><th>price</th></tr><tr><td>str</td><td>f64</td></tr></thead><tbody><tr><td>&quot;xiaomi&quot;</td><td>489.07</td></tr><tr><td>&quot;janome&quot;</td><td>293.65</td></tr><tr><td>&quot;creed&quot;</td><td>28.31</td></tr><tr><td>&quot;lg&quot;</td><td>712.87</td></tr><tr><td>&quot;xiaomi&quot;</td><td>183.27</td></tr></tbody></table></div>"
      ],
      "text/plain": [
       "shape: (5, 2)\n",
       "┌────────┬────────┐\n",
       "│ brand  ┆ price  │\n",
       "│ ---    ┆ ---    │\n",
       "│ str    ┆ f64    │\n",
       "╞════════╪════════╡\n",
       "│ xiaomi ┆ 489.07 │\n",
       "│ janome ┆ 293.65 │\n",
       "│ creed  ┆ 28.31  │\n",
       "│ lg     ┆ 712.87 │\n",
       "│ xiaomi ┆ 183.27 │\n",
       "└────────┴────────┘"
      ]
     },
     "execution_count": 17,
     "metadata": {},
     "output_type": "execute_result"
    }
   ],
   "source": [
    "# sql select type\n",
    "df.select([\"brand\", \"price\"]).head()"
   ]
  },
  {
   "cell_type": "code",
   "execution_count": 20,
   "id": "6dd41685-3791-43b6-b840-9985427b557c",
   "metadata": {},
   "outputs": [
    {
     "data": {
      "text/html": [
       "<div><style>\n",
       ".dataframe > thead > tr,\n",
       ".dataframe > tbody > tr {\n",
       "  text-align: right;\n",
       "  white-space: pre-wrap;\n",
       "}\n",
       "</style>\n",
       "<small>shape: (2, 10)</small><table border=\"1\" class=\"dataframe\"><thead><tr><th>event_time</th><th>event_type</th><th>product_id</th><th>category_id</th><th>category_code</th><th>brand</th><th>price</th><th>user_id</th><th>user_session</th><th>price_x_100</th></tr><tr><td>str</td><td>str</td><td>i64</td><td>i64</td><td>str</td><td>str</td><td>f64</td><td>i64</td><td>str</td><td>f64</td></tr></thead><tbody><tr><td>&quot;2019-11-01 00:00:00 UTC&quot;</td><td>&quot;view&quot;</td><td>1003461</td><td>2053013555631882655</td><td>&quot;electronics.smartphone&quot;</td><td>&quot;xiaomi&quot;</td><td>489.07</td><td>520088904</td><td>&quot;4d3b30da-a5e4-49df-b1a8-ba5943…</td><td>48907.0</td></tr><tr><td>&quot;2019-11-01 00:00:00 UTC&quot;</td><td>&quot;view&quot;</td><td>5000088</td><td>2053013566100866035</td><td>&quot;appliances.sewing_machine&quot;</td><td>&quot;janome&quot;</td><td>293.65</td><td>530496790</td><td>&quot;8e5f4f83-366c-4f70-860e-ca7417…</td><td>29365.0</td></tr></tbody></table></div>"
      ],
      "text/plain": [
       "shape: (2, 10)\n",
       "┌────────────┬────────────┬───────────┬───────────┬───┬────────┬───────────┬───────────┬───────────┐\n",
       "│ event_time ┆ event_type ┆ product_i ┆ category_ ┆ … ┆ price  ┆ user_id   ┆ user_sess ┆ price_x_1 │\n",
       "│ ---        ┆ ---        ┆ d         ┆ id        ┆   ┆ ---    ┆ ---       ┆ ion       ┆ 00        │\n",
       "│ str        ┆ str        ┆ ---       ┆ ---       ┆   ┆ f64    ┆ i64       ┆ ---       ┆ ---       │\n",
       "│            ┆            ┆ i64       ┆ i64       ┆   ┆        ┆           ┆ str       ┆ f64       │\n",
       "╞════════════╪════════════╪═══════════╪═══════════╪═══╪════════╪═══════════╪═══════════╪═══════════╡\n",
       "│ 2019-11-01 ┆ view       ┆ 1003461   ┆ 205301355 ┆ … ┆ 489.07 ┆ 520088904 ┆ 4d3b30da- ┆ 48907.0   │\n",
       "│ 00:00:00   ┆            ┆           ┆ 563188265 ┆   ┆        ┆           ┆ a5e4-49df ┆           │\n",
       "│ UTC        ┆            ┆           ┆ 5         ┆   ┆        ┆           ┆ -b1a8-ba5 ┆           │\n",
       "│            ┆            ┆           ┆           ┆   ┆        ┆           ┆ 943…      ┆           │\n",
       "│ 2019-11-01 ┆ view       ┆ 5000088   ┆ 205301356 ┆ … ┆ 293.65 ┆ 530496790 ┆ 8e5f4f83- ┆ 29365.0   │\n",
       "│ 00:00:00   ┆            ┆           ┆ 610086603 ┆   ┆        ┆           ┆ 366c-4f70 ┆           │\n",
       "│ UTC        ┆            ┆           ┆ 5         ┆   ┆        ┆           ┆ -860e-ca7 ┆           │\n",
       "│            ┆            ┆           ┆           ┆   ┆        ┆           ┆ 417…      ┆           │\n",
       "└────────────┴────────────┴───────────┴───────────┴───┴────────┴───────────┴───────────┴───────────┘"
      ]
     },
     "execution_count": 20,
     "metadata": {},
     "output_type": "execute_result"
    }
   ],
   "source": [
    "# keep original columns and adds a new one\n",
    "df.with_columns([\n",
    "    (pl.col(\"price\") * 100).alias(\"price_x_100\")\n",
    "]).head(2)"
   ]
  },
  {
   "cell_type": "code",
   "execution_count": 21,
   "id": "b0d8a93a-54ad-43b9-8c40-2509cd9ed8a7",
   "metadata": {},
   "outputs": [
    {
     "data": {
      "text/html": [
       "<div><style>\n",
       ".dataframe > thead > tr,\n",
       ".dataframe > tbody > tr {\n",
       "  text-align: right;\n",
       "  white-space: pre-wrap;\n",
       "}\n",
       "</style>\n",
       "<small>shape: (5, 9)</small><table border=\"1\" class=\"dataframe\"><thead><tr><th>event_time</th><th>event_type</th><th>product_id</th><th>category_id</th><th>category_code</th><th>brand</th><th>price</th><th>user_id</th><th>user_session</th></tr><tr><td>str</td><td>str</td><td>i64</td><td>i64</td><td>str</td><td>str</td><td>f64</td><td>i64</td><td>str</td></tr></thead><tbody><tr><td>&quot;2019-11-01 00:00:27 UTC&quot;</td><td>&quot;view&quot;</td><td>1004237</td><td>2053013555631882655</td><td>&quot;electronics.smartphone&quot;</td><td>&quot;apple&quot;</td><td>1091.33</td><td>565404816</td><td>&quot;d9cf0ac4-c3ec-4e1f-83aa-326b1e…</td></tr><tr><td>&quot;2019-11-01 00:00:40 UTC&quot;</td><td>&quot;view&quot;</td><td>1005116</td><td>2053013555631882655</td><td>&quot;electronics.smartphone&quot;</td><td>&quot;apple&quot;</td><td>1013.86</td><td>532647354</td><td>&quot;d2d3d2c6-631d-489e-9fb5-06f340…</td></tr><tr><td>&quot;2019-11-01 00:00:41 UTC&quot;</td><td>&quot;view&quot;</td><td>1004241</td><td>2053013555631882655</td><td>&quot;electronics.smartphone&quot;</td><td>&quot;apple&quot;</td><td>1173.6</td><td>565404816</td><td>&quot;d9cf0ac4-c3ec-4e1f-83aa-326b1e…</td></tr><tr><td>&quot;2019-11-01 00:00:41 UTC&quot;</td><td>&quot;view&quot;</td><td>1004237</td><td>2053013555631882655</td><td>&quot;electronics.smartphone&quot;</td><td>&quot;apple&quot;</td><td>1091.33</td><td>519277091</td><td>&quot;62fadce6-aa4a-4dde-92fc-c04c22…</td></tr><tr><td>&quot;2019-11-01 00:00:51 UTC&quot;</td><td>&quot;view&quot;</td><td>1307012</td><td>2053013558920217191</td><td>&quot;computers.notebook&quot;</td><td>&quot;apple&quot;</td><td>2342.15</td><td>530857208</td><td>&quot;c69f9c63-7098-426c-97d9-8cb94a…</td></tr></tbody></table></div>"
      ],
      "text/plain": [
       "shape: (5, 9)\n",
       "┌────────────┬────────────┬────────────┬────────────┬───┬───────┬─────────┬───────────┬────────────┐\n",
       "│ event_time ┆ event_type ┆ product_id ┆ category_i ┆ … ┆ brand ┆ price   ┆ user_id   ┆ user_sessi │\n",
       "│ ---        ┆ ---        ┆ ---        ┆ d          ┆   ┆ ---   ┆ ---     ┆ ---       ┆ on         │\n",
       "│ str        ┆ str        ┆ i64        ┆ ---        ┆   ┆ str   ┆ f64     ┆ i64       ┆ ---        │\n",
       "│            ┆            ┆            ┆ i64        ┆   ┆       ┆         ┆           ┆ str        │\n",
       "╞════════════╪════════════╪════════════╪════════════╪═══╪═══════╪═════════╪═══════════╪════════════╡\n",
       "│ 2019-11-01 ┆ view       ┆ 1004237    ┆ 2053013555 ┆ … ┆ apple ┆ 1091.33 ┆ 565404816 ┆ d9cf0ac4-c │\n",
       "│ 00:00:27   ┆            ┆            ┆ 631882655  ┆   ┆       ┆         ┆           ┆ 3ec-4e1f-8 │\n",
       "│ UTC        ┆            ┆            ┆            ┆   ┆       ┆         ┆           ┆ 3aa-326b1e │\n",
       "│            ┆            ┆            ┆            ┆   ┆       ┆         ┆           ┆ …          │\n",
       "│ 2019-11-01 ┆ view       ┆ 1005116    ┆ 2053013555 ┆ … ┆ apple ┆ 1013.86 ┆ 532647354 ┆ d2d3d2c6-6 │\n",
       "│ 00:00:40   ┆            ┆            ┆ 631882655  ┆   ┆       ┆         ┆           ┆ 31d-489e-9 │\n",
       "│ UTC        ┆            ┆            ┆            ┆   ┆       ┆         ┆           ┆ fb5-06f340 │\n",
       "│            ┆            ┆            ┆            ┆   ┆       ┆         ┆           ┆ …          │\n",
       "│ 2019-11-01 ┆ view       ┆ 1004241    ┆ 2053013555 ┆ … ┆ apple ┆ 1173.6  ┆ 565404816 ┆ d9cf0ac4-c │\n",
       "│ 00:00:41   ┆            ┆            ┆ 631882655  ┆   ┆       ┆         ┆           ┆ 3ec-4e1f-8 │\n",
       "│ UTC        ┆            ┆            ┆            ┆   ┆       ┆         ┆           ┆ 3aa-326b1e │\n",
       "│            ┆            ┆            ┆            ┆   ┆       ┆         ┆           ┆ …          │\n",
       "│ 2019-11-01 ┆ view       ┆ 1004237    ┆ 2053013555 ┆ … ┆ apple ┆ 1091.33 ┆ 519277091 ┆ 62fadce6-a │\n",
       "│ 00:00:41   ┆            ┆            ┆ 631882655  ┆   ┆       ┆         ┆           ┆ a4a-4dde-9 │\n",
       "│ UTC        ┆            ┆            ┆            ┆   ┆       ┆         ┆           ┆ 2fc-c04c22 │\n",
       "│            ┆            ┆            ┆            ┆   ┆       ┆         ┆           ┆ …          │\n",
       "│ 2019-11-01 ┆ view       ┆ 1307012    ┆ 2053013558 ┆ … ┆ apple ┆ 2342.15 ┆ 530857208 ┆ c69f9c63-7 │\n",
       "│ 00:00:51   ┆            ┆            ┆ 920217191  ┆   ┆       ┆         ┆           ┆ 098-426c-9 │\n",
       "│ UTC        ┆            ┆            ┆            ┆   ┆       ┆         ┆           ┆ 7d9-8cb94a │\n",
       "│            ┆            ┆            ┆            ┆   ┆       ┆         ┆           ┆ …          │\n",
       "└────────────┴────────────┴────────────┴────────────┴───┴───────┴─────────┴───────────┴────────────┘"
      ]
     },
     "execution_count": 21,
     "metadata": {},
     "output_type": "execute_result"
    }
   ],
   "source": [
    "df.filter(\n",
    "    pl.col(\"price\") > 1_000\n",
    ").head()"
   ]
  },
  {
   "cell_type": "code",
   "execution_count": 28,
   "id": "21686d8b-21c5-47e6-a0aa-2aa145a104f0",
   "metadata": {},
   "outputs": [
    {
     "data": {
      "text/html": [
       "<div><style>\n",
       ".dataframe > thead > tr,\n",
       ".dataframe > tbody > tr {\n",
       "  text-align: right;\n",
       "  white-space: pre-wrap;\n",
       "}\n",
       "</style>\n",
       "<small>shape: (5, 9)</small><table border=\"1\" class=\"dataframe\"><thead><tr><th>event_time</th><th>event_type</th><th>product_id</th><th>category_id</th><th>category_code</th><th>brand</th><th>price</th><th>user_id</th><th>user_session</th></tr><tr><td>str</td><td>str</td><td>i64</td><td>i64</td><td>str</td><td>str</td><td>f64</td><td>i64</td><td>str</td></tr></thead><tbody><tr><td>&quot;2019-11-01 00:00:02 UTC&quot;</td><td>&quot;view&quot;</td><td>1004258</td><td>2053013555631882655</td><td>&quot;electronics.smartphone&quot;</td><td>&quot;apple&quot;</td><td>732.07</td><td>532647354</td><td>&quot;d2d3d2c6-631d-489e-9fb5-06f340…</td></tr><tr><td>&quot;2019-11-01 00:00:05 UTC&quot;</td><td>&quot;view&quot;</td><td>4600658</td><td>2053013563944993659</td><td>&quot;appliances.kitchen.dishwasher&quot;</td><td>&quot;samsung&quot;</td><td>411.83</td><td>526595547</td><td>&quot;aab33a9a-29c3-4d50-84c1-8a2bc9…</td></tr><tr><td>&quot;2019-11-01 00:00:10 UTC&quot;</td><td>&quot;view&quot;</td><td>1005115</td><td>2053013555631882655</td><td>&quot;electronics.smartphone&quot;</td><td>&quot;apple&quot;</td><td>949.47</td><td>562079864</td><td>&quot;0fe64462-83eb-4131-ab00-8e764d…</td></tr><tr><td>&quot;2019-11-01 00:00:14 UTC&quot;</td><td>&quot;view&quot;</td><td>1002544</td><td>2053013555631882655</td><td>&quot;electronics.smartphone&quot;</td><td>&quot;apple&quot;</td><td>458.28</td><td>549256216</td><td>&quot;dcbdc6e4-cd49-4ee8-95c5-e85f3c…</td></tr><tr><td>&quot;2019-11-01 00:00:14 UTC&quot;</td><td>&quot;cart&quot;</td><td>1005014</td><td>2053013555631882655</td><td>&quot;electronics.smartphone&quot;</td><td>&quot;samsung&quot;</td><td>503.09</td><td>533326659</td><td>&quot;6b928be2-2bce-4640-8296-0efdf2…</td></tr></tbody></table></div>"
      ],
      "text/plain": [
       "shape: (5, 9)\n",
       "┌────────────┬────────────┬────────────┬────────────┬───┬─────────┬────────┬───────────┬───────────┐\n",
       "│ event_time ┆ event_type ┆ product_id ┆ category_i ┆ … ┆ brand   ┆ price  ┆ user_id   ┆ user_sess │\n",
       "│ ---        ┆ ---        ┆ ---        ┆ d          ┆   ┆ ---     ┆ ---    ┆ ---       ┆ ion       │\n",
       "│ str        ┆ str        ┆ i64        ┆ ---        ┆   ┆ str     ┆ f64    ┆ i64       ┆ ---       │\n",
       "│            ┆            ┆            ┆ i64        ┆   ┆         ┆        ┆           ┆ str       │\n",
       "╞════════════╪════════════╪════════════╪════════════╪═══╪═════════╪════════╪═══════════╪═══════════╡\n",
       "│ 2019-11-01 ┆ view       ┆ 1004258    ┆ 2053013555 ┆ … ┆ apple   ┆ 732.07 ┆ 532647354 ┆ d2d3d2c6- │\n",
       "│ 00:00:02   ┆            ┆            ┆ 631882655  ┆   ┆         ┆        ┆           ┆ 631d-489e │\n",
       "│ UTC        ┆            ┆            ┆            ┆   ┆         ┆        ┆           ┆ -9fb5-06f │\n",
       "│            ┆            ┆            ┆            ┆   ┆         ┆        ┆           ┆ 340…      │\n",
       "│ 2019-11-01 ┆ view       ┆ 4600658    ┆ 2053013563 ┆ … ┆ samsung ┆ 411.83 ┆ 526595547 ┆ aab33a9a- │\n",
       "│ 00:00:05   ┆            ┆            ┆ 944993659  ┆   ┆         ┆        ┆           ┆ 29c3-4d50 │\n",
       "│ UTC        ┆            ┆            ┆            ┆   ┆         ┆        ┆           ┆ -84c1-8a2 │\n",
       "│            ┆            ┆            ┆            ┆   ┆         ┆        ┆           ┆ bc9…      │\n",
       "│ 2019-11-01 ┆ view       ┆ 1005115    ┆ 2053013555 ┆ … ┆ apple   ┆ 949.47 ┆ 562079864 ┆ 0fe64462- │\n",
       "│ 00:00:10   ┆            ┆            ┆ 631882655  ┆   ┆         ┆        ┆           ┆ 83eb-4131 │\n",
       "│ UTC        ┆            ┆            ┆            ┆   ┆         ┆        ┆           ┆ -ab00-8e7 │\n",
       "│            ┆            ┆            ┆            ┆   ┆         ┆        ┆           ┆ 64d…      │\n",
       "│ 2019-11-01 ┆ view       ┆ 1002544    ┆ 2053013555 ┆ … ┆ apple   ┆ 458.28 ┆ 549256216 ┆ dcbdc6e4- │\n",
       "│ 00:00:14   ┆            ┆            ┆ 631882655  ┆   ┆         ┆        ┆           ┆ cd49-4ee8 │\n",
       "│ UTC        ┆            ┆            ┆            ┆   ┆         ┆        ┆           ┆ -95c5-e85 │\n",
       "│            ┆            ┆            ┆            ┆   ┆         ┆        ┆           ┆ f3c…      │\n",
       "│ 2019-11-01 ┆ cart       ┆ 1005014    ┆ 2053013555 ┆ … ┆ samsung ┆ 503.09 ┆ 533326659 ┆ 6b928be2- │\n",
       "│ 00:00:14   ┆            ┆            ┆ 631882655  ┆   ┆         ┆        ┆           ┆ 2bce-4640 │\n",
       "│ UTC        ┆            ┆            ┆            ┆   ┆         ┆        ┆           ┆ -8296-0ef │\n",
       "│            ┆            ┆            ┆            ┆   ┆         ┆        ┆           ┆ df2…      │\n",
       "└────────────┴────────────┴────────────┴────────────┴───┴─────────┴────────┴───────────┴───────────┘"
      ]
     },
     "execution_count": 28,
     "metadata": {},
     "output_type": "execute_result"
    }
   ],
   "source": [
    "df.filter(\n",
    "    pl.col(\"brand\").is_in([\"apple\", \"samsung\", \"motorola\"])\n",
    ").head()"
   ]
  },
  {
   "cell_type": "code",
   "execution_count": 36,
   "id": "5e145ed5-a7b8-4ca2-a224-11412535fa0b",
   "metadata": {},
   "outputs": [
    {
     "data": {
      "text/html": [
       "<div><style>\n",
       ".dataframe > thead > tr,\n",
       ".dataframe > tbody > tr {\n",
       "  text-align: right;\n",
       "  white-space: pre-wrap;\n",
       "}\n",
       "</style>\n",
       "<small>shape: (5, 9)</small><table border=\"1\" class=\"dataframe\"><thead><tr><th>event_time</th><th>event_type</th><th>product_id</th><th>category_id</th><th>category_code</th><th>brand</th><th>price</th><th>user_id</th><th>user_session</th></tr><tr><td>str</td><td>str</td><td>i64</td><td>i64</td><td>str</td><td>str</td><td>f64</td><td>i64</td><td>str</td></tr></thead><tbody><tr><td>&quot;2019-11-01 00:00:02 UTC&quot;</td><td>&quot;view&quot;</td><td>1004258</td><td>2053013555631882655</td><td>&quot;electronics.smartphone&quot;</td><td>&quot;apple&quot;</td><td>732.07</td><td>532647354</td><td>&quot;d2d3d2c6-631d-489e-9fb5-06f340…</td></tr><tr><td>&quot;2019-11-01 00:00:05 UTC&quot;</td><td>&quot;view&quot;</td><td>4600658</td><td>2053013563944993659</td><td>&quot;appliances.kitchen.dishwasher&quot;</td><td>&quot;samsung&quot;</td><td>411.83</td><td>526595547</td><td>&quot;aab33a9a-29c3-4d50-84c1-8a2bc9…</td></tr><tr><td>&quot;2019-11-01 00:00:10 UTC&quot;</td><td>&quot;view&quot;</td><td>1005115</td><td>2053013555631882655</td><td>&quot;electronics.smartphone&quot;</td><td>&quot;apple&quot;</td><td>949.47</td><td>562079864</td><td>&quot;0fe64462-83eb-4131-ab00-8e764d…</td></tr><tr><td>&quot;2019-11-01 00:00:14 UTC&quot;</td><td>&quot;view&quot;</td><td>1002544</td><td>2053013555631882655</td><td>&quot;electronics.smartphone&quot;</td><td>&quot;apple&quot;</td><td>458.28</td><td>549256216</td><td>&quot;dcbdc6e4-cd49-4ee8-95c5-e85f3c…</td></tr><tr><td>&quot;2019-11-01 00:00:14 UTC&quot;</td><td>&quot;cart&quot;</td><td>1005014</td><td>2053013555631882655</td><td>&quot;electronics.smartphone&quot;</td><td>&quot;samsung&quot;</td><td>503.09</td><td>533326659</td><td>&quot;6b928be2-2bce-4640-8296-0efdf2…</td></tr></tbody></table></div>"
      ],
      "text/plain": [
       "shape: (5, 9)\n",
       "┌────────────┬────────────┬────────────┬────────────┬───┬─────────┬────────┬───────────┬───────────┐\n",
       "│ event_time ┆ event_type ┆ product_id ┆ category_i ┆ … ┆ brand   ┆ price  ┆ user_id   ┆ user_sess │\n",
       "│ ---        ┆ ---        ┆ ---        ┆ d          ┆   ┆ ---     ┆ ---    ┆ ---       ┆ ion       │\n",
       "│ str        ┆ str        ┆ i64        ┆ ---        ┆   ┆ str     ┆ f64    ┆ i64       ┆ ---       │\n",
       "│            ┆            ┆            ┆ i64        ┆   ┆         ┆        ┆           ┆ str       │\n",
       "╞════════════╪════════════╪════════════╪════════════╪═══╪═════════╪════════╪═══════════╪═══════════╡\n",
       "│ 2019-11-01 ┆ view       ┆ 1004258    ┆ 2053013555 ┆ … ┆ apple   ┆ 732.07 ┆ 532647354 ┆ d2d3d2c6- │\n",
       "│ 00:00:02   ┆            ┆            ┆ 631882655  ┆   ┆         ┆        ┆           ┆ 631d-489e │\n",
       "│ UTC        ┆            ┆            ┆            ┆   ┆         ┆        ┆           ┆ -9fb5-06f │\n",
       "│            ┆            ┆            ┆            ┆   ┆         ┆        ┆           ┆ 340…      │\n",
       "│ 2019-11-01 ┆ view       ┆ 4600658    ┆ 2053013563 ┆ … ┆ samsung ┆ 411.83 ┆ 526595547 ┆ aab33a9a- │\n",
       "│ 00:00:05   ┆            ┆            ┆ 944993659  ┆   ┆         ┆        ┆           ┆ 29c3-4d50 │\n",
       "│ UTC        ┆            ┆            ┆            ┆   ┆         ┆        ┆           ┆ -84c1-8a2 │\n",
       "│            ┆            ┆            ┆            ┆   ┆         ┆        ┆           ┆ bc9…      │\n",
       "│ 2019-11-01 ┆ view       ┆ 1005115    ┆ 2053013555 ┆ … ┆ apple   ┆ 949.47 ┆ 562079864 ┆ 0fe64462- │\n",
       "│ 00:00:10   ┆            ┆            ┆ 631882655  ┆   ┆         ┆        ┆           ┆ 83eb-4131 │\n",
       "│ UTC        ┆            ┆            ┆            ┆   ┆         ┆        ┆           ┆ -ab00-8e7 │\n",
       "│            ┆            ┆            ┆            ┆   ┆         ┆        ┆           ┆ 64d…      │\n",
       "│ 2019-11-01 ┆ view       ┆ 1002544    ┆ 2053013555 ┆ … ┆ apple   ┆ 458.28 ┆ 549256216 ┆ dcbdc6e4- │\n",
       "│ 00:00:14   ┆            ┆            ┆ 631882655  ┆   ┆         ┆        ┆           ┆ cd49-4ee8 │\n",
       "│ UTC        ┆            ┆            ┆            ┆   ┆         ┆        ┆           ┆ -95c5-e85 │\n",
       "│            ┆            ┆            ┆            ┆   ┆         ┆        ┆           ┆ f3c…      │\n",
       "│ 2019-11-01 ┆ cart       ┆ 1005014    ┆ 2053013555 ┆ … ┆ samsung ┆ 503.09 ┆ 533326659 ┆ 6b928be2- │\n",
       "│ 00:00:14   ┆            ┆            ┆ 631882655  ┆   ┆         ┆        ┆           ┆ 2bce-4640 │\n",
       "│ UTC        ┆            ┆            ┆            ┆   ┆         ┆        ┆           ┆ -8296-0ef │\n",
       "│            ┆            ┆            ┆            ┆   ┆         ┆        ┆           ┆ df2…      │\n",
       "└────────────┴────────────┴────────────┴────────────┴───┴─────────┴────────┴───────────┴───────────┘"
      ]
     },
     "execution_count": 36,
     "metadata": {},
     "output_type": "execute_result"
    }
   ],
   "source": [
    "# df.filter(\n",
    "#     pl.col(\"brand\").is_in([\"apple\", \"samsung\", \"motorola\"]),\n",
    "#     pl.col(\"price\") > 2_000,\n",
    "# ).count(),\n",
    "\n",
    "df.filter(\n",
    "    pl.col(\"brand\").is_in([\"apple\", \"samsung\", \"motorola\"]),\n",
    "    pl.col(\"price\") < 1_000,\n",
    ").head()"
   ]
  },
  {
   "cell_type": "markdown",
   "id": "45a9ca51-36a8-42a0-aea7-63f2390d5d61",
   "metadata": {},
   "source": [
    "# computation on the select context"
   ]
  },
  {
   "cell_type": "code",
   "execution_count": 37,
   "id": "800254a4-a412-4bd4-b807-dd36b92390d0",
   "metadata": {},
   "outputs": [
    {
     "data": {
      "text/html": [
       "<div><style>\n",
       ".dataframe > thead > tr,\n",
       ".dataframe > tbody > tr {\n",
       "  text-align: right;\n",
       "  white-space: pre-wrap;\n",
       "}\n",
       "</style>\n",
       "<small>shape: (1, 1)</small><table border=\"1\" class=\"dataframe\"><thead><tr><th>product_id</th></tr><tr><td>u32</td></tr></thead><tbody><tr><td>190662</td></tr></tbody></table></div>"
      ],
      "text/plain": [
       "shape: (1, 1)\n",
       "┌────────────┐\n",
       "│ product_id │\n",
       "│ ---        │\n",
       "│ u32        │\n",
       "╞════════════╡\n",
       "│ 190662     │\n",
       "└────────────┘"
      ]
     },
     "execution_count": 37,
     "metadata": {},
     "output_type": "execute_result"
    }
   ],
   "source": [
    "df.select([\n",
    "    pl.col(\"product_id\").n_unique()\n",
    "])"
   ]
  },
  {
   "cell_type": "code",
   "execution_count": 38,
   "id": "fe27d2a4-1c2e-4a01-b6b2-62f31542b49d",
   "metadata": {},
   "outputs": [
    {
     "data": {
      "text/html": [
       "<div><style>\n",
       ".dataframe > thead > tr,\n",
       ".dataframe > tbody > tr {\n",
       "  text-align: right;\n",
       "  white-space: pre-wrap;\n",
       "}\n",
       "</style>\n",
       "<small>shape: (1, 5)</small><table border=\"1\" class=\"dataframe\"><thead><tr><th>min</th><th>mean</th><th>median</th><th>max</th><th>std</th></tr><tr><td>f64</td><td>f64</td><td>f64</td><td>f64</td><td>f64</td></tr></thead><tbody><tr><td>0.0</td><td>292.459317</td><td>165.77</td><td>2574.07</td><td>355.6745</td></tr></tbody></table></div>"
      ],
      "text/plain": [
       "shape: (1, 5)\n",
       "┌─────┬────────────┬────────┬─────────┬──────────┐\n",
       "│ min ┆ mean       ┆ median ┆ max     ┆ std      │\n",
       "│ --- ┆ ---        ┆ ---    ┆ ---     ┆ ---      │\n",
       "│ f64 ┆ f64        ┆ f64    ┆ f64     ┆ f64      │\n",
       "╞═════╪════════════╪════════╪═════════╪══════════╡\n",
       "│ 0.0 ┆ 292.459317 ┆ 165.77 ┆ 2574.07 ┆ 355.6745 │\n",
       "└─────┴────────────┴────────┴─────────┴──────────┘"
      ]
     },
     "execution_count": 38,
     "metadata": {},
     "output_type": "execute_result"
    }
   ],
   "source": [
    "df.select([\n",
    "    pl.col(\"price\").min().alias(\"min\"),\n",
    "    pl.col(\"price\").mean().alias(\"mean\"),\n",
    "    pl.col(\"price\").median().alias(\"median\"),\n",
    "    pl.col(\"price\").max().alias(\"max\"),\n",
    "    pl.col(\"price\").std().alias(\"std\"),\n",
    "])"
   ]
  },
  {
   "cell_type": "code",
   "execution_count": 40,
   "id": "65ee9275-be90-4bf6-ba75-4885ec2ff735",
   "metadata": {},
   "outputs": [
    {
     "data": {
      "text/html": [
       "<div><style>\n",
       ".dataframe > thead > tr,\n",
       ".dataframe > tbody > tr {\n",
       "  text-align: right;\n",
       "  white-space: pre-wrap;\n",
       "}\n",
       "</style>\n",
       "<small>shape: (9, 2)</small><table border=\"1\" class=\"dataframe\"><thead><tr><th>statistic</th><th>price</th></tr><tr><td>str</td><td>f64</td></tr></thead><tbody><tr><td>&quot;count&quot;</td><td>6.7501979e7</td></tr><tr><td>&quot;null_count&quot;</td><td>0.0</td></tr><tr><td>&quot;mean&quot;</td><td>292.459317</td></tr><tr><td>&quot;std&quot;</td><td>355.6745</td></tr><tr><td>&quot;min&quot;</td><td>0.0</td></tr><tr><td>&quot;25%&quot;</td><td>69.24</td></tr><tr><td>&quot;50%&quot;</td><td>165.77</td></tr><tr><td>&quot;75%&quot;</td><td>360.34</td></tr><tr><td>&quot;max&quot;</td><td>2574.07</td></tr></tbody></table></div>"
      ],
      "text/plain": [
       "shape: (9, 2)\n",
       "┌────────────┬─────────────┐\n",
       "│ statistic  ┆ price       │\n",
       "│ ---        ┆ ---         │\n",
       "│ str        ┆ f64         │\n",
       "╞════════════╪═════════════╡\n",
       "│ count      ┆ 6.7501979e7 │\n",
       "│ null_count ┆ 0.0         │\n",
       "│ mean       ┆ 292.459317  │\n",
       "│ std        ┆ 355.6745    │\n",
       "│ min        ┆ 0.0         │\n",
       "│ 25%        ┆ 69.24       │\n",
       "│ 50%        ┆ 165.77      │\n",
       "│ 75%        ┆ 360.34      │\n",
       "│ max        ┆ 2574.07     │\n",
       "└────────────┴─────────────┘"
      ]
     },
     "execution_count": 40,
     "metadata": {},
     "output_type": "execute_result"
    }
   ],
   "source": [
    "df.select([\n",
    "    pl.col(\"price\")\n",
    "]).describe()"
   ]
  },
  {
   "cell_type": "code",
   "execution_count": 42,
   "id": "43dfaab1-b9e6-476b-8962-20e044ac4c2b",
   "metadata": {},
   "outputs": [
    {
     "data": {
      "text/html": [
       "<div><style>\n",
       ".dataframe > thead > tr,\n",
       ".dataframe > tbody > tr {\n",
       "  text-align: right;\n",
       "  white-space: pre-wrap;\n",
       "}\n",
       "</style>\n",
       "<small>shape: (3, 1)</small><table border=\"1\" class=\"dataframe\"><thead><tr><th>price</th></tr><tr><td>f64</td></tr></thead><tbody><tr><td>124.3</td></tr><tr><td>136.4</td></tr><tr><td>23.4</td></tr></tbody></table></div>"
      ],
      "text/plain": [
       "shape: (3, 1)\n",
       "┌───────┐\n",
       "│ price │\n",
       "│ ---   │\n",
       "│ f64   │\n",
       "╞═══════╡\n",
       "│ 124.3 │\n",
       "│ 136.4 │\n",
       "│ 23.4  │\n",
       "└───────┘"
      ]
     },
     "execution_count": 42,
     "metadata": {},
     "output_type": "execute_result"
    }
   ],
   "source": [
    "price = df.select([\n",
    "    pl.col(\"price\")\n",
    "])\n",
    "price.sample(3)"
   ]
  },
  {
   "cell_type": "code",
   "execution_count": 47,
   "id": "44225520-1609-47f9-8cc0-00bf6db4f320",
   "metadata": {},
   "outputs": [
    {
     "data": {
      "text/html": [
       "<div>\n",
       "<style scoped>\n",
       "    .dataframe tbody tr th:only-of-type {\n",
       "        vertical-align: middle;\n",
       "    }\n",
       "\n",
       "    .dataframe tbody tr th {\n",
       "        vertical-align: top;\n",
       "    }\n",
       "\n",
       "    .dataframe thead th {\n",
       "        text-align: right;\n",
       "    }\n",
       "</style>\n",
       "<table border=\"1\" class=\"dataframe\">\n",
       "  <thead>\n",
       "    <tr style=\"text-align: right;\">\n",
       "      <th></th>\n",
       "      <th>probs</th>\n",
       "      <th>percentiles</th>\n",
       "    </tr>\n",
       "  </thead>\n",
       "  <tbody>\n",
       "    <tr>\n",
       "      <th>0</th>\n",
       "      <td>0.00</td>\n",
       "      <td>0.00</td>\n",
       "    </tr>\n",
       "    <tr>\n",
       "      <th>1</th>\n",
       "      <td>0.25</td>\n",
       "      <td>69.24</td>\n",
       "    </tr>\n",
       "    <tr>\n",
       "      <th>2</th>\n",
       "      <td>0.50</td>\n",
       "      <td>165.77</td>\n",
       "    </tr>\n",
       "    <tr>\n",
       "      <th>3</th>\n",
       "      <td>0.75</td>\n",
       "      <td>360.34</td>\n",
       "    </tr>\n",
       "    <tr>\n",
       "      <th>4</th>\n",
       "      <td>1.00</td>\n",
       "      <td>2574.07</td>\n",
       "    </tr>\n",
       "  </tbody>\n",
       "</table>\n",
       "</div>"
      ],
      "text/plain": [
       "   probs  percentiles\n",
       "0   0.00         0.00\n",
       "1   0.25        69.24\n",
       "2   0.50       165.77\n",
       "3   0.75       360.34\n",
       "4   1.00      2574.07"
      ]
     },
     "execution_count": 47,
     "metadata": {},
     "output_type": "execute_result"
    }
   ],
   "source": [
    "probs = [0.0, 0.25, 0.5, 0.75, 1.0]\n",
    "percentiles = [price.quantile(prob)[0,0] for prob in probs]\n",
    "pd.DataFrame(dict(probs=probs, percentiles=percentiles))"
   ]
  },
  {
   "cell_type": "code",
   "execution_count": null,
   "id": "8bdb8499-0517-4520-80bf-bfec1c5d222d",
   "metadata": {},
   "outputs": [],
   "source": []
  }
 ],
 "metadata": {
  "kernelspec": {
   "display_name": "Python 3 (ipykernel)",
   "language": "python",
   "name": "python3"
  },
  "language_info": {
   "codemirror_mode": {
    "name": "ipython",
    "version": 3
   },
   "file_extension": ".py",
   "mimetype": "text/x-python",
   "name": "python",
   "nbconvert_exporter": "python",
   "pygments_lexer": "ipython3",
   "version": "3.11.7"
  }
 },
 "nbformat": 4,
 "nbformat_minor": 5
}
