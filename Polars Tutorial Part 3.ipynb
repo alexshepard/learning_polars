{
 "cells": [
  {
   "cell_type": "markdown",
   "id": "1b66cf3c-f41b-4859-83ec-0cf31e5957a2",
   "metadata": {},
   "source": [
    "# Polars Tutorial Part 3\n",
    "\n",
    "https://www.youtube.com/watch?v=UbcKZKPXhDA&list=PLo9Vi5B84_dfAuwJqNYG4XhZMrGTF3sBx&index=4"
   ]
  },
  {
   "cell_type": "code",
   "execution_count": 1,
   "id": "d2fc5762-ba5f-4b72-a2cb-a0ab788ff109",
   "metadata": {},
   "outputs": [],
   "source": [
    "import matplotlib.pyplot as plt\n",
    "import numpy as np\n",
    "import polars as pl\n",
    "import pandas as pd\n",
    "import pyarrow\n",
    "import seaborn as sns"
   ]
  },
  {
   "cell_type": "code",
   "execution_count": 2,
   "id": "24068fc8-d432-46c7-83c6-fedb4095246a",
   "metadata": {},
   "outputs": [],
   "source": [
    "data_file = \"/Users/alex/.cache/kagglehub/datasets/mkechinov/ecommerce-behavior-data-from-multi-category-store/versions/8/2019-Nov.csv\"\n",
    "df = pl.read_csv(data_file)"
   ]
  },
  {
   "cell_type": "markdown",
   "id": "d6d7d56c-eb1f-4b7c-af96-f9a383bbf4d3",
   "metadata": {},
   "source": [
    "### 1. Groupby - pl.count (one group)"
   ]
  },
  {
   "cell_type": "code",
   "execution_count": 5,
   "id": "f43055e0-615c-4433-ade1-e3661887f80b",
   "metadata": {},
   "outputs": [
    {
     "data": {
      "text/html": [
       "<div><style>\n",
       ".dataframe > thead > tr,\n",
       ".dataframe > tbody > tr {\n",
       "  text-align: right;\n",
       "  white-space: pre-wrap;\n",
       "}\n",
       "</style>\n",
       "<small>shape: (5, 2)</small><table border=\"1\" class=\"dataframe\"><thead><tr><th>brand</th><th>len</th></tr><tr><td>str</td><td>u32</td></tr></thead><tbody><tr><td>&quot;meccano&quot;</td><td>6</td></tr><tr><td>&quot;pika&quot;</td><td>71</td></tr><tr><td>&quot;magellan&quot;</td><td>2199</td></tr><tr><td>&quot;traxxas&quot;</td><td>268</td></tr><tr><td>&quot;interskol&quot;</td><td>82</td></tr></tbody></table></div>"
      ],
      "text/plain": [
       "shape: (5, 2)\n",
       "┌───────────┬──────┐\n",
       "│ brand     ┆ len  │\n",
       "│ ---       ┆ ---  │\n",
       "│ str       ┆ u32  │\n",
       "╞═══════════╪══════╡\n",
       "│ meccano   ┆ 6    │\n",
       "│ pika      ┆ 71   │\n",
       "│ magellan  ┆ 2199 │\n",
       "│ traxxas   ┆ 268  │\n",
       "│ interskol ┆ 82   │\n",
       "└───────────┴──────┘"
      ]
     },
     "execution_count": 5,
     "metadata": {},
     "output_type": "execute_result"
    }
   ],
   "source": [
    "# groupby -> group_by\n",
    "# pl.count() -> pl.len()\n",
    "\n",
    "df.group_by(\"brand\").agg([\n",
    "    pl.len()\n",
    "]).head()"
   ]
  },
  {
   "cell_type": "code",
   "execution_count": 16,
   "id": "7099e4e9-b09b-4a0a-bd13-85363f4c3c08",
   "metadata": {},
   "outputs": [
    {
     "data": {
      "text/html": [
       "<div><style>\n",
       ".dataframe > thead > tr,\n",
       ".dataframe > tbody > tr {\n",
       "  text-align: right;\n",
       "  white-space: pre-wrap;\n",
       "}\n",
       "</style>\n",
       "<small>shape: (5, 2)</small><table border=\"1\" class=\"dataframe\"><thead><tr><th>brand</th><th>len</th></tr><tr><td>str</td><td>u32</td></tr></thead><tbody><tr><td>null</td><td>9218235</td></tr><tr><td>&quot;samsung&quot;</td><td>7889245</td></tr><tr><td>&quot;apple&quot;</td><td>6259379</td></tr><tr><td>&quot;xiaomi&quot;</td><td>4638062</td></tr><tr><td>&quot;huawei&quot;</td><td>1410126</td></tr></tbody></table></div>"
      ],
      "text/plain": [
       "shape: (5, 2)\n",
       "┌─────────┬─────────┐\n",
       "│ brand   ┆ len     │\n",
       "│ ---     ┆ ---     │\n",
       "│ str     ┆ u32     │\n",
       "╞═════════╪═════════╡\n",
       "│ null    ┆ 9218235 │\n",
       "│ samsung ┆ 7889245 │\n",
       "│ apple   ┆ 6259379 │\n",
       "│ xiaomi  ┆ 4638062 │\n",
       "│ huawei  ┆ 1410126 │\n",
       "└─────────┴─────────┘"
      ]
     },
     "execution_count": 16,
     "metadata": {},
     "output_type": "execute_result"
    }
   ],
   "source": [
    "# sort(..., reverse=...) => sort(..., descending=...)\n",
    "\n",
    "# sorting an aggregation\n",
    "df.group_by(\"brand\").agg([\n",
    "    pl.len() \n",
    "]).sort(\"len\", descending=True).head()\n"
   ]
  },
  {
   "cell_type": "code",
   "execution_count": 19,
   "id": "91c01f43-5600-4897-b145-f288c5931b40",
   "metadata": {},
   "outputs": [
    {
     "data": {
      "text/html": [
       "<div><style>\n",
       ".dataframe > thead > tr,\n",
       ".dataframe > tbody > tr {\n",
       "  text-align: right;\n",
       "  white-space: pre-wrap;\n",
       "}\n",
       "</style>\n",
       "<small>shape: (5, 3)</small><table border=\"1\" class=\"dataframe\"><thead><tr><th>brand</th><th>len</th><th>n_pct</th></tr><tr><td>str</td><td>u32</td><td>f64</td></tr></thead><tbody><tr><td>null</td><td>9218235</td><td>0.136562</td></tr><tr><td>&quot;samsung&quot;</td><td>7889245</td><td>0.116874</td></tr><tr><td>&quot;apple&quot;</td><td>6259379</td><td>0.092729</td></tr><tr><td>&quot;xiaomi&quot;</td><td>4638062</td><td>0.06871</td></tr><tr><td>&quot;huawei&quot;</td><td>1410126</td><td>0.02089</td></tr></tbody></table></div>"
      ],
      "text/plain": [
       "shape: (5, 3)\n",
       "┌─────────┬─────────┬──────────┐\n",
       "│ brand   ┆ len     ┆ n_pct    │\n",
       "│ ---     ┆ ---     ┆ ---      │\n",
       "│ str     ┆ u32     ┆ f64      │\n",
       "╞═════════╪═════════╪══════════╡\n",
       "│ null    ┆ 9218235 ┆ 0.136562 │\n",
       "│ samsung ┆ 7889245 ┆ 0.116874 │\n",
       "│ apple   ┆ 6259379 ┆ 0.092729 │\n",
       "│ xiaomi  ┆ 4638062 ┆ 0.06871  │\n",
       "│ huawei  ┆ 1410126 ┆ 0.02089  │\n",
       "└─────────┴─────────┴──────────┘"
      ]
     },
     "execution_count": 19,
     "metadata": {},
     "output_type": "execute_result"
    }
   ],
   "source": [
    "# compute count and percent of instances\n",
    "(df.group_by(\"brand\")\n",
    "    .agg([ pl.len() ])\n",
    "    .sort(\"len\", descending=True)\n",
    "    .with_columns([\n",
    "        (pl.col(\"len\") / pl.col(\"len\").sum()).alias(\"n_pct\")\n",
    "    ])\n",
    "    .head()\n",
    ")"
   ]
  },
  {
   "cell_type": "markdown",
   "id": "aa2236c5-df65-4e6b-b0c4-78f62290ca56",
   "metadata": {},
   "source": [
    "#### value counts works as expected"
   ]
  },
  {
   "cell_type": "code",
   "execution_count": 22,
   "id": "9343181c-71d7-4540-9961-9836d1290b07",
   "metadata": {},
   "outputs": [
    {
     "data": {
      "text/html": [
       "<div><style>\n",
       ".dataframe > thead > tr,\n",
       ".dataframe > tbody > tr {\n",
       "  text-align: right;\n",
       "  white-space: pre-wrap;\n",
       "}\n",
       "</style>\n",
       "<small>shape: (3, 2)</small><table border=\"1\" class=\"dataframe\"><thead><tr><th>event_type</th><th>len</th></tr><tr><td>str</td><td>u32</td></tr></thead><tbody><tr><td>&quot;cart&quot;</td><td>3028930</td></tr><tr><td>&quot;view&quot;</td><td>63556110</td></tr><tr><td>&quot;purchase&quot;</td><td>916939</td></tr></tbody></table></div>"
      ],
      "text/plain": [
       "shape: (3, 2)\n",
       "┌────────────┬──────────┐\n",
       "│ event_type ┆ len      │\n",
       "│ ---        ┆ ---      │\n",
       "│ str        ┆ u32      │\n",
       "╞════════════╪══════════╡\n",
       "│ cart       ┆ 3028930  │\n",
       "│ view       ┆ 63556110 │\n",
       "│ purchase   ┆ 916939   │\n",
       "└────────────┴──────────┘"
      ]
     },
     "execution_count": 22,
     "metadata": {},
     "output_type": "execute_result"
    }
   ],
   "source": [
    "#df[\"event_type\"].value_counts()\n",
    "\n",
    "# more idiomatically in polars, and faster as well\n",
    "df.group_by(\"event_type\").agg(pl.len())"
   ]
  },
  {
   "cell_type": "markdown",
   "id": "bc83f5be-08c0-4068-a894-d3c9bce2c4d7",
   "metadata": {},
   "source": [
    "### 2. Groupby - pl.len (two groups)"
   ]
  },
  {
   "cell_type": "code",
   "execution_count": 26,
   "id": "b2408fe5-e13d-41a8-8ade-53c1d9045743",
   "metadata": {},
   "outputs": [
    {
     "data": {
      "text/html": [
       "<div><style>\n",
       ".dataframe > thead > tr,\n",
       ".dataframe > tbody > tr {\n",
       "  text-align: right;\n",
       "  white-space: pre-wrap;\n",
       "}\n",
       "</style>\n",
       "<small>shape: (5, 3)</small><table border=\"1\" class=\"dataframe\"><thead><tr><th>brand</th><th>event_type</th><th>len</th></tr><tr><td>str</td><td>str</td><td>u32</td></tr></thead><tbody><tr><td>&quot;awei&quot;</td><td>&quot;cart&quot;</td><td>285</td></tr><tr><td>&quot;blaupunkt&quot;</td><td>&quot;view&quot;</td><td>9674</td></tr><tr><td>&quot;olto&quot;</td><td>&quot;purchase&quot;</td><td>70</td></tr><tr><td>&quot;naturehike&quot;</td><td>&quot;cart&quot;</td><td>53</td></tr><tr><td>&quot;sariel&quot;</td><td>&quot;cart&quot;</td><td>9</td></tr></tbody></table></div>"
      ],
      "text/plain": [
       "shape: (5, 3)\n",
       "┌────────────┬────────────┬──────┐\n",
       "│ brand      ┆ event_type ┆ len  │\n",
       "│ ---        ┆ ---        ┆ ---  │\n",
       "│ str        ┆ str        ┆ u32  │\n",
       "╞════════════╪════════════╪══════╡\n",
       "│ awei       ┆ cart       ┆ 285  │\n",
       "│ blaupunkt  ┆ view       ┆ 9674 │\n",
       "│ olto       ┆ purchase   ┆ 70   │\n",
       "│ naturehike ┆ cart       ┆ 53   │\n",
       "│ sariel     ┆ cart       ┆ 9    │\n",
       "└────────────┴────────────┴──────┘"
      ]
     },
     "execution_count": 26,
     "metadata": {},
     "output_type": "execute_result"
    }
   ],
   "source": [
    "df_brand_event = df.group_by([\"brand\", \"event_type\"]).agg([\n",
    "    pl.len()\n",
    "])\n",
    "# long format\n",
    "df_brand_event.head()"
   ]
  },
  {
   "cell_type": "code",
   "execution_count": 28,
   "id": "17c8df32-1911-4390-b192-958d7a1a389c",
   "metadata": {},
   "outputs": [
    {
     "data": {
      "text/html": [
       "<div><style>\n",
       ".dataframe > thead > tr,\n",
       ".dataframe > tbody > tr {\n",
       "  text-align: right;\n",
       "  white-space: pre-wrap;\n",
       "}\n",
       "</style>\n",
       "<small>shape: (5, 4)</small><table border=\"1\" class=\"dataframe\"><thead><tr><th>brand</th><th>cart</th><th>view</th><th>purchase</th></tr><tr><td>str</td><td>u32</td><td>u32</td><td>u32</td></tr></thead><tbody><tr><td>&quot;awei&quot;</td><td>285</td><td>7152</td><td>65</td></tr><tr><td>&quot;blaupunkt&quot;</td><td>267</td><td>9674</td><td>54</td></tr><tr><td>&quot;olto&quot;</td><td>204</td><td>4690</td><td>70</td></tr><tr><td>&quot;naturehike&quot;</td><td>53</td><td>5024</td><td>17</td></tr><tr><td>&quot;sariel&quot;</td><td>9</td><td>721</td><td>4</td></tr></tbody></table></div>"
      ],
      "text/plain": [
       "shape: (5, 4)\n",
       "┌────────────┬──────┬──────┬──────────┐\n",
       "│ brand      ┆ cart ┆ view ┆ purchase │\n",
       "│ ---        ┆ ---  ┆ ---  ┆ ---      │\n",
       "│ str        ┆ u32  ┆ u32  ┆ u32      │\n",
       "╞════════════╪══════╪══════╪══════════╡\n",
       "│ awei       ┆ 285  ┆ 7152 ┆ 65       │\n",
       "│ blaupunkt  ┆ 267  ┆ 9674 ┆ 54       │\n",
       "│ olto       ┆ 204  ┆ 4690 ┆ 70       │\n",
       "│ naturehike ┆ 53   ┆ 5024 ┆ 17       │\n",
       "│ sariel     ┆ 9    ┆ 721  ┆ 4        │\n",
       "└────────────┴──────┴──────┴──────────┘"
      ]
     },
     "execution_count": 28,
     "metadata": {},
     "output_type": "execute_result"
    }
   ],
   "source": [
    "# pivot(..., columns=...) => pivot(..., on=...)\n",
    "\n",
    "# pivot to wide format\n",
    "df_brand_event_wide = df_brand_event.pivot(\n",
    "    values=\"len\",\n",
    "    index=[\"brand\"],\n",
    "    on=[\"event_type\"],\n",
    ")\n",
    "\n",
    "df_brand_event_wide.head()"
   ]
  },
  {
   "cell_type": "code",
   "execution_count": 40,
   "id": "e7aaef15-1731-4f47-8948-9eb5ab041174",
   "metadata": {},
   "outputs": [
    {
     "data": {
      "text/html": [
       "<div><style>\n",
       ".dataframe > thead > tr,\n",
       ".dataframe > tbody > tr {\n",
       "  text-align: right;\n",
       "  white-space: pre-wrap;\n",
       "}\n",
       "</style>\n",
       "<small>shape: (5, 4)</small><table border=\"1\" class=\"dataframe\"><thead><tr><th>brand</th><th>cart</th><th>view</th><th>purchase</th></tr><tr><td>str</td><td>u32</td><td>u32</td><td>u32</td></tr></thead><tbody><tr><td>&quot;samsung&quot;</td><td>597220</td><td>7091998</td><td>200027</td></tr><tr><td>&quot;apple&quot;</td><td>489665</td><td>5603650</td><td>166064</td></tr><tr><td>null</td><td>258242</td><td>8886720</td><td>73273</td></tr><tr><td>&quot;xiaomi&quot;</td><td>260019</td><td>4309751</td><td>68292</td></tr><tr><td>&quot;huawei&quot;</td><td>73760</td><td>1312663</td><td>23703</td></tr></tbody></table></div>"
      ],
      "text/plain": [
       "shape: (5, 4)\n",
       "┌─────────┬────────┬─────────┬──────────┐\n",
       "│ brand   ┆ cart   ┆ view    ┆ purchase │\n",
       "│ ---     ┆ ---    ┆ ---     ┆ ---      │\n",
       "│ str     ┆ u32    ┆ u32     ┆ u32      │\n",
       "╞═════════╪════════╪═════════╪══════════╡\n",
       "│ samsung ┆ 597220 ┆ 7091998 ┆ 200027   │\n",
       "│ apple   ┆ 489665 ┆ 5603650 ┆ 166064   │\n",
       "│ null    ┆ 258242 ┆ 8886720 ┆ 73273    │\n",
       "│ xiaomi  ┆ 260019 ┆ 4309751 ┆ 68292    │\n",
       "│ huawei  ┆ 73760  ┆ 1312663 ┆ 23703    │\n",
       "└─────────┴────────┴─────────┴──────────┘"
      ]
     },
     "execution_count": 40,
     "metadata": {},
     "output_type": "execute_result"
    }
   ],
   "source": [
    "# nulls are always sorted first unless you explicitly\n",
    "# place them last in polars\n",
    "\n",
    "# pivot and sorting\n",
    "df_brand_event_wide = (\n",
    "    df_brand_event\n",
    "    .pivot(\n",
    "        values=\"len\",\n",
    "        index=[\"brand\"],\n",
    "        on=[\"event_type\"],\n",
    "    )\n",
    "    .sort(\"purchase\", descending=True, nulls_last=True)\n",
    ")\n",
    "\n",
    "df_brand_event_wide.head()"
   ]
  },
  {
   "cell_type": "code",
   "execution_count": 49,
   "id": "5373eb3f-ff5e-4167-8d67-6fee625e0d58",
   "metadata": {},
   "outputs": [
    {
     "data": {
      "text/html": [
       "<div><style>\n",
       ".dataframe > thead > tr,\n",
       ".dataframe > tbody > tr {\n",
       "  text-align: right;\n",
       "  white-space: pre-wrap;\n",
       "}\n",
       "</style>\n",
       "<small>shape: (5, 7)</small><table border=\"1\" class=\"dataframe\"><thead><tr><th>brand</th><th>cart</th><th>view</th><th>purchase</th><th>cart_by_views</th><th>buy_by_cart</th><th>buy_by_views</th></tr><tr><td>str</td><td>u32</td><td>u32</td><td>u32</td><td>f64</td><td>f64</td><td>f64</td></tr></thead><tbody><tr><td>&quot;samsung&quot;</td><td>597220</td><td>7091998</td><td>200027</td><td>0.08421</td><td>0.33493</td><td>0.028205</td></tr><tr><td>&quot;apple&quot;</td><td>489665</td><td>5603650</td><td>166064</td><td>0.087383</td><td>0.339138</td><td>0.029635</td></tr><tr><td>null</td><td>258242</td><td>8886720</td><td>73273</td><td>0.029059</td><td>0.283738</td><td>0.008245</td></tr><tr><td>&quot;xiaomi&quot;</td><td>260019</td><td>4309751</td><td>68292</td><td>0.060333</td><td>0.262642</td><td>0.015846</td></tr><tr><td>&quot;huawei&quot;</td><td>73760</td><td>1312663</td><td>23703</td><td>0.056191</td><td>0.321353</td><td>0.018057</td></tr></tbody></table></div>"
      ],
      "text/plain": [
       "shape: (5, 7)\n",
       "┌─────────┬────────┬─────────┬──────────┬───────────────┬─────────────┬──────────────┐\n",
       "│ brand   ┆ cart   ┆ view    ┆ purchase ┆ cart_by_views ┆ buy_by_cart ┆ buy_by_views │\n",
       "│ ---     ┆ ---    ┆ ---     ┆ ---      ┆ ---           ┆ ---         ┆ ---          │\n",
       "│ str     ┆ u32    ┆ u32     ┆ u32      ┆ f64           ┆ f64         ┆ f64          │\n",
       "╞═════════╪════════╪═════════╪══════════╪═══════════════╪═════════════╪══════════════╡\n",
       "│ samsung ┆ 597220 ┆ 7091998 ┆ 200027   ┆ 0.08421       ┆ 0.33493     ┆ 0.028205     │\n",
       "│ apple   ┆ 489665 ┆ 5603650 ┆ 166064   ┆ 0.087383      ┆ 0.339138    ┆ 0.029635     │\n",
       "│ null    ┆ 258242 ┆ 8886720 ┆ 73273    ┆ 0.029059      ┆ 0.283738    ┆ 0.008245     │\n",
       "│ xiaomi  ┆ 260019 ┆ 4309751 ┆ 68292    ┆ 0.060333      ┆ 0.262642    ┆ 0.015846     │\n",
       "│ huawei  ┆ 73760  ┆ 1312663 ┆ 23703    ┆ 0.056191      ┆ 0.321353    ┆ 0.018057     │\n",
       "└─────────┴────────┴─────────┴──────────┴───────────────┴─────────────┴──────────────┘"
      ]
     },
     "execution_count": 49,
     "metadata": {},
     "output_type": "execute_result"
    }
   ],
   "source": [
    "# compute % values\n",
    "agg_performance = df_brand_event_wide.with_columns([\n",
    "    (pl.col(\"cart\") / pl.col(\"view\")).alias(\"cart_by_views\"),\n",
    "    (pl.col(\"purchase\") / pl.col(\"cart\")).alias(\"buy_by_cart\"),\n",
    "    (pl.col(\"purchase\") / pl.col(\"view\")).alias(\"buy_by_views\"),\n",
    "])\n",
    "\n",
    "agg_performance.head()"
   ]
  },
  {
   "cell_type": "code",
   "execution_count": 59,
   "id": "d82b0f8d-41f6-4743-9d3f-15a47926544f",
   "metadata": {},
   "outputs": [
    {
     "data": {
      "text/html": [
       "<div>\n",
       "<style scoped>\n",
       "    .dataframe tbody tr th:only-of-type {\n",
       "        vertical-align: middle;\n",
       "    }\n",
       "\n",
       "    .dataframe tbody tr th {\n",
       "        vertical-align: top;\n",
       "    }\n",
       "\n",
       "    .dataframe thead th {\n",
       "        text-align: right;\n",
       "    }\n",
       "</style>\n",
       "<table border=\"1\" class=\"dataframe\">\n",
       "  <thead>\n",
       "    <tr style=\"text-align: right;\">\n",
       "      <th></th>\n",
       "      <th>cart_by_views</th>\n",
       "      <th>buy_by_cart</th>\n",
       "      <th>buy_by_views</th>\n",
       "    </tr>\n",
       "  </thead>\n",
       "  <tbody>\n",
       "    <tr>\n",
       "      <th>0.00</th>\n",
       "      <td>0.001115</td>\n",
       "      <td>0.026810</td>\n",
       "      <td>0.000353</td>\n",
       "    </tr>\n",
       "    <tr>\n",
       "      <th>0.25</th>\n",
       "      <td>0.014640</td>\n",
       "      <td>0.210685</td>\n",
       "      <td>0.003704</td>\n",
       "    </tr>\n",
       "    <tr>\n",
       "      <th>0.50</th>\n",
       "      <td>0.024419</td>\n",
       "      <td>0.279579</td>\n",
       "      <td>0.006616</td>\n",
       "    </tr>\n",
       "    <tr>\n",
       "      <th>0.75</th>\n",
       "      <td>0.037220</td>\n",
       "      <td>0.343597</td>\n",
       "      <td>0.010874</td>\n",
       "    </tr>\n",
       "    <tr>\n",
       "      <th>0.99</th>\n",
       "      <td>0.121112</td>\n",
       "      <td>0.750000</td>\n",
       "      <td>0.043861</td>\n",
       "    </tr>\n",
       "    <tr>\n",
       "      <th>1.00</th>\n",
       "      <td>0.400000</td>\n",
       "      <td>0.900000</td>\n",
       "      <td>0.200000</td>\n",
       "    </tr>\n",
       "  </tbody>\n",
       "</table>\n",
       "</div>"
      ],
      "text/plain": [
       "      cart_by_views  buy_by_cart  buy_by_views\n",
       "0.00       0.001115     0.026810      0.000353\n",
       "0.25       0.014640     0.210685      0.003704\n",
       "0.50       0.024419     0.279579      0.006616\n",
       "0.75       0.037220     0.343597      0.010874\n",
       "0.99       0.121112     0.750000      0.043861\n",
       "1.00       0.400000     0.900000      0.200000"
      ]
     },
     "execution_count": 59,
     "metadata": {},
     "output_type": "execute_result"
    }
   ],
   "source": [
    "(agg_performance\n",
    "    .filter(pl.col(\"buy_by_cart\") < 1)\n",
    "    .select([\"cart_by_views\", \"buy_by_cart\", \"buy_by_views\"])\n",
    "    .to_pandas().quantile([0., 0.25, 0.5, 0.75, 0.99, 1])\n",
    ")"
   ]
  },
  {
   "cell_type": "code",
   "execution_count": 63,
   "id": "160b726e-7589-4536-9208-73362a8ad742",
   "metadata": {},
   "outputs": [
    {
     "data": {
      "image/png": "[encoded data removed]",
      "text/plain": [
       "<Figure size 640x480 with 1 Axes>"
      ]
     },
     "metadata": {},
     "output_type": "display_data"
    }
   ],
   "source": [
    "(agg_performance\n",
    "    .filter(pl.col(\"buy_by_cart\") < 1)\n",
    "    .select([\"cart_by_views\", \"buy_by_cart\", \"buy_by_views\"])\n",
    "    .to_pandas()\n",
    "    .quantile([0., 0.25, 0.5, 0.75, 0.99, 1])\n",
    "    .boxplot()\n",
    ")\n",
    "plt.show()"
   ]
  },
  {
   "cell_type": "markdown",
   "id": "58bea26a-8712-48d7-b8ac-a3c328e412a1",
   "metadata": {},
   "source": [
    "### 3. groupby - userid + 2 groups"
   ]
  },
  {
   "cell_type": "code",
   "execution_count": 65,
   "id": "b881eb2f-b64a-4fb6-b7c8-d7d2828852f7",
   "metadata": {},
   "outputs": [
    {
     "name": "stdout",
     "output_type": "stream",
     "text": [
      "CPU times: user 12.5 s, sys: 16.2 s, total: 28.7 s\n",
      "Wall time: 23.5 s\n"
     ]
    },
    {
     "data": {
      "text/html": [
       "<div><style>\n",
       ".dataframe > thead > tr,\n",
       ".dataframe > tbody > tr {\n",
       "  text-align: right;\n",
       "  white-space: pre-wrap;\n",
       "}\n",
       "</style>\n",
       "<small>shape: (5, 4)</small><table border=\"1\" class=\"dataframe\"><thead><tr><th>user_id</th><th>brand</th><th>event_type</th><th>len</th></tr><tr><td>i64</td><td>str</td><td>str</td><td>u32</td></tr></thead><tbody><tr><td>522966477</td><td>&quot;cifyurm&quot;</td><td>&quot;view&quot;</td><td>1</td></tr><tr><td>513589296</td><td>&quot;tp-link&quot;</td><td>&quot;view&quot;</td><td>1</td></tr><tr><td>514214661</td><td>&quot;navitel&quot;</td><td>&quot;view&quot;</td><td>3</td></tr><tr><td>518685340</td><td>&quot;sonel&quot;</td><td>&quot;cart&quot;</td><td>1</td></tr><tr><td>518661997</td><td>&quot;samsung&quot;</td><td>&quot;view&quot;</td><td>22</td></tr></tbody></table></div>"
      ],
      "text/plain": [
       "shape: (5, 4)\n",
       "┌───────────┬─────────┬────────────┬─────┐\n",
       "│ user_id   ┆ brand   ┆ event_type ┆ len │\n",
       "│ ---       ┆ ---     ┆ ---        ┆ --- │\n",
       "│ i64       ┆ str     ┆ str        ┆ u32 │\n",
       "╞═══════════╪═════════╪════════════╪═════╡\n",
       "│ 522966477 ┆ cifyurm ┆ view       ┆ 1   │\n",
       "│ 513589296 ┆ tp-link ┆ view       ┆ 1   │\n",
       "│ 514214661 ┆ navitel ┆ view       ┆ 3   │\n",
       "│ 518685340 ┆ sonel   ┆ cart       ┆ 1   │\n",
       "│ 518661997 ┆ samsung ┆ view       ┆ 22  │\n",
       "└───────────┴─────────┴────────────┴─────┘"
      ]
     },
     "execution_count": 65,
     "metadata": {},
     "output_type": "execute_result"
    }
   ],
   "source": [
    "%%time\n",
    "\n",
    "df_user_brand_event = (\n",
    "    df\n",
    "    .group_by([ \"user_id\", \"brand\", \"event_type\" ])\n",
    "    .agg([ pl.len() ])\n",
    ")\n",
    "df_user_brand_event.head()"
   ]
  },
  {
   "cell_type": "code",
   "execution_count": 66,
   "id": "ccbcda24-0f99-49b2-9508-cb56c7f16b88",
   "metadata": {},
   "outputs": [
    {
     "data": {
      "text/plain": [
       "(17798395, 4)"
      ]
     },
     "execution_count": 66,
     "metadata": {},
     "output_type": "execute_result"
    }
   ],
   "source": [
    "df_user_brand_event.shape"
   ]
  },
  {
   "cell_type": "code",
   "execution_count": 68,
   "id": "9578b1cc-8e35-4112-a346-6603b763ca93",
   "metadata": {},
   "outputs": [
    {
     "data": {
      "text/plain": [
       "(15905970, 5)"
      ]
     },
     "execution_count": 68,
     "metadata": {},
     "output_type": "execute_result"
    }
   ],
   "source": [
    "# pivot and sort\n",
    "df_user_brand_event = (\n",
    "    df_user_brand_event\n",
    "    .pivot(\n",
    "        values=\"len\",\n",
    "        index=[\"user_id\", \"brand\"],\n",
    "        on=[\"event_type\"],\n",
    "    )\n",
    "    .sort(\"purchase\", descending=True, nulls_last=True)\n",
    ")\n",
    "df_user_brand_event.shape"
   ]
  },
  {
   "cell_type": "code",
   "execution_count": 69,
   "id": "b2c3401d-09b1-47f7-84e9-91657f0c4495",
   "metadata": {},
   "outputs": [
    {
     "data": {
      "text/html": [
       "<div><style>\n",
       ".dataframe > thead > tr,\n",
       ".dataframe > tbody > tr {\n",
       "  text-align: right;\n",
       "  white-space: pre-wrap;\n",
       "}\n",
       "</style>\n",
       "<small>shape: (5, 5)</small><table border=\"1\" class=\"dataframe\"><thead><tr><th>user_id</th><th>brand</th><th>view</th><th>cart</th><th>purchase</th></tr><tr><td>i64</td><td>str</td><td>u32</td><td>u32</td><td>u32</td></tr></thead><tbody><tr><td>564068124</td><td>&quot;samsung&quot;</td><td>634</td><td>431</td><td>453</td></tr><tr><td>518514099</td><td>&quot;apple&quot;</td><td>314</td><td>206</td><td>190</td></tr><tr><td>549030056</td><td>&quot;samsung&quot;</td><td>313</td><td>300</td><td>180</td></tr><tr><td>543128872</td><td>&quot;apple&quot;</td><td>239</td><td>161</td><td>154</td></tr><tr><td>549109608</td><td>&quot;samsung&quot;</td><td>307</td><td>184</td><td>154</td></tr></tbody></table></div>"
      ],
      "text/plain": [
       "shape: (5, 5)\n",
       "┌───────────┬─────────┬──────┬──────┬──────────┐\n",
       "│ user_id   ┆ brand   ┆ view ┆ cart ┆ purchase │\n",
       "│ ---       ┆ ---     ┆ ---  ┆ ---  ┆ ---      │\n",
       "│ i64       ┆ str     ┆ u32  ┆ u32  ┆ u32      │\n",
       "╞═══════════╪═════════╪══════╪══════╪══════════╡\n",
       "│ 564068124 ┆ samsung ┆ 634  ┆ 431  ┆ 453      │\n",
       "│ 518514099 ┆ apple   ┆ 314  ┆ 206  ┆ 190      │\n",
       "│ 549030056 ┆ samsung ┆ 313  ┆ 300  ┆ 180      │\n",
       "│ 543128872 ┆ apple   ┆ 239  ┆ 161  ┆ 154      │\n",
       "│ 549109608 ┆ samsung ┆ 307  ┆ 184  ┆ 154      │\n",
       "└───────────┴─────────┴──────┴──────┴──────────┘"
      ]
     },
     "execution_count": 69,
     "metadata": {},
     "output_type": "execute_result"
    }
   ],
   "source": [
    "df_user_brand_event.head()"
   ]
  },
  {
   "cell_type": "code",
   "execution_count": 72,
   "id": "f221e283-6e12-4940-8a7f-32d36ee6d5bb",
   "metadata": {},
   "outputs": [],
   "source": [
    "# fillna\n",
    "\n",
    "df_user_brand_event = (\n",
    "    df_user_brand_event.with_columns([\n",
    "        pl.col(\"purchase\").fill_null(strategy=\"zero\"),\n",
    "        pl.col(\"view\").fill_null(strategy=\"zero\"),\n",
    "        pl.col(\"cart\").fill_null(strategy=\"zero\"),\n",
    "    ])\n",
    ")"
   ]
  },
  {
   "cell_type": "code",
   "execution_count": 73,
   "id": "8838b8ea-1785-4964-912d-f2b5cefdcdec",
   "metadata": {},
   "outputs": [
    {
     "data": {
      "text/html": [
       "<div><style>\n",
       ".dataframe > thead > tr,\n",
       ".dataframe > tbody > tr {\n",
       "  text-align: right;\n",
       "  white-space: pre-wrap;\n",
       "}\n",
       "</style>\n",
       "<small>shape: (10, 5)</small><table border=\"1\" class=\"dataframe\"><thead><tr><th>user_id</th><th>brand</th><th>view</th><th>cart</th><th>purchase</th></tr><tr><td>i64</td><td>str</td><td>u32</td><td>u32</td><td>u32</td></tr></thead><tbody><tr><td>517460980</td><td>null</td><td>3</td><td>0</td><td>0</td></tr><tr><td>529314712</td><td>&quot;huawei&quot;</td><td>1</td><td>0</td><td>0</td></tr><tr><td>569313557</td><td>&quot;hansa&quot;</td><td>1</td><td>0</td><td>0</td></tr><tr><td>557975605</td><td>&quot;cordiant&quot;</td><td>1</td><td>0</td><td>0</td></tr><tr><td>515204369</td><td>&quot;aoc&quot;</td><td>3</td><td>0</td><td>0</td></tr><tr><td>512986613</td><td>&quot;lucente&quot;</td><td>7</td><td>0</td><td>0</td></tr><tr><td>512766804</td><td>&quot;redmond&quot;</td><td>2</td><td>0</td><td>0</td></tr><tr><td>576637087</td><td>null</td><td>1</td><td>0</td><td>0</td></tr><tr><td>513416930</td><td>&quot;tigar&quot;</td><td>2</td><td>0</td><td>0</td></tr><tr><td>572865902</td><td>&quot;haier&quot;</td><td>1</td><td>0</td><td>0</td></tr></tbody></table></div>"
      ],
      "text/plain": [
       "shape: (10, 5)\n",
       "┌───────────┬──────────┬──────┬──────┬──────────┐\n",
       "│ user_id   ┆ brand    ┆ view ┆ cart ┆ purchase │\n",
       "│ ---       ┆ ---      ┆ ---  ┆ ---  ┆ ---      │\n",
       "│ i64       ┆ str      ┆ u32  ┆ u32  ┆ u32      │\n",
       "╞═══════════╪══════════╪══════╪══════╪══════════╡\n",
       "│ 517460980 ┆ null     ┆ 3    ┆ 0    ┆ 0        │\n",
       "│ 529314712 ┆ huawei   ┆ 1    ┆ 0    ┆ 0        │\n",
       "│ 569313557 ┆ hansa    ┆ 1    ┆ 0    ┆ 0        │\n",
       "│ 557975605 ┆ cordiant ┆ 1    ┆ 0    ┆ 0        │\n",
       "│ 515204369 ┆ aoc      ┆ 3    ┆ 0    ┆ 0        │\n",
       "│ 512986613 ┆ lucente  ┆ 7    ┆ 0    ┆ 0        │\n",
       "│ 512766804 ┆ redmond  ┆ 2    ┆ 0    ┆ 0        │\n",
       "│ 576637087 ┆ null     ┆ 1    ┆ 0    ┆ 0        │\n",
       "│ 513416930 ┆ tigar    ┆ 2    ┆ 0    ┆ 0        │\n",
       "│ 572865902 ┆ haier    ┆ 1    ┆ 0    ┆ 0        │\n",
       "└───────────┴──────────┴──────┴──────┴──────────┘"
      ]
     },
     "execution_count": 73,
     "metadata": {},
     "output_type": "execute_result"
    }
   ],
   "source": [
    "df_user_brand_event.sample(10)"
   ]
  },
  {
   "cell_type": "code",
   "execution_count": 75,
   "id": "1a35b193-0b9c-4ec1-b889-88dad3a46d16",
   "metadata": {},
   "outputs": [
    {
     "data": {
      "text/html": [
       "<div><style>\n",
       ".dataframe > thead > tr,\n",
       ".dataframe > tbody > tr {\n",
       "  text-align: right;\n",
       "  white-space: pre-wrap;\n",
       "}\n",
       "</style>\n",
       "<small>shape: (5, 5)</small><table border=\"1\" class=\"dataframe\"><thead><tr><th>user_id</th><th>brand</th><th>view</th><th>cart</th><th>purchase</th></tr><tr><td>i64</td><td>str</td><td>u32</td><td>u32</td><td>u32</td></tr></thead><tbody><tr><td>564068124</td><td>&quot;samsung&quot;</td><td>634</td><td>431</td><td>453</td></tr><tr><td>518514099</td><td>&quot;apple&quot;</td><td>314</td><td>206</td><td>190</td></tr><tr><td>549030056</td><td>&quot;samsung&quot;</td><td>313</td><td>300</td><td>180</td></tr><tr><td>543128872</td><td>&quot;apple&quot;</td><td>239</td><td>161</td><td>154</td></tr><tr><td>549109608</td><td>&quot;samsung&quot;</td><td>307</td><td>184</td><td>154</td></tr></tbody></table></div>"
      ],
      "text/plain": [
       "shape: (5, 5)\n",
       "┌───────────┬─────────┬──────┬──────┬──────────┐\n",
       "│ user_id   ┆ brand   ┆ view ┆ cart ┆ purchase │\n",
       "│ ---       ┆ ---     ┆ ---  ┆ ---  ┆ ---      │\n",
       "│ i64       ┆ str     ┆ u32  ┆ u32  ┆ u32      │\n",
       "╞═══════════╪═════════╪══════╪══════╪══════════╡\n",
       "│ 564068124 ┆ samsung ┆ 634  ┆ 431  ┆ 453      │\n",
       "│ 518514099 ┆ apple   ┆ 314  ┆ 206  ┆ 190      │\n",
       "│ 549030056 ┆ samsung ┆ 313  ┆ 300  ┆ 180      │\n",
       "│ 543128872 ┆ apple   ┆ 239  ┆ 161  ┆ 154      │\n",
       "│ 549109608 ┆ samsung ┆ 307  ┆ 184  ┆ 154      │\n",
       "└───────────┴─────────┴──────┴──────┴──────────┘"
      ]
     },
     "execution_count": 75,
     "metadata": {},
     "output_type": "execute_result"
    }
   ],
   "source": [
    "# likely resellers\n",
    "\n",
    "df_user_brand_event.head()"
   ]
  },
  {
   "cell_type": "code",
   "execution_count": 77,
   "id": "6b99ff7e-3fd5-4024-adba-7bf68693aabd",
   "metadata": {},
   "outputs": [],
   "source": [
    "df_user_brand_event = (\n",
    "    df_user_brand_event.with_columns(\n",
    "        (pl.col(\"purchase\") / pl.col(\"view\")).alias(\"pct_buy_views\")\n",
    "    )\n",
    ")"
   ]
  },
  {
   "cell_type": "code",
   "execution_count": 78,
   "id": "564c088f-e52b-4302-92de-dab669716737",
   "metadata": {},
   "outputs": [
    {
     "data": {
      "text/html": [
       "<div><style>\n",
       ".dataframe > thead > tr,\n",
       ".dataframe > tbody > tr {\n",
       "  text-align: right;\n",
       "  white-space: pre-wrap;\n",
       "}\n",
       "</style>\n",
       "<small>shape: (5, 6)</small><table border=\"1\" class=\"dataframe\"><thead><tr><th>user_id</th><th>brand</th><th>view</th><th>cart</th><th>purchase</th><th>pct_buy_views</th></tr><tr><td>i64</td><td>str</td><td>u32</td><td>u32</td><td>u32</td><td>f64</td></tr></thead><tbody><tr><td>564068124</td><td>&quot;samsung&quot;</td><td>634</td><td>431</td><td>453</td><td>0.714511</td></tr><tr><td>518514099</td><td>&quot;apple&quot;</td><td>314</td><td>206</td><td>190</td><td>0.605096</td></tr><tr><td>549030056</td><td>&quot;samsung&quot;</td><td>313</td><td>300</td><td>180</td><td>0.57508</td></tr><tr><td>543128872</td><td>&quot;apple&quot;</td><td>239</td><td>161</td><td>154</td><td>0.644351</td></tr><tr><td>549109608</td><td>&quot;samsung&quot;</td><td>307</td><td>184</td><td>154</td><td>0.501629</td></tr></tbody></table></div>"
      ],
      "text/plain": [
       "shape: (5, 6)\n",
       "┌───────────┬─────────┬──────┬──────┬──────────┬───────────────┐\n",
       "│ user_id   ┆ brand   ┆ view ┆ cart ┆ purchase ┆ pct_buy_views │\n",
       "│ ---       ┆ ---     ┆ ---  ┆ ---  ┆ ---      ┆ ---           │\n",
       "│ i64       ┆ str     ┆ u32  ┆ u32  ┆ u32      ┆ f64           │\n",
       "╞═══════════╪═════════╪══════╪══════╪══════════╪═══════════════╡\n",
       "│ 564068124 ┆ samsung ┆ 634  ┆ 431  ┆ 453      ┆ 0.714511      │\n",
       "│ 518514099 ┆ apple   ┆ 314  ┆ 206  ┆ 190      ┆ 0.605096      │\n",
       "│ 549030056 ┆ samsung ┆ 313  ┆ 300  ┆ 180      ┆ 0.57508       │\n",
       "│ 543128872 ┆ apple   ┆ 239  ┆ 161  ┆ 154      ┆ 0.644351      │\n",
       "│ 549109608 ┆ samsung ┆ 307  ┆ 184  ┆ 154      ┆ 0.501629      │\n",
       "└───────────┴─────────┴──────┴──────┴──────────┴───────────────┘"
      ]
     },
     "execution_count": 78,
     "metadata": {},
     "output_type": "execute_result"
    }
   ],
   "source": [
    "df_user_brand_event.head()"
   ]
  },
  {
   "cell_type": "code",
   "execution_count": 84,
   "id": "085c27a9-fd23-4a3f-b5be-3231fee9a261",
   "metadata": {},
   "outputs": [],
   "source": [
    "# vectorized if/else to handle when pct is infinite\n",
    "\n",
    "df_user_brand_event = (\n",
    "    df_user_brand_event.with_columns(\n",
    "        pl.when(pl.col(\"pct_buy_views\").is_infinite())\n",
    "                .then(None)\n",
    "                .otherwise(pl.col(\"pct_buy_views\"))      \n",
    "    )\n",
    ")"
   ]
  },
  {
   "cell_type": "code",
   "execution_count": 85,
   "id": "ed5a136b-59b5-4284-adac-298ed727a931",
   "metadata": {},
   "outputs": [
    {
     "data": {
      "text/html": [
       "<div><style>\n",
       ".dataframe > thead > tr,\n",
       ".dataframe > tbody > tr {\n",
       "  text-align: right;\n",
       "  white-space: pre-wrap;\n",
       "}\n",
       "</style>\n",
       "<small>shape: (5, 7)</small><table border=\"1\" class=\"dataframe\"><thead><tr><th>user_id</th><th>brand</th><th>view</th><th>cart</th><th>purchase</th><th>pct_buy_views</th><th>literal</th></tr><tr><td>i64</td><td>str</td><td>u32</td><td>u32</td><td>u32</td><td>f64</td><td>f64</td></tr></thead><tbody><tr><td>529775852</td><td>&quot;apple&quot;</td><td>2</td><td>0</td><td>0</td><td>0.0</td><td>0.0</td></tr><tr><td>542203475</td><td>&quot;qvs&quot;</td><td>1</td><td>0</td><td>0</td><td>0.0</td><td>0.0</td></tr><tr><td>532393713</td><td>&quot;acuvue&quot;</td><td>7</td><td>2</td><td>0</td><td>0.0</td><td>0.0</td></tr><tr><td>512367870</td><td>&quot;luminarc&quot;</td><td>1</td><td>0</td><td>0</td><td>0.0</td><td>0.0</td></tr><tr><td>570243903</td><td>&quot;puma&quot;</td><td>1</td><td>0</td><td>0</td><td>0.0</td><td>0.0</td></tr></tbody></table></div>"
      ],
      "text/plain": [
       "shape: (5, 7)\n",
       "┌───────────┬──────────┬──────┬──────┬──────────┬───────────────┬─────────┐\n",
       "│ user_id   ┆ brand    ┆ view ┆ cart ┆ purchase ┆ pct_buy_views ┆ literal │\n",
       "│ ---       ┆ ---      ┆ ---  ┆ ---  ┆ ---      ┆ ---           ┆ ---     │\n",
       "│ i64       ┆ str      ┆ u32  ┆ u32  ┆ u32      ┆ f64           ┆ f64     │\n",
       "╞═══════════╪══════════╪══════╪══════╪══════════╪═══════════════╪═════════╡\n",
       "│ 529775852 ┆ apple    ┆ 2    ┆ 0    ┆ 0        ┆ 0.0           ┆ 0.0     │\n",
       "│ 542203475 ┆ qvs      ┆ 1    ┆ 0    ┆ 0        ┆ 0.0           ┆ 0.0     │\n",
       "│ 532393713 ┆ acuvue   ┆ 7    ┆ 2    ┆ 0        ┆ 0.0           ┆ 0.0     │\n",
       "│ 512367870 ┆ luminarc ┆ 1    ┆ 0    ┆ 0        ┆ 0.0           ┆ 0.0     │\n",
       "│ 570243903 ┆ puma     ┆ 1    ┆ 0    ┆ 0        ┆ 0.0           ┆ 0.0     │\n",
       "└───────────┴──────────┴──────┴──────┴──────────┴───────────────┴─────────┘"
      ]
     },
     "execution_count": 85,
     "metadata": {},
     "output_type": "execute_result"
    }
   ],
   "source": [
    "df_user_brand_event.sample(5)"
   ]
  },
  {
   "cell_type": "code",
   "execution_count": null,
   "id": "4258fec0-5765-4efb-9efe-3660310c6f44",
   "metadata": {},
   "outputs": [],
   "source": []
  }
 ],
 "metadata": {
  "kernelspec": {
   "display_name": "Python 3 (ipykernel)",
   "language": "python",
   "name": "python3"
  },
  "language_info": {
   "codemirror_mode": {
    "name": "ipython",
    "version": 3
   },
   "file_extension": ".py",
   "mimetype": "text/x-python",
   "name": "python",
   "nbconvert_exporter": "python",
   "pygments_lexer": "ipython3",
   "version": "3.11.7"
  }
 },
 "nbformat": 4,
 "nbformat_minor": 5
}
