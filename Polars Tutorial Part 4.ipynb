{
 "cells": [
  {
   "cell_type": "markdown",
   "id": "f88621ef-57bc-4b78-9ad1-64dadfff7999",
   "metadata": {},
   "source": [
    "# Polars Tutorial Part 4\n",
    "\n",
    "https://www.youtube.com/watch?v=w26V2p9fC5A&list=PLo9Vi5B84_dfAuwJqNYG4XhZMrGTF3sBx&index=6\n",
    "\n",
    "### Group-by & RFM analysis\n",
    "- Recency: did they make a purchase recently?\n",
    "- Frequency: How often do they make a purchase?\n",
    "- Monetary: How much do they spend?"
   ]
  },
  {
   "cell_type": "code",
   "execution_count": 32,
   "id": "72e6313d-ded7-49c6-9ee7-578e9297f965",
   "metadata": {},
   "outputs": [],
   "source": [
    "from datetime import datetime\n",
    "\n",
    "import matplotlib.pyplot as plt\n",
    "import numpy as np\n",
    "import pandas as pd\n",
    "import polars as pl\n",
    "import pyarrow\n",
    "import seaborn as sns"
   ]
  },
  {
   "cell_type": "code",
   "execution_count": null,
   "id": "81a6a162-ad79-4d6c-a729-2ab4f20d7fe9",
   "metadata": {},
   "outputs": [],
   "source": []
  },
  {
   "cell_type": "code",
   "execution_count": 12,
   "id": "9befe5e7-8e58-443d-ac88-6208b1c497d0",
   "metadata": {},
   "outputs": [],
   "source": [
    "data_file = \"/Users/alex/.cache/kagglehub/datasets/mkechinov/ecommerce-behavior-data-from-multi-category-store/versions/8/2019-Nov.csv\"\n",
    "df = pl.read_csv(\n",
    "    data_file,\n",
    ")"
   ]
  },
  {
   "cell_type": "code",
   "execution_count": 13,
   "id": "b03a3b20-a449-4a99-b734-68df18a63a8e",
   "metadata": {},
   "outputs": [
    {
     "data": {
      "text/plain": [
       "(67501979, 9)"
      ]
     },
     "execution_count": 13,
     "metadata": {},
     "output_type": "execute_result"
    }
   ],
   "source": [
    "df.shape"
   ]
  },
  {
   "cell_type": "code",
   "execution_count": 14,
   "id": "3bfe45e2-8bd9-4e86-9a38-bbda94eaadac",
   "metadata": {},
   "outputs": [
    {
     "data": {
      "text/html": [
       "<div><style>\n",
       ".dataframe > thead > tr,\n",
       ".dataframe > tbody > tr {\n",
       "  text-align: right;\n",
       "  white-space: pre-wrap;\n",
       "}\n",
       "</style>\n",
       "<small>shape: (5, 9)</small><table border=\"1\" class=\"dataframe\"><thead><tr><th>event_time</th><th>event_type</th><th>product_id</th><th>category_id</th><th>category_code</th><th>brand</th><th>price</th><th>user_id</th><th>user_session</th></tr><tr><td>str</td><td>str</td><td>i64</td><td>i64</td><td>str</td><td>str</td><td>f64</td><td>i64</td><td>str</td></tr></thead><tbody><tr><td>&quot;2019-11-01 00:00:00 UTC&quot;</td><td>&quot;view&quot;</td><td>1003461</td><td>2053013555631882655</td><td>&quot;electronics.smartphone&quot;</td><td>&quot;xiaomi&quot;</td><td>489.07</td><td>520088904</td><td>&quot;4d3b30da-a5e4-49df-b1a8-ba5943…</td></tr><tr><td>&quot;2019-11-01 00:00:00 UTC&quot;</td><td>&quot;view&quot;</td><td>5000088</td><td>2053013566100866035</td><td>&quot;appliances.sewing_machine&quot;</td><td>&quot;janome&quot;</td><td>293.65</td><td>530496790</td><td>&quot;8e5f4f83-366c-4f70-860e-ca7417…</td></tr><tr><td>&quot;2019-11-01 00:00:01 UTC&quot;</td><td>&quot;view&quot;</td><td>17302664</td><td>2053013553853497655</td><td>null</td><td>&quot;creed&quot;</td><td>28.31</td><td>561587266</td><td>&quot;755422e7-9040-477b-9bd2-6a6e8f…</td></tr><tr><td>&quot;2019-11-01 00:00:01 UTC&quot;</td><td>&quot;view&quot;</td><td>3601530</td><td>2053013563810775923</td><td>&quot;appliances.kitchen.washer&quot;</td><td>&quot;lg&quot;</td><td>712.87</td><td>518085591</td><td>&quot;3bfb58cd-7892-48cc-8020-2f17e6…</td></tr><tr><td>&quot;2019-11-01 00:00:01 UTC&quot;</td><td>&quot;view&quot;</td><td>1004775</td><td>2053013555631882655</td><td>&quot;electronics.smartphone&quot;</td><td>&quot;xiaomi&quot;</td><td>183.27</td><td>558856683</td><td>&quot;313628f1-68b8-460d-84f6-cec7a8…</td></tr></tbody></table></div>"
      ],
      "text/plain": [
       "shape: (5, 9)\n",
       "┌────────────┬────────────┬────────────┬────────────┬───┬────────┬────────┬───────────┬────────────┐\n",
       "│ event_time ┆ event_type ┆ product_id ┆ category_i ┆ … ┆ brand  ┆ price  ┆ user_id   ┆ user_sessi │\n",
       "│ ---        ┆ ---        ┆ ---        ┆ d          ┆   ┆ ---    ┆ ---    ┆ ---       ┆ on         │\n",
       "│ str        ┆ str        ┆ i64        ┆ ---        ┆   ┆ str    ┆ f64    ┆ i64       ┆ ---        │\n",
       "│            ┆            ┆            ┆ i64        ┆   ┆        ┆        ┆           ┆ str        │\n",
       "╞════════════╪════════════╪════════════╪════════════╪═══╪════════╪════════╪═══════════╪════════════╡\n",
       "│ 2019-11-01 ┆ view       ┆ 1003461    ┆ 2053013555 ┆ … ┆ xiaomi ┆ 489.07 ┆ 520088904 ┆ 4d3b30da-a │\n",
       "│ 00:00:00   ┆            ┆            ┆ 631882655  ┆   ┆        ┆        ┆           ┆ 5e4-49df-b │\n",
       "│ UTC        ┆            ┆            ┆            ┆   ┆        ┆        ┆           ┆ 1a8-ba5943 │\n",
       "│            ┆            ┆            ┆            ┆   ┆        ┆        ┆           ┆ …          │\n",
       "│ 2019-11-01 ┆ view       ┆ 5000088    ┆ 2053013566 ┆ … ┆ janome ┆ 293.65 ┆ 530496790 ┆ 8e5f4f83-3 │\n",
       "│ 00:00:00   ┆            ┆            ┆ 100866035  ┆   ┆        ┆        ┆           ┆ 66c-4f70-8 │\n",
       "│ UTC        ┆            ┆            ┆            ┆   ┆        ┆        ┆           ┆ 60e-ca7417 │\n",
       "│            ┆            ┆            ┆            ┆   ┆        ┆        ┆           ┆ …          │\n",
       "│ 2019-11-01 ┆ view       ┆ 17302664   ┆ 2053013553 ┆ … ┆ creed  ┆ 28.31  ┆ 561587266 ┆ 755422e7-9 │\n",
       "│ 00:00:01   ┆            ┆            ┆ 853497655  ┆   ┆        ┆        ┆           ┆ 040-477b-9 │\n",
       "│ UTC        ┆            ┆            ┆            ┆   ┆        ┆        ┆           ┆ bd2-6a6e8f │\n",
       "│            ┆            ┆            ┆            ┆   ┆        ┆        ┆           ┆ …          │\n",
       "│ 2019-11-01 ┆ view       ┆ 3601530    ┆ 2053013563 ┆ … ┆ lg     ┆ 712.87 ┆ 518085591 ┆ 3bfb58cd-7 │\n",
       "│ 00:00:01   ┆            ┆            ┆ 810775923  ┆   ┆        ┆        ┆           ┆ 892-48cc-8 │\n",
       "│ UTC        ┆            ┆            ┆            ┆   ┆        ┆        ┆           ┆ 020-2f17e6 │\n",
       "│            ┆            ┆            ┆            ┆   ┆        ┆        ┆           ┆ …          │\n",
       "│ 2019-11-01 ┆ view       ┆ 1004775    ┆ 2053013555 ┆ … ┆ xiaomi ┆ 183.27 ┆ 558856683 ┆ 313628f1-6 │\n",
       "│ 00:00:01   ┆            ┆            ┆ 631882655  ┆   ┆        ┆        ┆           ┆ 8b8-460d-8 │\n",
       "│ UTC        ┆            ┆            ┆            ┆   ┆        ┆        ┆           ┆ 4f6-cec7a8 │\n",
       "│            ┆            ┆            ┆            ┆   ┆        ┆        ┆           ┆ …          │\n",
       "└────────────┴────────────┴────────────┴────────────┴───┴────────┴────────┴───────────┴────────────┘"
      ]
     },
     "execution_count": 14,
     "metadata": {},
     "output_type": "execute_result"
    }
   ],
   "source": [
    "df.head()"
   ]
  },
  {
   "cell_type": "code",
   "execution_count": 23,
   "id": "6901a6b0-b5a5-4894-9d26-a585fe542191",
   "metadata": {},
   "outputs": [],
   "source": [
    "# date conversion in polars\n",
    "df = df.with_columns(\n",
    "    pl.col(\"event_time\").str.to_date(\n",
    "        format=\"%Y-%m-%d %H:%M:%S %Z\"\n",
    "    )\n",
    ")"
   ]
  },
  {
   "cell_type": "code",
   "execution_count": 29,
   "id": "6322702a-d14c-4e9a-8397-d8b77867a6a8",
   "metadata": {},
   "outputs": [
    {
     "data": {
      "text/html": [
       "<div><style>\n",
       ".dataframe > thead > tr,\n",
       ".dataframe > tbody > tr {\n",
       "  text-align: right;\n",
       "  white-space: pre-wrap;\n",
       "}\n",
       "</style>\n",
       "<small>shape: (5, 9)</small><table border=\"1\" class=\"dataframe\"><thead><tr><th>event_time</th><th>event_type</th><th>product_id</th><th>category_id</th><th>category_code</th><th>brand</th><th>price</th><th>user_id</th><th>user_session</th></tr><tr><td>date</td><td>str</td><td>i64</td><td>i64</td><td>str</td><td>str</td><td>f64</td><td>i64</td><td>str</td></tr></thead><tbody><tr><td>2019-11-19</td><td>&quot;view&quot;</td><td>9101665</td><td>2053013552888807671</td><td>&quot;computers.peripherals.mouse&quot;</td><td>&quot;defender&quot;</td><td>10.79</td><td>520088904</td><td>&quot;f443e47a-f346-47b5-82fb-6a2c40…</td></tr><tr><td>2019-11-15</td><td>&quot;view&quot;</td><td>4802960</td><td>2053013554658804075</td><td>&quot;electronics.audio.headphone&quot;</td><td>&quot;harper&quot;</td><td>20.28</td><td>520088904</td><td>&quot;bb7e87b8-0aa6-48b1-97a6-3178a2…</td></tr><tr><td>2019-11-13</td><td>&quot;view&quot;</td><td>4800675</td><td>2053013554658804075</td><td>&quot;electronics.audio.headphone&quot;</td><td>&quot;sony&quot;</td><td>14.93</td><td>520088904</td><td>&quot;e9882787-2f34-4cbd-80b0-70a8d0…</td></tr><tr><td>2019-11-01</td><td>&quot;view&quot;</td><td>1003898</td><td>2053013555631882655</td><td>&quot;electronics.smartphone&quot;</td><td>&quot;oneplus&quot;</td><td>540.3</td><td>520088904</td><td>&quot;4d3b30da-a5e4-49df-b1a8-ba5943…</td></tr><tr><td>2019-11-08</td><td>&quot;view&quot;</td><td>4800970</td><td>2053013554658804075</td><td>&quot;electronics.audio.headphone&quot;</td><td>&quot;sony&quot;</td><td>13.02</td><td>520088904</td><td>&quot;277ff36f-3e74-44b4-b573-03cf7c…</td></tr></tbody></table></div>"
      ],
      "text/plain": [
       "shape: (5, 9)\n",
       "┌────────────┬────────────┬────────────┬────────────┬───┬──────────┬───────┬───────────┬───────────┐\n",
       "│ event_time ┆ event_type ┆ product_id ┆ category_i ┆ … ┆ brand    ┆ price ┆ user_id   ┆ user_sess │\n",
       "│ ---        ┆ ---        ┆ ---        ┆ d          ┆   ┆ ---      ┆ ---   ┆ ---       ┆ ion       │\n",
       "│ date       ┆ str        ┆ i64        ┆ ---        ┆   ┆ str      ┆ f64   ┆ i64       ┆ ---       │\n",
       "│            ┆            ┆            ┆ i64        ┆   ┆          ┆       ┆           ┆ str       │\n",
       "╞════════════╪════════════╪════════════╪════════════╪═══╪══════════╪═══════╪═══════════╪═══════════╡\n",
       "│ 2019-11-19 ┆ view       ┆ 9101665    ┆ 2053013552 ┆ … ┆ defender ┆ 10.79 ┆ 520088904 ┆ f443e47a- │\n",
       "│            ┆            ┆            ┆ 888807671  ┆   ┆          ┆       ┆           ┆ f346-47b5 │\n",
       "│            ┆            ┆            ┆            ┆   ┆          ┆       ┆           ┆ -82fb-6a2 │\n",
       "│            ┆            ┆            ┆            ┆   ┆          ┆       ┆           ┆ c40…      │\n",
       "│ 2019-11-15 ┆ view       ┆ 4802960    ┆ 2053013554 ┆ … ┆ harper   ┆ 20.28 ┆ 520088904 ┆ bb7e87b8- │\n",
       "│            ┆            ┆            ┆ 658804075  ┆   ┆          ┆       ┆           ┆ 0aa6-48b1 │\n",
       "│            ┆            ┆            ┆            ┆   ┆          ┆       ┆           ┆ -97a6-317 │\n",
       "│            ┆            ┆            ┆            ┆   ┆          ┆       ┆           ┆ 8a2…      │\n",
       "│ 2019-11-13 ┆ view       ┆ 4800675    ┆ 2053013554 ┆ … ┆ sony     ┆ 14.93 ┆ 520088904 ┆ e9882787- │\n",
       "│            ┆            ┆            ┆ 658804075  ┆   ┆          ┆       ┆           ┆ 2f34-4cbd │\n",
       "│            ┆            ┆            ┆            ┆   ┆          ┆       ┆           ┆ -80b0-70a │\n",
       "│            ┆            ┆            ┆            ┆   ┆          ┆       ┆           ┆ 8d0…      │\n",
       "│ 2019-11-01 ┆ view       ┆ 1003898    ┆ 2053013555 ┆ … ┆ oneplus  ┆ 540.3 ┆ 520088904 ┆ 4d3b30da- │\n",
       "│            ┆            ┆            ┆ 631882655  ┆   ┆          ┆       ┆           ┆ a5e4-49df │\n",
       "│            ┆            ┆            ┆            ┆   ┆          ┆       ┆           ┆ -b1a8-ba5 │\n",
       "│            ┆            ┆            ┆            ┆   ┆          ┆       ┆           ┆ 943…      │\n",
       "│ 2019-11-08 ┆ view       ┆ 4800970    ┆ 2053013554 ┆ … ┆ sony     ┆ 13.02 ┆ 520088904 ┆ 277ff36f- │\n",
       "│            ┆            ┆            ┆ 658804075  ┆   ┆          ┆       ┆           ┆ 3e74-44b4 │\n",
       "│            ┆            ┆            ┆            ┆   ┆          ┆       ┆           ┆ -b573-03c │\n",
       "│            ┆            ┆            ┆            ┆   ┆          ┆       ┆           ┆ f7c…      │\n",
       "└────────────┴────────────┴────────────┴────────────┴───┴──────────┴───────┴───────────┴───────────┘"
      ]
     },
     "execution_count": 29,
     "metadata": {},
     "output_type": "execute_result"
    }
   ],
   "source": [
    "df.filter(pl.col(\"user_id\") == 520088904).sample(5)"
   ]
  },
  {
   "cell_type": "markdown",
   "id": "2fb0ecd0-346a-4388-a673-f6da0472a992",
   "metadata": {},
   "source": [
    "### 1. keep rows with purchases only"
   ]
  },
  {
   "cell_type": "code",
   "execution_count": 30,
   "id": "2e1caa8b-fdb7-43cb-b0f0-45c57404905a",
   "metadata": {},
   "outputs": [],
   "source": [
    "df_purchases = df.filter(\n",
    "    pl.col(\"event_type\") == \"purchase\"\n",
    ")"
   ]
  },
  {
   "cell_type": "code",
   "execution_count": 31,
   "id": "27c9cc74-acce-452b-9393-e21fb7416753",
   "metadata": {},
   "outputs": [
    {
     "data": {
      "text/plain": [
       "(916939, 9)"
      ]
     },
     "execution_count": 31,
     "metadata": {},
     "output_type": "execute_result"
    }
   ],
   "source": [
    "df_purchases.shape"
   ]
  },
  {
   "cell_type": "markdown",
   "id": "5253c176-684d-4a04-9009-724606dced8a",
   "metadata": {},
   "source": [
    "### 2. Let's compute RFM"
   ]
  },
  {
   "cell_type": "code",
   "execution_count": 35,
   "id": "f1606d3c-5768-4ec6-8439-ffc17e13db85",
   "metadata": {},
   "outputs": [],
   "source": [
    "# select unique purchases\n",
    "\n",
    "df_purchases = df_purchases.select([\n",
    "    \"event_time\", \"user_id\", \"price\"\n",
    "]).unique()"
   ]
  },
  {
   "cell_type": "code",
   "execution_count": 40,
   "id": "cd0100d3-82b8-4aac-a32f-c6af764e30f6",
   "metadata": {},
   "outputs": [
    {
     "data": {
      "text/plain": [
       "(808798, 3)"
      ]
     },
     "execution_count": 40,
     "metadata": {},
     "output_type": "execute_result"
    }
   ],
   "source": [
    "# i'm dropping more data than he did. why? \n",
    "# something to do with differences in date parsing?\n",
    "# or a change in polars since 0.20?\n",
    "\n",
    "df_purchases.shape"
   ]
  },
  {
   "cell_type": "code",
   "execution_count": 37,
   "id": "56535442-7f37-464b-a5e8-ac2041f413ea",
   "metadata": {},
   "outputs": [
    {
     "data": {
      "text/html": [
       "<div><style>\n",
       ".dataframe > thead > tr,\n",
       ".dataframe > tbody > tr {\n",
       "  text-align: right;\n",
       "  white-space: pre-wrap;\n",
       "}\n",
       "</style>\n",
       "<small>shape: (5, 3)</small><table border=\"1\" class=\"dataframe\"><thead><tr><th>event_time</th><th>user_id</th><th>price</th></tr><tr><td>date</td><td>i64</td><td>f64</td></tr></thead><tbody><tr><td>2019-11-17</td><td>555142820</td><td>204.36</td></tr><tr><td>2019-11-25</td><td>547615663</td><td>416.97</td></tr><tr><td>2019-11-24</td><td>532599375</td><td>19.82</td></tr><tr><td>2019-11-20</td><td>565672551</td><td>465.39</td></tr><tr><td>2019-11-03</td><td>566994804</td><td>141.55</td></tr></tbody></table></div>"
      ],
      "text/plain": [
       "shape: (5, 3)\n",
       "┌────────────┬───────────┬────────┐\n",
       "│ event_time ┆ user_id   ┆ price  │\n",
       "│ ---        ┆ ---       ┆ ---    │\n",
       "│ date       ┆ i64       ┆ f64    │\n",
       "╞════════════╪═══════════╪════════╡\n",
       "│ 2019-11-17 ┆ 555142820 ┆ 204.36 │\n",
       "│ 2019-11-25 ┆ 547615663 ┆ 416.97 │\n",
       "│ 2019-11-24 ┆ 532599375 ┆ 19.82  │\n",
       "│ 2019-11-20 ┆ 565672551 ┆ 465.39 │\n",
       "│ 2019-11-03 ┆ 566994804 ┆ 141.55 │\n",
       "└────────────┴───────────┴────────┘"
      ]
     },
     "execution_count": 37,
     "metadata": {},
     "output_type": "execute_result"
    }
   ],
   "source": [
    "df_purchases.head()"
   ]
  },
  {
   "cell_type": "markdown",
   "id": "ec738364-d788-4709-8758-571dfc610f72",
   "metadata": {},
   "source": [
    "#### compute time difference"
   ]
  },
  {
   "cell_type": "code",
   "execution_count": 41,
   "id": "af71d674-4d87-48d8-8d8f-d6cd8c580b92",
   "metadata": {},
   "outputs": [],
   "source": [
    "# last date of the dataset\n",
    "# so we can compute time difference from then\n",
    "\n",
    "anchor_date = datetime(2019, 11, 30)"
   ]
  },
  {
   "cell_type": "code",
   "execution_count": 45,
   "id": "f89e914c-c943-4e26-aa79-5c9fa53a3f65",
   "metadata": {},
   "outputs": [],
   "source": [
    "df_purchases = df_purchases.with_columns(\n",
    "    (anchor_date - pl.col(\"event_time\")).alias(\"date_diff\")\n",
    ")"
   ]
  },
  {
   "cell_type": "code",
   "execution_count": 46,
   "id": "13668d37-956d-41cf-b950-8642ea31973b",
   "metadata": {},
   "outputs": [
    {
     "data": {
      "text/html": [
       "<div><style>\n",
       ".dataframe > thead > tr,\n",
       ".dataframe > tbody > tr {\n",
       "  text-align: right;\n",
       "  white-space: pre-wrap;\n",
       "}\n",
       "</style>\n",
       "<small>shape: (5, 4)</small><table border=\"1\" class=\"dataframe\"><thead><tr><th>event_time</th><th>user_id</th><th>price</th><th>date_diff</th></tr><tr><td>date</td><td>i64</td><td>f64</td><td>duration[μs]</td></tr></thead><tbody><tr><td>2019-11-17</td><td>555142820</td><td>204.36</td><td>13d</td></tr><tr><td>2019-11-25</td><td>547615663</td><td>416.97</td><td>5d</td></tr><tr><td>2019-11-24</td><td>532599375</td><td>19.82</td><td>6d</td></tr><tr><td>2019-11-20</td><td>565672551</td><td>465.39</td><td>10d</td></tr><tr><td>2019-11-03</td><td>566994804</td><td>141.55</td><td>27d</td></tr></tbody></table></div>"
      ],
      "text/plain": [
       "shape: (5, 4)\n",
       "┌────────────┬───────────┬────────┬──────────────┐\n",
       "│ event_time ┆ user_id   ┆ price  ┆ date_diff    │\n",
       "│ ---        ┆ ---       ┆ ---    ┆ ---          │\n",
       "│ date       ┆ i64       ┆ f64    ┆ duration[μs] │\n",
       "╞════════════╪═══════════╪════════╪══════════════╡\n",
       "│ 2019-11-17 ┆ 555142820 ┆ 204.36 ┆ 13d          │\n",
       "│ 2019-11-25 ┆ 547615663 ┆ 416.97 ┆ 5d           │\n",
       "│ 2019-11-24 ┆ 532599375 ┆ 19.82  ┆ 6d           │\n",
       "│ 2019-11-20 ┆ 565672551 ┆ 465.39 ┆ 10d          │\n",
       "│ 2019-11-03 ┆ 566994804 ┆ 141.55 ┆ 27d          │\n",
       "└────────────┴───────────┴────────┴──────────────┘"
      ]
     },
     "execution_count": 46,
     "metadata": {},
     "output_type": "execute_result"
    }
   ],
   "source": [
    "df_purchases.head()"
   ]
  },
  {
   "cell_type": "code",
   "execution_count": 51,
   "id": "e3b81204-e7b6-40aa-a48e-6050fe025999",
   "metadata": {},
   "outputs": [],
   "source": [
    "df_agg = (df_purchases\n",
    "    .group_by(\"user_id\")\n",
    "    .agg([\n",
    "        pl.col(\"date_diff\").min().alias(\"recency\"),\n",
    "        pl.len().alias(\"frequency\"),\n",
    "        pl.col(\"price\").sum().alias(\"monetary\"),\n",
    "    ])\n",
    ")"
   ]
  },
  {
   "cell_type": "code",
   "execution_count": 52,
   "id": "934ab45a-55b2-47f8-8d36-01a5e7908651",
   "metadata": {},
   "outputs": [
    {
     "data": {
      "text/plain": [
       "(441638, 4)"
      ]
     },
     "execution_count": 52,
     "metadata": {},
     "output_type": "execute_result"
    }
   ],
   "source": [
    "df_agg.shape"
   ]
  },
  {
   "cell_type": "code",
   "execution_count": 53,
   "id": "e5a9b721-fbae-4af8-99b3-81d9cd88336c",
   "metadata": {},
   "outputs": [
    {
     "data": {
      "text/html": [
       "<div><style>\n",
       ".dataframe > thead > tr,\n",
       ".dataframe > tbody > tr {\n",
       "  text-align: right;\n",
       "  white-space: pre-wrap;\n",
       "}\n",
       "</style>\n",
       "<small>shape: (5, 4)</small><table border=\"1\" class=\"dataframe\"><thead><tr><th>user_id</th><th>recency</th><th>frequency</th><th>monetary</th></tr><tr><td>i64</td><td>duration[μs]</td><td>u32</td><td>f64</td></tr></thead><tbody><tr><td>525473843</td><td>14d</td><td>2</td><td>802.85</td></tr><tr><td>529679960</td><td>18d</td><td>1</td><td>123.17</td></tr><tr><td>566730599</td><td>27d</td><td>2</td><td>47.34</td></tr><tr><td>515580353</td><td>8d</td><td>1</td><td>102.94</td></tr><tr><td>574416613</td><td>9d</td><td>1</td><td>125.1</td></tr></tbody></table></div>"
      ],
      "text/plain": [
       "shape: (5, 4)\n",
       "┌───────────┬──────────────┬───────────┬──────────┐\n",
       "│ user_id   ┆ recency      ┆ frequency ┆ monetary │\n",
       "│ ---       ┆ ---          ┆ ---       ┆ ---      │\n",
       "│ i64       ┆ duration[μs] ┆ u32       ┆ f64      │\n",
       "╞═══════════╪══════════════╪═══════════╪══════════╡\n",
       "│ 525473843 ┆ 14d          ┆ 2         ┆ 802.85   │\n",
       "│ 529679960 ┆ 18d          ┆ 1         ┆ 123.17   │\n",
       "│ 566730599 ┆ 27d          ┆ 2         ┆ 47.34    │\n",
       "│ 515580353 ┆ 8d           ┆ 1         ┆ 102.94   │\n",
       "│ 574416613 ┆ 9d           ┆ 1         ┆ 125.1    │\n",
       "└───────────┴──────────────┴───────────┴──────────┘"
      ]
     },
     "execution_count": 53,
     "metadata": {},
     "output_type": "execute_result"
    }
   ],
   "source": [
    "df_agg.head()"
   ]
  },
  {
   "cell_type": "markdown",
   "id": "b0113061-3305-4b72-9870-ec237f32e0ee",
   "metadata": {},
   "source": [
    "### 3. convert to pandas for analysis and plotting"
   ]
  },
  {
   "cell_type": "code",
   "execution_count": 54,
   "id": "d8abde34-1a78-49d2-9eee-66bc476c20fe",
   "metadata": {},
   "outputs": [],
   "source": [
    "df_agg = df_agg.to_pandas()"
   ]
  },
  {
   "cell_type": "code",
   "execution_count": 56,
   "id": "9518668d-a03b-48e6-a930-a083a049213b",
   "metadata": {},
   "outputs": [
    {
     "data": {
      "text/html": [
       "<div>\n",
       "<style scoped>\n",
       "    .dataframe tbody tr th:only-of-type {\n",
       "        vertical-align: middle;\n",
       "    }\n",
       "\n",
       "    .dataframe tbody tr th {\n",
       "        vertical-align: top;\n",
       "    }\n",
       "\n",
       "    .dataframe thead th {\n",
       "        text-align: right;\n",
       "    }\n",
       "</style>\n",
       "<table border=\"1\" class=\"dataframe\">\n",
       "  <thead>\n",
       "    <tr style=\"text-align: right;\">\n",
       "      <th></th>\n",
       "      <th>recency</th>\n",
       "      <th>frequency</th>\n",
       "      <th>monetary</th>\n",
       "    </tr>\n",
       "  </thead>\n",
       "  <tbody>\n",
       "    <tr>\n",
       "      <th>0.0</th>\n",
       "      <td>0 days</td>\n",
       "      <td>1.0</td>\n",
       "      <td>0.770</td>\n",
       "    </tr>\n",
       "    <tr>\n",
       "      <th>0.1</th>\n",
       "      <td>2 days</td>\n",
       "      <td>1.0</td>\n",
       "      <td>42.470</td>\n",
       "    </tr>\n",
       "    <tr>\n",
       "      <th>0.2</th>\n",
       "      <td>5 days</td>\n",
       "      <td>1.0</td>\n",
       "      <td>80.830</td>\n",
       "    </tr>\n",
       "    <tr>\n",
       "      <th>0.3</th>\n",
       "      <td>9 days</td>\n",
       "      <td>1.0</td>\n",
       "      <td>127.350</td>\n",
       "    </tr>\n",
       "    <tr>\n",
       "      <th>0.4</th>\n",
       "      <td>13 days</td>\n",
       "      <td>1.0</td>\n",
       "      <td>169.370</td>\n",
       "    </tr>\n",
       "    <tr>\n",
       "      <th>0.5</th>\n",
       "      <td>13 days</td>\n",
       "      <td>1.0</td>\n",
       "      <td>237.030</td>\n",
       "    </tr>\n",
       "    <tr>\n",
       "      <th>0.6</th>\n",
       "      <td>13 days</td>\n",
       "      <td>1.0</td>\n",
       "      <td>311.564</td>\n",
       "    </tr>\n",
       "    <tr>\n",
       "      <th>0.7</th>\n",
       "      <td>16 days</td>\n",
       "      <td>2.0</td>\n",
       "      <td>463.070</td>\n",
       "    </tr>\n",
       "    <tr>\n",
       "      <th>0.8</th>\n",
       "      <td>20 days</td>\n",
       "      <td>2.0</td>\n",
       "      <td>737.960</td>\n",
       "    </tr>\n",
       "    <tr>\n",
       "      <th>0.9</th>\n",
       "      <td>25 days</td>\n",
       "      <td>3.0</td>\n",
       "      <td>1255.596</td>\n",
       "    </tr>\n",
       "    <tr>\n",
       "      <th>1.0</th>\n",
       "      <td>29 days</td>\n",
       "      <td>138.0</td>\n",
       "      <td>75563.370</td>\n",
       "    </tr>\n",
       "  </tbody>\n",
       "</table>\n",
       "</div>"
      ],
      "text/plain": [
       "    recency  frequency   monetary\n",
       "0.0  0 days        1.0      0.770\n",
       "0.1  2 days        1.0     42.470\n",
       "0.2  5 days        1.0     80.830\n",
       "0.3  9 days        1.0    127.350\n",
       "0.4 13 days        1.0    169.370\n",
       "0.5 13 days        1.0    237.030\n",
       "0.6 13 days        1.0    311.564\n",
       "0.7 16 days        2.0    463.070\n",
       "0.8 20 days        2.0    737.960\n",
       "0.9 25 days        3.0   1255.596\n",
       "1.0 29 days      138.0  75563.370"
      ]
     },
     "execution_count": 56,
     "metadata": {},
     "output_type": "execute_result"
    }
   ],
   "source": [
    "breaks = np.arange(0., 1.1, 0.1)\n",
    "num_vars = [\"recency\", \"frequency\", \"monetary\"]\n",
    "df_agg[num_vars].quantile(breaks)"
   ]
  },
  {
   "cell_type": "code",
   "execution_count": 59,
   "id": "048d9314-884b-4364-a4a3-6756c840f8e2",
   "metadata": {},
   "outputs": [
    {
     "data": {
      "text/plain": [
       "<Axes: >"
      ]
     },
     "execution_count": 59,
     "metadata": {},
     "output_type": "execute_result"
    },
    {
     "data": {
      "image/png": "[encoded data removed]",
      "text/plain": [
       "<Figure size 640x480 with 1 Axes>"
      ]
     },
     "metadata": {},
     "output_type": "display_data"
    }
   ],
   "source": [
    "df_agg[num_vars].quantile([0., 0.25, 0.5, 0.75, 0.1]).boxplot()"
   ]
  },
  {
   "cell_type": "code",
   "execution_count": null,
   "id": "15ccb721-2baa-4117-9559-a4561ccba9df",
   "metadata": {},
   "outputs": [],
   "source": []
  }
 ],
 "metadata": {
  "kernelspec": {
   "display_name": "Python 3 (ipykernel)",
   "language": "python",
   "name": "python3"
  },
  "language_info": {
   "codemirror_mode": {
    "name": "ipython",
    "version": 3
   },
   "file_extension": ".py",
   "mimetype": "text/x-python",
   "name": "python",
   "nbconvert_exporter": "python",
   "pygments_lexer": "ipython3",
   "version": "3.10.12"
  }
 },
 "nbformat": 4,
 "nbformat_minor": 5
}
