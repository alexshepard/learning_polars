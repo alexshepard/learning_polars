{
 "cells": [
  {
   "cell_type": "markdown",
   "id": "2c3c449a-8701-4148-afd6-298c7dc50f8a",
   "metadata": {},
   "source": [
    "# iNat AWS Export RFM Analysis\n",
    "\n",
    "working with data from s3://inaturalist-open-data/metadata/inaturalist-open-data-latest.tar.gz"
   ]
  },
  {
   "cell_type": "code",
   "execution_count": 21,
   "id": "0d081a0f-7658-4c7a-8e2e-49b21b38191c",
   "metadata": {},
   "outputs": [],
   "source": [
    "from datetime import datetime\n",
    "import os\n",
    "from pathlib import Path\n",
    "\n",
    "import numpy as np\n",
    "import polars as pl\n",
    "import pyarrow\n",
    "import seaborn as sns"
   ]
  },
  {
   "cell_type": "code",
   "execution_count": 2,
   "id": "e98814eb-f6cf-45e6-b2e9-8eef2bf5709d",
   "metadata": {},
   "outputs": [],
   "source": [
    "aws_ods_dir = Path(\"data/inaturalist-open-data-20240927/\")"
   ]
  },
  {
   "cell_type": "code",
   "execution_count": 28,
   "id": "22acb9ad-8183-4354-b860-d22603fca236",
   "metadata": {},
   "outputs": [],
   "source": [
    "obs = pl.read_csv(\n",
    "    aws_ods_dir / \"observations.csv\",\n",
    "    separator=\"\\t\",\n",
    "    try_parse_dates=True,\n",
    ")"
   ]
  },
  {
   "cell_type": "code",
   "execution_count": 29,
   "id": "b8511fad-b992-48b3-be7d-b73f24e632c4",
   "metadata": {},
   "outputs": [
    {
     "data": {
      "text/html": [
       "<div><style>\n",
       ".dataframe > thead > tr,\n",
       ".dataframe > tbody > tr {\n",
       "  text-align: right;\n",
       "  white-space: pre-wrap;\n",
       "}\n",
       "</style>\n",
       "<small>shape: (1, 1)</small><table border=\"1\" class=\"dataframe\"><thead><tr><th>observed_on</th></tr><tr><td>date</td></tr></thead><tbody><tr><td>2024-09-27</td></tr></tbody></table></div>"
      ],
      "text/plain": [
       "shape: (1, 1)\n",
       "┌─────────────┐\n",
       "│ observed_on │\n",
       "│ ---         │\n",
       "│ date        │\n",
       "╞═════════════╡\n",
       "│ 2024-09-27  │\n",
       "└─────────────┘"
      ]
     },
     "execution_count": 29,
     "metadata": {},
     "output_type": "execute_result"
    }
   ],
   "source": [
    "obs.select(\n",
    "    pl.col(\"observed_on\")\n",
    ").max()"
   ]
  },
  {
   "cell_type": "code",
   "execution_count": 30,
   "id": "f8fca2af-0f66-4ee4-9e72-630bd2301d36",
   "metadata": {},
   "outputs": [],
   "source": [
    "anchor_date = datetime(2024, 9, 27)"
   ]
  },
  {
   "cell_type": "code",
   "execution_count": 31,
   "id": "d2e9c382-843d-4739-90e6-4ccff3356848",
   "metadata": {},
   "outputs": [],
   "source": [
    "obs = obs.with_columns(\n",
    "    (anchor_date - pl.col(\"observed_on\")).alias(\"date_diff\")\n",
    ")"
   ]
  },
  {
   "cell_type": "code",
   "execution_count": 32,
   "id": "01949bf7-c1c9-4189-a56c-459cdb64c37d",
   "metadata": {},
   "outputs": [
    {
     "data": {
      "text/html": [
       "<div><style>\n",
       ".dataframe > thead > tr,\n",
       ".dataframe > tbody > tr {\n",
       "  text-align: right;\n",
       "  white-space: pre-wrap;\n",
       "}\n",
       "</style>\n",
       "<small>shape: (3, 9)</small><table border=\"1\" class=\"dataframe\"><thead><tr><th>observation_uuid</th><th>observer_id</th><th>latitude</th><th>longitude</th><th>positional_accuracy</th><th>taxon_id</th><th>quality_grade</th><th>observed_on</th><th>date_diff</th></tr><tr><td>str</td><td>i64</td><td>f64</td><td>f64</td><td>i64</td><td>i64</td><td>str</td><td>date</td><td>duration[μs]</td></tr></thead><tbody><tr><td>&quot;be702778-bd1d-49f4-8a9b-cafc03…</td><td>99304</td><td>38.560995</td><td>-121.610792</td><td>null</td><td>3836</td><td>&quot;needs_id&quot;</td><td>2019-12-23</td><td>1740d</td></tr><tr><td>&quot;97224a3f-ac9c-47ae-8008-b6045d…</td><td>2499917</td><td>42.127412</td><td>-88.143306</td><td>27692</td><td>84510</td><td>&quot;research&quot;</td><td>2020-07-21</td><td>1529d</td></tr><tr><td>&quot;73c6384b-7a27-4d7a-a1eb-ad85ec…</td><td>3696021</td><td>-5.754118</td><td>39.29013</td><td>47</td><td>64059</td><td>&quot;needs_id&quot;</td><td>2024-08-06</td><td>52d</td></tr></tbody></table></div>"
      ],
      "text/plain": [
       "shape: (3, 9)\n",
       "┌───────────┬───────────┬───────────┬───────────┬───┬──────────┬───────────┬───────────┬───────────┐\n",
       "│ observati ┆ observer_ ┆ latitude  ┆ longitude ┆ … ┆ taxon_id ┆ quality_g ┆ observed_ ┆ date_diff │\n",
       "│ on_uuid   ┆ id        ┆ ---       ┆ ---       ┆   ┆ ---      ┆ rade      ┆ on        ┆ ---       │\n",
       "│ ---       ┆ ---       ┆ f64       ┆ f64       ┆   ┆ i64      ┆ ---       ┆ ---       ┆ duration[ │\n",
       "│ str       ┆ i64       ┆           ┆           ┆   ┆          ┆ str       ┆ date      ┆ μs]       │\n",
       "╞═══════════╪═══════════╪═══════════╪═══════════╪═══╪══════════╪═══════════╪═══════════╪═══════════╡\n",
       "│ be702778- ┆ 99304     ┆ 38.560995 ┆ -121.6107 ┆ … ┆ 3836     ┆ needs_id  ┆ 2019-12-2 ┆ 1740d     │\n",
       "│ bd1d-49f4 ┆           ┆           ┆ 92        ┆   ┆          ┆           ┆ 3         ┆           │\n",
       "│ -8a9b-caf ┆           ┆           ┆           ┆   ┆          ┆           ┆           ┆           │\n",
       "│ c03…      ┆           ┆           ┆           ┆   ┆          ┆           ┆           ┆           │\n",
       "│ 97224a3f- ┆ 2499917   ┆ 42.127412 ┆ -88.14330 ┆ … ┆ 84510    ┆ research  ┆ 2020-07-2 ┆ 1529d     │\n",
       "│ ac9c-47ae ┆           ┆           ┆ 6         ┆   ┆          ┆           ┆ 1         ┆           │\n",
       "│ -8008-b60 ┆           ┆           ┆           ┆   ┆          ┆           ┆           ┆           │\n",
       "│ 45d…      ┆           ┆           ┆           ┆   ┆          ┆           ┆           ┆           │\n",
       "│ 73c6384b- ┆ 3696021   ┆ -5.754118 ┆ 39.29013  ┆ … ┆ 64059    ┆ needs_id  ┆ 2024-08-0 ┆ 52d       │\n",
       "│ 7a27-4d7a ┆           ┆           ┆           ┆   ┆          ┆           ┆ 6         ┆           │\n",
       "│ -a1eb-ad8 ┆           ┆           ┆           ┆   ┆          ┆           ┆           ┆           │\n",
       "│ 5ec…      ┆           ┆           ┆           ┆   ┆          ┆           ┆           ┆           │\n",
       "└───────────┴───────────┴───────────┴───────────┴───┴──────────┴───────────┴───────────┴───────────┘"
      ]
     },
     "execution_count": 32,
     "metadata": {},
     "output_type": "execute_result"
    }
   ],
   "source": [
    "obs.sample(3)"
   ]
  },
  {
   "cell_type": "code",
   "execution_count": null,
   "id": "9b2eb217-a8fd-496a-80ff-2037609b07ea",
   "metadata": {},
   "outputs": [],
   "source": [
    "(obs\n",
    "    .group_by(\"observer_id\")\n",
    "    .agg([\n",
    "        pl.col(\"date_diff\").min().alias(\"recency\"),\n",
    "        # pl.len().alias(\"frequency\"),\n",
    "        # pl.col(\"taxon_id\").unique().alias(\"taxa_observed\"),\n",
    "        # pl.col(\"observation_uuid\").unique().alias(\"observations\"),\n",
    "    ])\n",
    ")"
   ]
  },
  {
   "cell_type": "code",
   "execution_count": null,
   "id": "e642967a-cc62-4fc2-91b8-0d5b97a26fef",
   "metadata": {},
   "outputs": [],
   "source": []
  }
 ],
 "metadata": {
  "kernelspec": {
   "display_name": "Python 3 (ipykernel)",
   "language": "python",
   "name": "python3"
  },
  "language_info": {
   "codemirror_mode": {
    "name": "ipython",
    "version": 3
   },
   "file_extension": ".py",
   "mimetype": "text/x-python",
   "name": "python",
   "nbconvert_exporter": "python",
   "pygments_lexer": "ipython3",
   "version": "3.11.7"
  }
 },
 "nbformat": 4,
 "nbformat_minor": 5
}
