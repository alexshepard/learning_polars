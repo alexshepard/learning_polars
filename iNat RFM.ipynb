{
 "cells": [
  {
   "cell_type": "markdown",
   "id": "2c3c449a-8701-4148-afd6-298c7dc50f8a",
   "metadata": {},
   "source": [
    "# iNat AWS Export RFM Analysis\n",
    "\n",
    "working with data from s3://inaturalist-open-data/metadata/inaturalist-open-data-latest.tar.gz"
   ]
  },
  {
   "cell_type": "code",
   "execution_count": 37,
   "id": "0d081a0f-7658-4c7a-8e2e-49b21b38191c",
   "metadata": {},
   "outputs": [],
   "source": [
    "from datetime import datetime\n",
    "import os\n",
    "from pathlib import Path\n",
    "\n",
    "import matplotlib.pyplot as plt\n",
    "import numpy as np\n",
    "import polars as pl\n",
    "import pyarrow\n",
    "import seaborn as sns"
   ]
  },
  {
   "cell_type": "code",
   "execution_count": 7,
   "id": "e98814eb-f6cf-45e6-b2e9-8eef2bf5709d",
   "metadata": {},
   "outputs": [],
   "source": [
    "aws_ods_dir = Path(\"/data-ssd/alex/datasets/inat-open-data/inaturalist-open-data-20240927/\")"
   ]
  },
  {
   "cell_type": "code",
   "execution_count": 10,
   "id": "22acb9ad-8183-4354-b860-d22603fca236",
   "metadata": {},
   "outputs": [],
   "source": [
    "obs = pl.read_csv(\n",
    "    aws_ods_dir / \"observations.csv\",\n",
    "    separator=\"\\t\",\n",
    "    try_parse_dates=True,\n",
    ")"
   ]
  },
  {
   "cell_type": "code",
   "execution_count": 11,
   "id": "b8511fad-b992-48b3-be7d-b73f24e632c4",
   "metadata": {},
   "outputs": [
    {
     "data": {
      "text/html": [
       "<div><style>\n",
       ".dataframe > thead > tr,\n",
       ".dataframe > tbody > tr {\n",
       "  text-align: right;\n",
       "  white-space: pre-wrap;\n",
       "}\n",
       "</style>\n",
       "<small>shape: (1, 1)</small><table border=\"1\" class=\"dataframe\"><thead><tr><th>observed_on</th></tr><tr><td>date</td></tr></thead><tbody><tr><td>2024-09-27</td></tr></tbody></table></div>"
      ],
      "text/plain": [
       "shape: (1, 1)\n",
       "┌─────────────┐\n",
       "│ observed_on │\n",
       "│ ---         │\n",
       "│ date        │\n",
       "╞═════════════╡\n",
       "│ 2024-09-27  │\n",
       "└─────────────┘"
      ]
     },
     "execution_count": 11,
     "metadata": {},
     "output_type": "execute_result"
    }
   ],
   "source": [
    "obs.select(\n",
    "    pl.col(\"observed_on\")\n",
    ").max()"
   ]
  },
  {
   "cell_type": "code",
   "execution_count": 12,
   "id": "f8fca2af-0f66-4ee4-9e72-630bd2301d36",
   "metadata": {},
   "outputs": [],
   "source": [
    "anchor_date = datetime(2024, 9, 27)"
   ]
  },
  {
   "cell_type": "code",
   "execution_count": 13,
   "id": "d2e9c382-843d-4739-90e6-4ccff3356848",
   "metadata": {},
   "outputs": [],
   "source": [
    "obs = obs.with_columns(\n",
    "    (anchor_date - pl.col(\"observed_on\")).alias(\"date_diff\")\n",
    ")"
   ]
  },
  {
   "cell_type": "code",
   "execution_count": 14,
   "id": "01949bf7-c1c9-4189-a56c-459cdb64c37d",
   "metadata": {},
   "outputs": [
    {
     "data": {
      "text/html": [
       "<div><style>\n",
       ".dataframe > thead > tr,\n",
       ".dataframe > tbody > tr {\n",
       "  text-align: right;\n",
       "  white-space: pre-wrap;\n",
       "}\n",
       "</style>\n",
       "<small>shape: (3, 9)</small><table border=\"1\" class=\"dataframe\"><thead><tr><th>observation_uuid</th><th>observer_id</th><th>latitude</th><th>longitude</th><th>positional_accuracy</th><th>taxon_id</th><th>quality_grade</th><th>observed_on</th><th>date_diff</th></tr><tr><td>str</td><td>i64</td><td>f64</td><td>f64</td><td>i64</td><td>i64</td><td>str</td><td>date</td><td>duration[μs]</td></tr></thead><tbody><tr><td>&quot;39f72074-7c44-46fc-8ec1-b693cd…</td><td>1765983</td><td>-0.417288</td><td>-80.396907</td><td>96</td><td>277083</td><td>&quot;needs_id&quot;</td><td>2015-07-20</td><td>3357d</td></tr><tr><td>&quot;61a3e2cf-33a6-4e6b-b7ea-080ea1…</td><td>2539505</td><td>38.215516</td><td>-83.003236</td><td>14149</td><td>60773</td><td>&quot;needs_id&quot;</td><td>2022-06-16</td><td>834d</td></tr><tr><td>&quot;5df75c89-bc07-4a01-9d84-54998f…</td><td>144923</td><td>38.841782</td><td>-76.51218</td><td>1115</td><td>1363161</td><td>&quot;needs_id&quot;</td><td>2020-08-07</td><td>1512d</td></tr></tbody></table></div>"
      ],
      "text/plain": [
       "shape: (3, 9)\n",
       "┌───────────┬───────────┬───────────┬───────────┬───┬──────────┬───────────┬───────────┬───────────┐\n",
       "│ observati ┆ observer_ ┆ latitude  ┆ longitude ┆ … ┆ taxon_id ┆ quality_g ┆ observed_ ┆ date_diff │\n",
       "│ on_uuid   ┆ id        ┆ ---       ┆ ---       ┆   ┆ ---      ┆ rade      ┆ on        ┆ ---       │\n",
       "│ ---       ┆ ---       ┆ f64       ┆ f64       ┆   ┆ i64      ┆ ---       ┆ ---       ┆ duration[ │\n",
       "│ str       ┆ i64       ┆           ┆           ┆   ┆          ┆ str       ┆ date      ┆ μs]       │\n",
       "╞═══════════╪═══════════╪═══════════╪═══════════╪═══╪══════════╪═══════════╪═══════════╪═══════════╡\n",
       "│ 39f72074- ┆ 1765983   ┆ -0.417288 ┆ -80.39690 ┆ … ┆ 277083   ┆ needs_id  ┆ 2015-07-2 ┆ 3357d     │\n",
       "│ 7c44-46fc ┆           ┆           ┆ 7         ┆   ┆          ┆           ┆ 0         ┆           │\n",
       "│ -8ec1-b69 ┆           ┆           ┆           ┆   ┆          ┆           ┆           ┆           │\n",
       "│ 3cd…      ┆           ┆           ┆           ┆   ┆          ┆           ┆           ┆           │\n",
       "│ 61a3e2cf- ┆ 2539505   ┆ 38.215516 ┆ -83.00323 ┆ … ┆ 60773    ┆ needs_id  ┆ 2022-06-1 ┆ 834d      │\n",
       "│ 33a6-4e6b ┆           ┆           ┆ 6         ┆   ┆          ┆           ┆ 6         ┆           │\n",
       "│ -b7ea-080 ┆           ┆           ┆           ┆   ┆          ┆           ┆           ┆           │\n",
       "│ ea1…      ┆           ┆           ┆           ┆   ┆          ┆           ┆           ┆           │\n",
       "│ 5df75c89- ┆ 144923    ┆ 38.841782 ┆ -76.51218 ┆ … ┆ 1363161  ┆ needs_id  ┆ 2020-08-0 ┆ 1512d     │\n",
       "│ bc07-4a01 ┆           ┆           ┆           ┆   ┆          ┆           ┆ 7         ┆           │\n",
       "│ -9d84-549 ┆           ┆           ┆           ┆   ┆          ┆           ┆           ┆           │\n",
       "│ 98f…      ┆           ┆           ┆           ┆   ┆          ┆           ┆           ┆           │\n",
       "└───────────┴───────────┴───────────┴───────────┴───┴──────────┴───────────┴───────────┴───────────┘"
      ]
     },
     "execution_count": 14,
     "metadata": {},
     "output_type": "execute_result"
    }
   ],
   "source": [
    "obs.sample(3)"
   ]
  },
  {
   "cell_type": "code",
   "execution_count": 24,
   "id": "60ee5b46-11cd-49e9-b18a-c755361f6142",
   "metadata": {},
   "outputs": [],
   "source": [
    "obs = obs.drop_nulls(subset=\"taxon_id\")"
   ]
  },
  {
   "cell_type": "code",
   "execution_count": 86,
   "id": "9b2eb217-a8fd-496a-80ff-2037609b07ea",
   "metadata": {},
   "outputs": [],
   "source": [
    "obs_agg = (obs\n",
    "    .group_by(\"observer_id\")\n",
    "    .agg([\n",
    "        pl.col(\"date_diff\").min().alias(\"recency\"),\n",
    "        pl.len().alias(\"obs count\"),\n",
    "        pl.col(\"taxon_id\").unique().len().alias(\"taxa count\"),\n",
    "    ])\n",
    ")"
   ]
  },
  {
   "cell_type": "code",
   "execution_count": 87,
   "id": "e642967a-cc62-4fc2-91b8-0d5b97a26fef",
   "metadata": {},
   "outputs": [],
   "source": [
    "# convert to pandas for viz?\n",
    "obs_agg = obs_agg.to_pandas()\n",
    "obs_agg.recency = obs_agg.recency.dt.days"
   ]
  },
  {
   "cell_type": "code",
   "execution_count": 88,
   "id": "3d771d2a-81d8-4169-a04e-861f138a5881",
   "metadata": {},
   "outputs": [],
   "source": [
    "obs_agg = obs_agg.set_index(\"observer_id\")"
   ]
  },
  {
   "cell_type": "code",
   "execution_count": 89,
   "id": "885e3d4b-4b2d-45bb-9e7a-0e189adc9655",
   "metadata": {},
   "outputs": [
    {
     "data": {
      "text/html": [
       "<div>\n",
       "<style scoped>\n",
       "    .dataframe tbody tr th:only-of-type {\n",
       "        vertical-align: middle;\n",
       "    }\n",
       "\n",
       "    .dataframe tbody tr th {\n",
       "        vertical-align: top;\n",
       "    }\n",
       "\n",
       "    .dataframe thead th {\n",
       "        text-align: right;\n",
       "    }\n",
       "</style>\n",
       "<table border=\"1\" class=\"dataframe\">\n",
       "  <thead>\n",
       "    <tr style=\"text-align: right;\">\n",
       "      <th></th>\n",
       "      <th>recency</th>\n",
       "      <th>obs count</th>\n",
       "      <th>taxa count</th>\n",
       "    </tr>\n",
       "  </thead>\n",
       "  <tbody>\n",
       "    <tr>\n",
       "      <th>count</th>\n",
       "      <td>872856.000000</td>\n",
       "      <td>872922.000000</td>\n",
       "      <td>872922.000000</td>\n",
       "    </tr>\n",
       "    <tr>\n",
       "      <th>mean</th>\n",
       "      <td>677.244466</td>\n",
       "      <td>184.330585</td>\n",
       "      <td>82.785576</td>\n",
       "    </tr>\n",
       "    <tr>\n",
       "      <th>std</th>\n",
       "      <td>732.998280</td>\n",
       "      <td>1655.295230</td>\n",
       "      <td>317.334884</td>\n",
       "    </tr>\n",
       "    <tr>\n",
       "      <th>min</th>\n",
       "      <td>0.000000</td>\n",
       "      <td>1.000000</td>\n",
       "      <td>1.000000</td>\n",
       "    </tr>\n",
       "    <tr>\n",
       "      <th>25%</th>\n",
       "      <td>74.000000</td>\n",
       "      <td>10.000000</td>\n",
       "      <td>9.000000</td>\n",
       "    </tr>\n",
       "    <tr>\n",
       "      <th>50%</th>\n",
       "      <td>443.000000</td>\n",
       "      <td>21.000000</td>\n",
       "      <td>19.000000</td>\n",
       "    </tr>\n",
       "    <tr>\n",
       "      <th>75%</th>\n",
       "      <td>1114.000000</td>\n",
       "      <td>56.000000</td>\n",
       "      <td>48.000000</td>\n",
       "    </tr>\n",
       "    <tr>\n",
       "      <th>max</th>\n",
       "      <td>22623.000000</td>\n",
       "      <td>319116.000000</td>\n",
       "      <td>29516.000000</td>\n",
       "    </tr>\n",
       "  </tbody>\n",
       "</table>\n",
       "</div>"
      ],
      "text/plain": [
       "             recency      obs count     taxa count\n",
       "count  872856.000000  872922.000000  872922.000000\n",
       "mean      677.244466     184.330585      82.785576\n",
       "std       732.998280    1655.295230     317.334884\n",
       "min         0.000000       1.000000       1.000000\n",
       "25%        74.000000      10.000000       9.000000\n",
       "50%       443.000000      21.000000      19.000000\n",
       "75%      1114.000000      56.000000      48.000000\n",
       "max     22623.000000  319116.000000   29516.000000"
      ]
     },
     "execution_count": 89,
     "metadata": {},
     "output_type": "execute_result"
    }
   ],
   "source": [
    "obs_agg.describe()"
   ]
  },
  {
   "cell_type": "code",
   "execution_count": 90,
   "id": "4a6f1f84-de81-44cb-b9f0-744d9f0909aa",
   "metadata": {},
   "outputs": [
    {
     "data": {
      "image/png": "[encoded data removed]",
      "text/plain": [
       "<Figure size 640x480 with 2 Axes>"
      ]
     },
     "metadata": {},
     "output_type": "display_data"
    }
   ],
   "source": []
  },
  {
   "cell_type": "code",
   "execution_count": 85,
   "id": "bcfb7cc6-4ee9-4468-9c92-816cd0aa049d",
   "metadata": {},
   "outputs": [
    {
     "data": {
      "image/png": "[encoded data removed]",
      "text/plain": [
       "<Figure size 640x480 with 2 Axes>"
      ]
     },
     "metadata": {},
     "output_type": "display_data"
    }
   ],
   "source": [
    "obs_agg_norm = obs_agg / obs_agg.max()\n",
    "corr = obs_agg_norm.corr()\n",
    "sns.heatmap(\n",
    "    corr, \n",
    "    xticklabels=corr.columns.values,\n",
    "    yticklabels=corr.columns.values\n",
    ")\n",
    "plt.show()"
   ]
  },
  {
   "cell_type": "code",
   "execution_count": 73,
   "id": "a910ba21-307f-4f86-af7d-a724de5ff76d",
   "metadata": {},
   "outputs": [
    {
     "data": {
      "text/html": [
       "<div>\n",
       "<style scoped>\n",
       "    .dataframe tbody tr th:only-of-type {\n",
       "        vertical-align: middle;\n",
       "    }\n",
       "\n",
       "    .dataframe tbody tr th {\n",
       "        vertical-align: top;\n",
       "    }\n",
       "\n",
       "    .dataframe thead th {\n",
       "        text-align: right;\n",
       "    }\n",
       "</style>\n",
       "<table border=\"1\" class=\"dataframe\">\n",
       "  <thead>\n",
       "    <tr style=\"text-align: right;\">\n",
       "      <th></th>\n",
       "      <th>recency</th>\n",
       "      <th>frequency</th>\n",
       "      <th>taxa_ct</th>\n",
       "    </tr>\n",
       "    <tr>\n",
       "      <th>observer_id</th>\n",
       "      <th></th>\n",
       "      <th></th>\n",
       "      <th></th>\n",
       "    </tr>\n",
       "  </thead>\n",
       "  <tbody>\n",
       "    <tr>\n",
       "      <th>306991</th>\n",
       "      <td>63.0</td>\n",
       "      <td>1718</td>\n",
       "      <td>638</td>\n",
       "    </tr>\n",
       "    <tr>\n",
       "      <th>2130847</th>\n",
       "      <td>1805.0</td>\n",
       "      <td>11</td>\n",
       "      <td>11</td>\n",
       "    </tr>\n",
       "    <tr>\n",
       "      <th>6777099</th>\n",
       "      <td>515.0</td>\n",
       "      <td>106</td>\n",
       "      <td>86</td>\n",
       "    </tr>\n",
       "    <tr>\n",
       "      <th>7222507</th>\n",
       "      <td>74.0</td>\n",
       "      <td>70</td>\n",
       "      <td>69</td>\n",
       "    </tr>\n",
       "    <tr>\n",
       "      <th>7477464</th>\n",
       "      <td>360.0</td>\n",
       "      <td>14</td>\n",
       "      <td>13</td>\n",
       "    </tr>\n",
       "    <tr>\n",
       "      <th>...</th>\n",
       "      <td>...</td>\n",
       "      <td>...</td>\n",
       "      <td>...</td>\n",
       "    </tr>\n",
       "    <tr>\n",
       "      <th>2922549</th>\n",
       "      <td>1402.0</td>\n",
       "      <td>14</td>\n",
       "      <td>13</td>\n",
       "    </tr>\n",
       "    <tr>\n",
       "      <th>5757548</th>\n",
       "      <td>849.0</td>\n",
       "      <td>13</td>\n",
       "      <td>13</td>\n",
       "    </tr>\n",
       "    <tr>\n",
       "      <th>2055331</th>\n",
       "      <td>13.0</td>\n",
       "      <td>295</td>\n",
       "      <td>267</td>\n",
       "    </tr>\n",
       "    <tr>\n",
       "      <th>3598661</th>\n",
       "      <td>1426.0</td>\n",
       "      <td>36</td>\n",
       "      <td>33</td>\n",
       "    </tr>\n",
       "    <tr>\n",
       "      <th>2876931</th>\n",
       "      <td>86.0</td>\n",
       "      <td>42</td>\n",
       "      <td>35</td>\n",
       "    </tr>\n",
       "  </tbody>\n",
       "</table>\n",
       "<p>872922 rows × 3 columns</p>\n",
       "</div>"
      ],
      "text/plain": [
       "             recency  frequency  taxa_ct\n",
       "observer_id                             \n",
       "306991          63.0       1718      638\n",
       "2130847       1805.0         11       11\n",
       "6777099        515.0        106       86\n",
       "7222507         74.0         70       69\n",
       "7477464        360.0         14       13\n",
       "...              ...        ...      ...\n",
       "2922549       1402.0         14       13\n",
       "5757548        849.0         13       13\n",
       "2055331         13.0        295      267\n",
       "3598661       1426.0         36       33\n",
       "2876931         86.0         42       35\n",
       "\n",
       "[872922 rows x 3 columns]"
      ]
     },
     "execution_count": 73,
     "metadata": {},
     "output_type": "execute_result"
    }
   ],
   "source": [
    "obs_agg"
   ]
  },
  {
   "cell_type": "code",
   "execution_count": null,
   "id": "09f70ab3-970c-4401-8570-634d38265cfe",
   "metadata": {},
   "outputs": [],
   "source": []
  }
 ],
 "metadata": {
  "kernelspec": {
   "display_name": "Python 3 (ipykernel)",
   "language": "python",
   "name": "python3"
  },
  "language_info": {
   "codemirror_mode": {
    "name": "ipython",
    "version": 3
   },
   "file_extension": ".py",
   "mimetype": "text/x-python",
   "name": "python",
   "nbconvert_exporter": "python",
   "pygments_lexer": "ipython3",
   "version": "3.10.12"
  }
 },
 "nbformat": 4,
 "nbformat_minor": 5
}
