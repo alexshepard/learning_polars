{
 "cells": [
  {
   "cell_type": "markdown",
   "id": "2eee5a22-4a0e-43c4-ae77-10c0f82e9ad6",
   "metadata": {},
   "source": [
    "# Polars Tutorial Part 2\n",
    "\n",
    "https://www.youtube.com/watch?v=U2WnK0i_rOU&list=PLo9Vi5B84_dfAuwJqNYG4XhZMrGTF3sBx&index=3"
   ]
  },
  {
   "cell_type": "code",
   "execution_count": 2,
   "id": "bf5ce899-064d-4b3f-9fd6-673668a7015c",
   "metadata": {},
   "outputs": [],
   "source": [
    "import matplotlib.pyplot as plt\n",
    "import numpy as np\n",
    "import polars as pl\n",
    "import pandas as pd\n",
    "import pyarrow\n",
    "import seaborn as sns"
   ]
  },
  {
   "cell_type": "code",
   "execution_count": 3,
   "id": "ad1ac5ab-f48b-4796-a2fa-db8ebe8215c4",
   "metadata": {},
   "outputs": [],
   "source": [
    "data_file = \"/Users/alex/.cache/kagglehub/datasets/mkechinov/ecommerce-behavior-data-from-multi-category-store/versions/8/2019-Nov.csv\"\n",
    "df = pl.read_csv(data_file)\n",
    "    "
   ]
  },
  {
   "cell_type": "markdown",
   "id": "e8c2af72-10bf-41dd-b461-79cb43ec1439",
   "metadata": {},
   "source": [
    "# How to update columns and intro to window functions"
   ]
  },
  {
   "cell_type": "code",
   "execution_count": 4,
   "id": "cc1943b0-569f-4fd2-be70-2f1605300cc4",
   "metadata": {},
   "outputs": [
    {
     "data": {
      "text/html": [
       "<div><style>\n",
       ".dataframe > thead > tr,\n",
       ".dataframe > tbody > tr {\n",
       "  text-align: right;\n",
       "  white-space: pre-wrap;\n",
       "}\n",
       "</style>\n",
       "<small>shape: (5, 9)</small><table border=\"1\" class=\"dataframe\"><thead><tr><th>event_time</th><th>event_type</th><th>product_id</th><th>category_id</th><th>category_code</th><th>brand</th><th>price</th><th>user_id</th><th>user_session</th></tr><tr><td>str</td><td>str</td><td>i64</td><td>i64</td><td>str</td><td>str</td><td>f64</td><td>i64</td><td>str</td></tr></thead><tbody><tr><td>&quot;2019-11-01 00:00:00 UTC&quot;</td><td>&quot;view&quot;</td><td>1003461</td><td>2053013555631882655</td><td>&quot;electronics.smartphone&quot;</td><td>&quot;xiaomi&quot;</td><td>489.07</td><td>520088904</td><td>&quot;4d3b30da-a5e4-49df-b1a8-ba5943…</td></tr><tr><td>&quot;2019-11-01 00:00:00 UTC&quot;</td><td>&quot;view&quot;</td><td>5000088</td><td>2053013566100866035</td><td>&quot;appliances.sewing_machine&quot;</td><td>&quot;janome&quot;</td><td>293.65</td><td>530496790</td><td>&quot;8e5f4f83-366c-4f70-860e-ca7417…</td></tr><tr><td>&quot;2019-11-01 00:00:01 UTC&quot;</td><td>&quot;view&quot;</td><td>17302664</td><td>2053013553853497655</td><td>null</td><td>&quot;creed&quot;</td><td>28.31</td><td>561587266</td><td>&quot;755422e7-9040-477b-9bd2-6a6e8f…</td></tr><tr><td>&quot;2019-11-01 00:00:01 UTC&quot;</td><td>&quot;view&quot;</td><td>3601530</td><td>2053013563810775923</td><td>&quot;appliances.kitchen.washer&quot;</td><td>&quot;lg&quot;</td><td>712.87</td><td>518085591</td><td>&quot;3bfb58cd-7892-48cc-8020-2f17e6…</td></tr><tr><td>&quot;2019-11-01 00:00:01 UTC&quot;</td><td>&quot;view&quot;</td><td>1004775</td><td>2053013555631882655</td><td>&quot;electronics.smartphone&quot;</td><td>&quot;xiaomi&quot;</td><td>183.27</td><td>558856683</td><td>&quot;313628f1-68b8-460d-84f6-cec7a8…</td></tr></tbody></table></div>"
      ],
      "text/plain": [
       "shape: (5, 9)\n",
       "┌────────────┬────────────┬────────────┬────────────┬───┬────────┬────────┬───────────┬────────────┐\n",
       "│ event_time ┆ event_type ┆ product_id ┆ category_i ┆ … ┆ brand  ┆ price  ┆ user_id   ┆ user_sessi │\n",
       "│ ---        ┆ ---        ┆ ---        ┆ d          ┆   ┆ ---    ┆ ---    ┆ ---       ┆ on         │\n",
       "│ str        ┆ str        ┆ i64        ┆ ---        ┆   ┆ str    ┆ f64    ┆ i64       ┆ ---        │\n",
       "│            ┆            ┆            ┆ i64        ┆   ┆        ┆        ┆           ┆ str        │\n",
       "╞════════════╪════════════╪════════════╪════════════╪═══╪════════╪════════╪═══════════╪════════════╡\n",
       "│ 2019-11-01 ┆ view       ┆ 1003461    ┆ 2053013555 ┆ … ┆ xiaomi ┆ 489.07 ┆ 520088904 ┆ 4d3b30da-a │\n",
       "│ 00:00:00   ┆            ┆            ┆ 631882655  ┆   ┆        ┆        ┆           ┆ 5e4-49df-b │\n",
       "│ UTC        ┆            ┆            ┆            ┆   ┆        ┆        ┆           ┆ 1a8-ba5943 │\n",
       "│            ┆            ┆            ┆            ┆   ┆        ┆        ┆           ┆ …          │\n",
       "│ 2019-11-01 ┆ view       ┆ 5000088    ┆ 2053013566 ┆ … ┆ janome ┆ 293.65 ┆ 530496790 ┆ 8e5f4f83-3 │\n",
       "│ 00:00:00   ┆            ┆            ┆ 100866035  ┆   ┆        ┆        ┆           ┆ 66c-4f70-8 │\n",
       "│ UTC        ┆            ┆            ┆            ┆   ┆        ┆        ┆           ┆ 60e-ca7417 │\n",
       "│            ┆            ┆            ┆            ┆   ┆        ┆        ┆           ┆ …          │\n",
       "│ 2019-11-01 ┆ view       ┆ 17302664   ┆ 2053013553 ┆ … ┆ creed  ┆ 28.31  ┆ 561587266 ┆ 755422e7-9 │\n",
       "│ 00:00:01   ┆            ┆            ┆ 853497655  ┆   ┆        ┆        ┆           ┆ 040-477b-9 │\n",
       "│ UTC        ┆            ┆            ┆            ┆   ┆        ┆        ┆           ┆ bd2-6a6e8f │\n",
       "│            ┆            ┆            ┆            ┆   ┆        ┆        ┆           ┆ …          │\n",
       "│ 2019-11-01 ┆ view       ┆ 3601530    ┆ 2053013563 ┆ … ┆ lg     ┆ 712.87 ┆ 518085591 ┆ 3bfb58cd-7 │\n",
       "│ 00:00:01   ┆            ┆            ┆ 810775923  ┆   ┆        ┆        ┆           ┆ 892-48cc-8 │\n",
       "│ UTC        ┆            ┆            ┆            ┆   ┆        ┆        ┆           ┆ 020-2f17e6 │\n",
       "│            ┆            ┆            ┆            ┆   ┆        ┆        ┆           ┆ …          │\n",
       "│ 2019-11-01 ┆ view       ┆ 1004775    ┆ 2053013555 ┆ … ┆ xiaomi ┆ 183.27 ┆ 558856683 ┆ 313628f1-6 │\n",
       "│ 00:00:01   ┆            ┆            ┆ 631882655  ┆   ┆        ┆        ┆           ┆ 8b8-460d-8 │\n",
       "│ UTC        ┆            ┆            ┆            ┆   ┆        ┆        ┆           ┆ 4f6-cec7a8 │\n",
       "│            ┆            ┆            ┆            ┆   ┆        ┆        ┆           ┆ …          │\n",
       "└────────────┴────────────┴────────────┴────────────┴───┴────────┴────────┴───────────┴────────────┘"
      ]
     },
     "execution_count": 4,
     "metadata": {},
     "output_type": "execute_result"
    }
   ],
   "source": [
    "df.head()"
   ]
  },
  {
   "cell_type": "markdown",
   "id": "19ed80c1-0ad9-4ff6-9231-5a75655f90e9",
   "metadata": {},
   "source": [
    "### 1. update values on one or multiple columns"
   ]
  },
  {
   "cell_type": "code",
   "execution_count": 7,
   "id": "88971ada-6ecd-42c7-b758-f62dd8456688",
   "metadata": {},
   "outputs": [
    {
     "data": {
      "text/html": [
       "<div><style>\n",
       ".dataframe > thead > tr,\n",
       ".dataframe > tbody > tr {\n",
       "  text-align: right;\n",
       "  white-space: pre-wrap;\n",
       "}\n",
       "</style>\n",
       "<small>shape: (5, 10)</small><table border=\"1\" class=\"dataframe\"><thead><tr><th>event_time</th><th>event_type</th><th>product_id</th><th>category_id</th><th>category_code</th><th>brand</th><th>price</th><th>user_id</th><th>user_session</th><th>brand2</th></tr><tr><td>str</td><td>str</td><td>i64</td><td>i64</td><td>str</td><td>str</td><td>f64</td><td>i64</td><td>str</td><td>str</td></tr></thead><tbody><tr><td>&quot;2019-11-01 00:00:00 UTC&quot;</td><td>&quot;view&quot;</td><td>1003461</td><td>2053013555631882655</td><td>&quot;electronics.smartphone&quot;</td><td>&quot;xiaomi&quot;</td><td>489.07</td><td>520088904</td><td>&quot;4d3b30da-a5e4-49df-b1a8-ba5943…</td><td>&quot;brand-xiaomi&quot;</td></tr><tr><td>&quot;2019-11-01 00:00:00 UTC&quot;</td><td>&quot;view&quot;</td><td>5000088</td><td>2053013566100866035</td><td>&quot;appliances.sewing_machine&quot;</td><td>&quot;janome&quot;</td><td>293.65</td><td>530496790</td><td>&quot;8e5f4f83-366c-4f70-860e-ca7417…</td><td>&quot;brand-janome&quot;</td></tr><tr><td>&quot;2019-11-01 00:00:01 UTC&quot;</td><td>&quot;view&quot;</td><td>17302664</td><td>2053013553853497655</td><td>null</td><td>&quot;creed&quot;</td><td>28.31</td><td>561587266</td><td>&quot;755422e7-9040-477b-9bd2-6a6e8f…</td><td>&quot;brand-creed&quot;</td></tr><tr><td>&quot;2019-11-01 00:00:01 UTC&quot;</td><td>&quot;view&quot;</td><td>3601530</td><td>2053013563810775923</td><td>&quot;appliances.kitchen.washer&quot;</td><td>&quot;lg&quot;</td><td>712.87</td><td>518085591</td><td>&quot;3bfb58cd-7892-48cc-8020-2f17e6…</td><td>&quot;brand-lg&quot;</td></tr><tr><td>&quot;2019-11-01 00:00:01 UTC&quot;</td><td>&quot;view&quot;</td><td>1004775</td><td>2053013555631882655</td><td>&quot;electronics.smartphone&quot;</td><td>&quot;xiaomi&quot;</td><td>183.27</td><td>558856683</td><td>&quot;313628f1-68b8-460d-84f6-cec7a8…</td><td>&quot;brand-xiaomi&quot;</td></tr></tbody></table></div>"
      ],
      "text/plain": [
       "shape: (5, 10)\n",
       "┌────────────┬────────────┬───────────┬───────────┬───┬────────┬───────────┬───────────┬───────────┐\n",
       "│ event_time ┆ event_type ┆ product_i ┆ category_ ┆ … ┆ price  ┆ user_id   ┆ user_sess ┆ brand2    │\n",
       "│ ---        ┆ ---        ┆ d         ┆ id        ┆   ┆ ---    ┆ ---       ┆ ion       ┆ ---       │\n",
       "│ str        ┆ str        ┆ ---       ┆ ---       ┆   ┆ f64    ┆ i64       ┆ ---       ┆ str       │\n",
       "│            ┆            ┆ i64       ┆ i64       ┆   ┆        ┆           ┆ str       ┆           │\n",
       "╞════════════╪════════════╪═══════════╪═══════════╪═══╪════════╪═══════════╪═══════════╪═══════════╡\n",
       "│ 2019-11-01 ┆ view       ┆ 1003461   ┆ 205301355 ┆ … ┆ 489.07 ┆ 520088904 ┆ 4d3b30da- ┆ brand-xia │\n",
       "│ 00:00:00   ┆            ┆           ┆ 563188265 ┆   ┆        ┆           ┆ a5e4-49df ┆ omi       │\n",
       "│ UTC        ┆            ┆           ┆ 5         ┆   ┆        ┆           ┆ -b1a8-ba5 ┆           │\n",
       "│            ┆            ┆           ┆           ┆   ┆        ┆           ┆ 943…      ┆           │\n",
       "│ 2019-11-01 ┆ view       ┆ 5000088   ┆ 205301356 ┆ … ┆ 293.65 ┆ 530496790 ┆ 8e5f4f83- ┆ brand-jan │\n",
       "│ 00:00:00   ┆            ┆           ┆ 610086603 ┆   ┆        ┆           ┆ 366c-4f70 ┆ ome       │\n",
       "│ UTC        ┆            ┆           ┆ 5         ┆   ┆        ┆           ┆ -860e-ca7 ┆           │\n",
       "│            ┆            ┆           ┆           ┆   ┆        ┆           ┆ 417…      ┆           │\n",
       "│ 2019-11-01 ┆ view       ┆ 17302664  ┆ 205301355 ┆ … ┆ 28.31  ┆ 561587266 ┆ 755422e7- ┆ brand-cre │\n",
       "│ 00:00:01   ┆            ┆           ┆ 385349765 ┆   ┆        ┆           ┆ 9040-477b ┆ ed        │\n",
       "│ UTC        ┆            ┆           ┆ 5         ┆   ┆        ┆           ┆ -9bd2-6a6 ┆           │\n",
       "│            ┆            ┆           ┆           ┆   ┆        ┆           ┆ e8f…      ┆           │\n",
       "│ 2019-11-01 ┆ view       ┆ 3601530   ┆ 205301356 ┆ … ┆ 712.87 ┆ 518085591 ┆ 3bfb58cd- ┆ brand-lg  │\n",
       "│ 00:00:01   ┆            ┆           ┆ 381077592 ┆   ┆        ┆           ┆ 7892-48cc ┆           │\n",
       "│ UTC        ┆            ┆           ┆ 3         ┆   ┆        ┆           ┆ -8020-2f1 ┆           │\n",
       "│            ┆            ┆           ┆           ┆   ┆        ┆           ┆ 7e6…      ┆           │\n",
       "│ 2019-11-01 ┆ view       ┆ 1004775   ┆ 205301355 ┆ … ┆ 183.27 ┆ 558856683 ┆ 313628f1- ┆ brand-xia │\n",
       "│ 00:00:01   ┆            ┆           ┆ 563188265 ┆   ┆        ┆           ┆ 68b8-460d ┆ omi       │\n",
       "│ UTC        ┆            ┆           ┆ 5         ┆   ┆        ┆           ┆ -84f6-cec ┆           │\n",
       "│            ┆            ┆           ┆           ┆   ┆        ┆           ┆ 7a8…      ┆           │\n",
       "└────────────┴────────────┴───────────┴───────────┴───┴────────┴───────────┴───────────┴───────────┘"
      ]
     },
     "execution_count": 7,
     "metadata": {},
     "output_type": "execute_result"
    }
   ],
   "source": [
    "# update a string column\n",
    "df_top.with_columns(\n",
    "    (\"brand-\" + pl.col(\"brand\")).alias(\"brand2\")\n",
    ").head()"
   ]
  },
  {
   "cell_type": "code",
   "execution_count": 14,
   "id": "e6ddf931-99a0-4cdc-817f-10d6c37727b9",
   "metadata": {},
   "outputs": [
    {
     "data": {
      "text/html": [
       "<div><style>\n",
       ".dataframe > thead > tr,\n",
       ".dataframe > tbody > tr {\n",
       "  text-align: right;\n",
       "  white-space: pre-wrap;\n",
       "}\n",
       "</style>\n",
       "<small>shape: (5, 11)</small><table border=\"1\" class=\"dataframe\"><thead><tr><th>event_time</th><th>event_type</th><th>product_id</th><th>category_id</th><th>category_code</th><th>brand</th><th>price</th><th>user_id</th><th>user_session</th><th>brand2</th><th>price2</th></tr><tr><td>str</td><td>str</td><td>i64</td><td>i64</td><td>str</td><td>str</td><td>f64</td><td>i64</td><td>str</td><td>str</td><td>f64</td></tr></thead><tbody><tr><td>&quot;2019-11-01 00:00:00 UTC&quot;</td><td>&quot;view&quot;</td><td>1003461</td><td>2053013555631882655</td><td>&quot;electronics.smartphone&quot;</td><td>&quot;xiaomi&quot;</td><td>489.07</td><td>520088904</td><td>&quot;4d3b30da-a5e4-49df-b1a8-ba5943…</td><td>&quot;brand-xiaomi&quot;</td><td>48907.0</td></tr><tr><td>&quot;2019-11-01 00:00:00 UTC&quot;</td><td>&quot;view&quot;</td><td>5000088</td><td>2053013566100866035</td><td>&quot;appliances.sewing_machine&quot;</td><td>&quot;janome&quot;</td><td>293.65</td><td>530496790</td><td>&quot;8e5f4f83-366c-4f70-860e-ca7417…</td><td>&quot;brand-janome&quot;</td><td>29365.0</td></tr><tr><td>&quot;2019-11-01 00:00:01 UTC&quot;</td><td>&quot;view&quot;</td><td>17302664</td><td>2053013553853497655</td><td>null</td><td>&quot;creed&quot;</td><td>28.31</td><td>561587266</td><td>&quot;755422e7-9040-477b-9bd2-6a6e8f…</td><td>&quot;brand-creed&quot;</td><td>2831.0</td></tr><tr><td>&quot;2019-11-01 00:00:01 UTC&quot;</td><td>&quot;view&quot;</td><td>3601530</td><td>2053013563810775923</td><td>&quot;appliances.kitchen.washer&quot;</td><td>&quot;lg&quot;</td><td>712.87</td><td>518085591</td><td>&quot;3bfb58cd-7892-48cc-8020-2f17e6…</td><td>&quot;brand-lg&quot;</td><td>71287.0</td></tr><tr><td>&quot;2019-11-01 00:00:01 UTC&quot;</td><td>&quot;view&quot;</td><td>1004775</td><td>2053013555631882655</td><td>&quot;electronics.smartphone&quot;</td><td>&quot;xiaomi&quot;</td><td>183.27</td><td>558856683</td><td>&quot;313628f1-68b8-460d-84f6-cec7a8…</td><td>&quot;brand-xiaomi&quot;</td><td>18327.0</td></tr></tbody></table></div>"
      ],
      "text/plain": [
       "shape: (5, 11)\n",
       "┌────────────┬───────────┬───────────┬───────────┬───┬───────────┬───────────┬───────────┬─────────┐\n",
       "│ event_time ┆ event_typ ┆ product_i ┆ category_ ┆ … ┆ user_id   ┆ user_sess ┆ brand2    ┆ price2  │\n",
       "│ ---        ┆ e         ┆ d         ┆ id        ┆   ┆ ---       ┆ ion       ┆ ---       ┆ ---     │\n",
       "│ str        ┆ ---       ┆ ---       ┆ ---       ┆   ┆ i64       ┆ ---       ┆ str       ┆ f64     │\n",
       "│            ┆ str       ┆ i64       ┆ i64       ┆   ┆           ┆ str       ┆           ┆         │\n",
       "╞════════════╪═══════════╪═══════════╪═══════════╪═══╪═══════════╪═══════════╪═══════════╪═════════╡\n",
       "│ 2019-11-01 ┆ view      ┆ 1003461   ┆ 205301355 ┆ … ┆ 520088904 ┆ 4d3b30da- ┆ brand-xia ┆ 48907.0 │\n",
       "│ 00:00:00   ┆           ┆           ┆ 563188265 ┆   ┆           ┆ a5e4-49df ┆ omi       ┆         │\n",
       "│ UTC        ┆           ┆           ┆ 5         ┆   ┆           ┆ -b1a8-ba5 ┆           ┆         │\n",
       "│            ┆           ┆           ┆           ┆   ┆           ┆ 943…      ┆           ┆         │\n",
       "│ 2019-11-01 ┆ view      ┆ 5000088   ┆ 205301356 ┆ … ┆ 530496790 ┆ 8e5f4f83- ┆ brand-jan ┆ 29365.0 │\n",
       "│ 00:00:00   ┆           ┆           ┆ 610086603 ┆   ┆           ┆ 366c-4f70 ┆ ome       ┆         │\n",
       "│ UTC        ┆           ┆           ┆ 5         ┆   ┆           ┆ -860e-ca7 ┆           ┆         │\n",
       "│            ┆           ┆           ┆           ┆   ┆           ┆ 417…      ┆           ┆         │\n",
       "│ 2019-11-01 ┆ view      ┆ 17302664  ┆ 205301355 ┆ … ┆ 561587266 ┆ 755422e7- ┆ brand-cre ┆ 2831.0  │\n",
       "│ 00:00:01   ┆           ┆           ┆ 385349765 ┆   ┆           ┆ 9040-477b ┆ ed        ┆         │\n",
       "│ UTC        ┆           ┆           ┆ 5         ┆   ┆           ┆ -9bd2-6a6 ┆           ┆         │\n",
       "│            ┆           ┆           ┆           ┆   ┆           ┆ e8f…      ┆           ┆         │\n",
       "│ 2019-11-01 ┆ view      ┆ 3601530   ┆ 205301356 ┆ … ┆ 518085591 ┆ 3bfb58cd- ┆ brand-lg  ┆ 71287.0 │\n",
       "│ 00:00:01   ┆           ┆           ┆ 381077592 ┆   ┆           ┆ 7892-48cc ┆           ┆         │\n",
       "│ UTC        ┆           ┆           ┆ 3         ┆   ┆           ┆ -8020-2f1 ┆           ┆         │\n",
       "│            ┆           ┆           ┆           ┆   ┆           ┆ 7e6…      ┆           ┆         │\n",
       "│ 2019-11-01 ┆ view      ┆ 1004775   ┆ 205301355 ┆ … ┆ 558856683 ┆ 313628f1- ┆ brand-xia ┆ 18327.0 │\n",
       "│ 00:00:01   ┆           ┆           ┆ 563188265 ┆   ┆           ┆ 68b8-460d ┆ omi       ┆         │\n",
       "│ UTC        ┆           ┆           ┆ 5         ┆   ┆           ┆ -84f6-cec ┆           ┆         │\n",
       "│            ┆           ┆           ┆           ┆   ┆           ┆ 7a8…      ┆           ┆         │\n",
       "└────────────┴───────────┴───────────┴───────────┴───┴───────────┴───────────┴───────────┴─────────┘"
      ]
     },
     "execution_count": 14,
     "metadata": {},
     "output_type": "execute_result"
    }
   ],
   "source": [
    "# update a string column\n",
    "df.with_columns(\n",
    "    (\"brand-\" + pl.col(\"brand\")).alias(\"brand2\"),\n",
    "    (pl.col(\"price\") * 100).alias(\"price2\"),\n",
    ").head()"
   ]
  },
  {
   "cell_type": "code",
   "execution_count": 21,
   "id": "009f585f-23f5-492c-875a-ee91dad4fce6",
   "metadata": {},
   "outputs": [
    {
     "data": {
      "text/html": [
       "<div><style>\n",
       ".dataframe > thead > tr,\n",
       ".dataframe > tbody > tr {\n",
       "  text-align: right;\n",
       "  white-space: pre-wrap;\n",
       "}\n",
       "</style>\n",
       "<small>shape: (5, 10)</small><table border=\"1\" class=\"dataframe\"><thead><tr><th>event_time</th><th>event_type</th><th>product_id</th><th>category_id</th><th>category_code</th><th>brand</th><th>price</th><th>user_id</th><th>user_session</th><th>price_avg</th></tr><tr><td>str</td><td>str</td><td>i64</td><td>i64</td><td>str</td><td>str</td><td>f64</td><td>i64</td><td>str</td><td>f64</td></tr></thead><tbody><tr><td>&quot;2019-11-01 00:00:00 UTC&quot;</td><td>&quot;view&quot;</td><td>1003461</td><td>2053013555631882655</td><td>&quot;electronics.smartphone&quot;</td><td>&quot;xiaomi&quot;</td><td>489.07</td><td>520088904</td><td>&quot;4d3b30da-a5e4-49df-b1a8-ba5943…</td><td>292.459317</td></tr><tr><td>&quot;2019-11-01 00:00:00 UTC&quot;</td><td>&quot;view&quot;</td><td>5000088</td><td>2053013566100866035</td><td>&quot;appliances.sewing_machine&quot;</td><td>&quot;janome&quot;</td><td>293.65</td><td>530496790</td><td>&quot;8e5f4f83-366c-4f70-860e-ca7417…</td><td>292.459317</td></tr><tr><td>&quot;2019-11-01 00:00:01 UTC&quot;</td><td>&quot;view&quot;</td><td>17302664</td><td>2053013553853497655</td><td>null</td><td>&quot;creed&quot;</td><td>28.31</td><td>561587266</td><td>&quot;755422e7-9040-477b-9bd2-6a6e8f…</td><td>292.459317</td></tr><tr><td>&quot;2019-11-01 00:00:01 UTC&quot;</td><td>&quot;view&quot;</td><td>3601530</td><td>2053013563810775923</td><td>&quot;appliances.kitchen.washer&quot;</td><td>&quot;lg&quot;</td><td>712.87</td><td>518085591</td><td>&quot;3bfb58cd-7892-48cc-8020-2f17e6…</td><td>292.459317</td></tr><tr><td>&quot;2019-11-01 00:00:01 UTC&quot;</td><td>&quot;view&quot;</td><td>1004775</td><td>2053013555631882655</td><td>&quot;electronics.smartphone&quot;</td><td>&quot;xiaomi&quot;</td><td>183.27</td><td>558856683</td><td>&quot;313628f1-68b8-460d-84f6-cec7a8…</td><td>292.459317</td></tr></tbody></table></div>"
      ],
      "text/plain": [
       "shape: (5, 10)\n",
       "┌────────────┬────────────┬───────────┬───────────┬───┬────────┬───────────┬───────────┬───────────┐\n",
       "│ event_time ┆ event_type ┆ product_i ┆ category_ ┆ … ┆ price  ┆ user_id   ┆ user_sess ┆ price_avg │\n",
       "│ ---        ┆ ---        ┆ d         ┆ id        ┆   ┆ ---    ┆ ---       ┆ ion       ┆ ---       │\n",
       "│ str        ┆ str        ┆ ---       ┆ ---       ┆   ┆ f64    ┆ i64       ┆ ---       ┆ f64       │\n",
       "│            ┆            ┆ i64       ┆ i64       ┆   ┆        ┆           ┆ str       ┆           │\n",
       "╞════════════╪════════════╪═══════════╪═══════════╪═══╪════════╪═══════════╪═══════════╪═══════════╡\n",
       "│ 2019-11-01 ┆ view       ┆ 1003461   ┆ 205301355 ┆ … ┆ 489.07 ┆ 520088904 ┆ 4d3b30da- ┆ 292.45931 │\n",
       "│ 00:00:00   ┆            ┆           ┆ 563188265 ┆   ┆        ┆           ┆ a5e4-49df ┆ 7         │\n",
       "│ UTC        ┆            ┆           ┆ 5         ┆   ┆        ┆           ┆ -b1a8-ba5 ┆           │\n",
       "│            ┆            ┆           ┆           ┆   ┆        ┆           ┆ 943…      ┆           │\n",
       "│ 2019-11-01 ┆ view       ┆ 5000088   ┆ 205301356 ┆ … ┆ 293.65 ┆ 530496790 ┆ 8e5f4f83- ┆ 292.45931 │\n",
       "│ 00:00:00   ┆            ┆           ┆ 610086603 ┆   ┆        ┆           ┆ 366c-4f70 ┆ 7         │\n",
       "│ UTC        ┆            ┆           ┆ 5         ┆   ┆        ┆           ┆ -860e-ca7 ┆           │\n",
       "│            ┆            ┆           ┆           ┆   ┆        ┆           ┆ 417…      ┆           │\n",
       "│ 2019-11-01 ┆ view       ┆ 17302664  ┆ 205301355 ┆ … ┆ 28.31  ┆ 561587266 ┆ 755422e7- ┆ 292.45931 │\n",
       "│ 00:00:01   ┆            ┆           ┆ 385349765 ┆   ┆        ┆           ┆ 9040-477b ┆ 7         │\n",
       "│ UTC        ┆            ┆           ┆ 5         ┆   ┆        ┆           ┆ -9bd2-6a6 ┆           │\n",
       "│            ┆            ┆           ┆           ┆   ┆        ┆           ┆ e8f…      ┆           │\n",
       "│ 2019-11-01 ┆ view       ┆ 3601530   ┆ 205301356 ┆ … ┆ 712.87 ┆ 518085591 ┆ 3bfb58cd- ┆ 292.45931 │\n",
       "│ 00:00:01   ┆            ┆           ┆ 381077592 ┆   ┆        ┆           ┆ 7892-48cc ┆ 7         │\n",
       "│ UTC        ┆            ┆           ┆ 3         ┆   ┆        ┆           ┆ -8020-2f1 ┆           │\n",
       "│            ┆            ┆           ┆           ┆   ┆        ┆           ┆ 7e6…      ┆           │\n",
       "│ 2019-11-01 ┆ view       ┆ 1004775   ┆ 205301355 ┆ … ┆ 183.27 ┆ 558856683 ┆ 313628f1- ┆ 292.45931 │\n",
       "│ 00:00:01   ┆            ┆           ┆ 563188265 ┆   ┆        ┆           ┆ 68b8-460d ┆ 7         │\n",
       "│ UTC        ┆            ┆           ┆ 5         ┆   ┆        ┆           ┆ -84f6-cec ┆           │\n",
       "│            ┆            ┆           ┆           ┆   ┆        ┆           ┆ 7a8…      ┆           │\n",
       "└────────────┴────────────┴───────────┴───────────┴───┴────────┴───────────┴───────────┴───────────┘"
      ]
     },
     "execution_count": 21,
     "metadata": {},
     "output_type": "execute_result"
    }
   ],
   "source": [
    "# create a column with a constant (based on the mean in this case)\n",
    "df.with_columns([\n",
    "    pl.col(\"price\").mean().alias(\"price_avg\")\n",
    "]).head()"
   ]
  },
  {
   "cell_type": "code",
   "execution_count": 26,
   "id": "2adcc4b8-6113-46a3-934f-9ee7d82234a5",
   "metadata": {},
   "outputs": [
    {
     "data": {
      "text/html": [
       "<div><style>\n",
       ".dataframe > thead > tr,\n",
       ".dataframe > tbody > tr {\n",
       "  text-align: right;\n",
       "  white-space: pre-wrap;\n",
       "}\n",
       "</style>\n",
       "<small>shape: (5, 2)</small><table border=\"1\" class=\"dataframe\"><thead><tr><th>price</th><th>price_avg</th></tr><tr><td>f64</td><td>f64</td></tr></thead><tbody><tr><td>489.07</td><td>292.459317</td></tr><tr><td>293.65</td><td>292.459317</td></tr><tr><td>28.31</td><td>292.459317</td></tr><tr><td>712.87</td><td>292.459317</td></tr><tr><td>183.27</td><td>292.459317</td></tr></tbody></table></div>"
      ],
      "text/plain": [
       "shape: (5, 2)\n",
       "┌────────┬────────────┐\n",
       "│ price  ┆ price_avg  │\n",
       "│ ---    ┆ ---        │\n",
       "│ f64    ┆ f64        │\n",
       "╞════════╪════════════╡\n",
       "│ 489.07 ┆ 292.459317 │\n",
       "│ 293.65 ┆ 292.459317 │\n",
       "│ 28.31  ┆ 292.459317 │\n",
       "│ 712.87 ┆ 292.459317 │\n",
       "│ 183.27 ┆ 292.459317 │\n",
       "└────────┴────────────┘"
      ]
     },
     "execution_count": 26,
     "metadata": {},
     "output_type": "execute_result"
    }
   ],
   "source": [
    "# create a column with a constant (based on the mean in this case)\n",
    "df.select([\n",
    "    pl.col(\"price\"),\n",
    "    pl.col(\"price\").mean().alias(\"price_avg\")\n",
    "]).head()"
   ]
  },
  {
   "cell_type": "code",
   "execution_count": 25,
   "id": "14444351-f593-44df-96bb-0c38494b73a2",
   "metadata": {},
   "outputs": [
    {
     "data": {
      "text/html": [
       "<div><style>\n",
       ".dataframe > thead > tr,\n",
       ".dataframe > tbody > tr {\n",
       "  text-align: right;\n",
       "  white-space: pre-wrap;\n",
       "}\n",
       "</style>\n",
       "<small>shape: (5, 10)</small><table border=\"1\" class=\"dataframe\"><thead><tr><th>event_time</th><th>event_type</th><th>product_id</th><th>category_id</th><th>category_code</th><th>brand</th><th>price</th><th>user_id</th><th>user_session</th><th>price_avg</th></tr><tr><td>str</td><td>str</td><td>i64</td><td>i64</td><td>str</td><td>str</td><td>f64</td><td>i64</td><td>str</td><td>f64</td></tr></thead><tbody><tr><td>&quot;2019-11-01 00:00:00 UTC&quot;</td><td>&quot;view&quot;</td><td>1003461</td><td>2053013555631882655</td><td>&quot;electronics.smartphone&quot;</td><td>&quot;xiaomi&quot;</td><td>489.07</td><td>520088904</td><td>&quot;4d3b30da-a5e4-49df-b1a8-ba5943…</td><td>292.459317</td></tr><tr><td>&quot;2019-11-01 00:00:00 UTC&quot;</td><td>&quot;view&quot;</td><td>5000088</td><td>2053013566100866035</td><td>&quot;appliances.sewing_machine&quot;</td><td>&quot;janome&quot;</td><td>293.65</td><td>530496790</td><td>&quot;8e5f4f83-366c-4f70-860e-ca7417…</td><td>292.459317</td></tr><tr><td>&quot;2019-11-01 00:00:01 UTC&quot;</td><td>&quot;view&quot;</td><td>17302664</td><td>2053013553853497655</td><td>null</td><td>&quot;creed&quot;</td><td>28.31</td><td>561587266</td><td>&quot;755422e7-9040-477b-9bd2-6a6e8f…</td><td>292.459317</td></tr><tr><td>&quot;2019-11-01 00:00:01 UTC&quot;</td><td>&quot;view&quot;</td><td>3601530</td><td>2053013563810775923</td><td>&quot;appliances.kitchen.washer&quot;</td><td>&quot;lg&quot;</td><td>712.87</td><td>518085591</td><td>&quot;3bfb58cd-7892-48cc-8020-2f17e6…</td><td>292.459317</td></tr><tr><td>&quot;2019-11-01 00:00:01 UTC&quot;</td><td>&quot;view&quot;</td><td>1004775</td><td>2053013555631882655</td><td>&quot;electronics.smartphone&quot;</td><td>&quot;xiaomi&quot;</td><td>183.27</td><td>558856683</td><td>&quot;313628f1-68b8-460d-84f6-cec7a8…</td><td>292.459317</td></tr></tbody></table></div>"
      ],
      "text/plain": [
       "shape: (5, 10)\n",
       "┌────────────┬────────────┬───────────┬───────────┬───┬────────┬───────────┬───────────┬───────────┐\n",
       "│ event_time ┆ event_type ┆ product_i ┆ category_ ┆ … ┆ price  ┆ user_id   ┆ user_sess ┆ price_avg │\n",
       "│ ---        ┆ ---        ┆ d         ┆ id        ┆   ┆ ---    ┆ ---       ┆ ion       ┆ ---       │\n",
       "│ str        ┆ str        ┆ ---       ┆ ---       ┆   ┆ f64    ┆ i64       ┆ ---       ┆ f64       │\n",
       "│            ┆            ┆ i64       ┆ i64       ┆   ┆        ┆           ┆ str       ┆           │\n",
       "╞════════════╪════════════╪═══════════╪═══════════╪═══╪════════╪═══════════╪═══════════╪═══════════╡\n",
       "│ 2019-11-01 ┆ view       ┆ 1003461   ┆ 205301355 ┆ … ┆ 489.07 ┆ 520088904 ┆ 4d3b30da- ┆ 292.45931 │\n",
       "│ 00:00:00   ┆            ┆           ┆ 563188265 ┆   ┆        ┆           ┆ a5e4-49df ┆ 7         │\n",
       "│ UTC        ┆            ┆           ┆ 5         ┆   ┆        ┆           ┆ -b1a8-ba5 ┆           │\n",
       "│            ┆            ┆           ┆           ┆   ┆        ┆           ┆ 943…      ┆           │\n",
       "│ 2019-11-01 ┆ view       ┆ 5000088   ┆ 205301356 ┆ … ┆ 293.65 ┆ 530496790 ┆ 8e5f4f83- ┆ 292.45931 │\n",
       "│ 00:00:00   ┆            ┆           ┆ 610086603 ┆   ┆        ┆           ┆ 366c-4f70 ┆ 7         │\n",
       "│ UTC        ┆            ┆           ┆ 5         ┆   ┆        ┆           ┆ -860e-ca7 ┆           │\n",
       "│            ┆            ┆           ┆           ┆   ┆        ┆           ┆ 417…      ┆           │\n",
       "│ 2019-11-01 ┆ view       ┆ 17302664  ┆ 205301355 ┆ … ┆ 28.31  ┆ 561587266 ┆ 755422e7- ┆ 292.45931 │\n",
       "│ 00:00:01   ┆            ┆           ┆ 385349765 ┆   ┆        ┆           ┆ 9040-477b ┆ 7         │\n",
       "│ UTC        ┆            ┆           ┆ 5         ┆   ┆        ┆           ┆ -9bd2-6a6 ┆           │\n",
       "│            ┆            ┆           ┆           ┆   ┆        ┆           ┆ e8f…      ┆           │\n",
       "│ 2019-11-01 ┆ view       ┆ 3601530   ┆ 205301356 ┆ … ┆ 712.87 ┆ 518085591 ┆ 3bfb58cd- ┆ 292.45931 │\n",
       "│ 00:00:01   ┆            ┆           ┆ 381077592 ┆   ┆        ┆           ┆ 7892-48cc ┆ 7         │\n",
       "│ UTC        ┆            ┆           ┆ 3         ┆   ┆        ┆           ┆ -8020-2f1 ┆           │\n",
       "│            ┆            ┆           ┆           ┆   ┆        ┆           ┆ 7e6…      ┆           │\n",
       "│ 2019-11-01 ┆ view       ┆ 1004775   ┆ 205301355 ┆ … ┆ 183.27 ┆ 558856683 ┆ 313628f1- ┆ 292.45931 │\n",
       "│ 00:00:01   ┆            ┆           ┆ 563188265 ┆   ┆        ┆           ┆ 68b8-460d ┆ 7         │\n",
       "│ UTC        ┆            ┆           ┆ 5         ┆   ┆        ┆           ┆ -84f6-cec ┆           │\n",
       "│            ┆            ┆           ┆           ┆   ┆        ┆           ┆ 7a8…      ┆           │\n",
       "└────────────┴────────────┴───────────┴───────────┴───┴────────┴───────────┴───────────┴───────────┘"
      ]
     },
     "execution_count": 25,
     "metadata": {},
     "output_type": "execute_result"
    }
   ],
   "source": [
    "# create a column with a constant (based on the mean in this case)\n",
    "df.select([\n",
    "    pl.all(),\n",
    "    pl.col(\"price\").mean().alias(\"price_avg\")\n",
    "]).head()"
   ]
  },
  {
   "cell_type": "markdown",
   "id": "7cda11e6-d7a2-4c53-9a8e-8ee471f56c78",
   "metadata": {},
   "source": [
    "### 2. Update values based on window functions"
   ]
  },
  {
   "cell_type": "code",
   "execution_count": 32,
   "id": "b6a31020-336d-4847-b9b5-ade7aa2e420e",
   "metadata": {},
   "outputs": [
    {
     "data": {
      "text/html": [
       "<div><style>\n",
       ".dataframe > thead > tr,\n",
       ".dataframe > tbody > tr {\n",
       "  text-align: right;\n",
       "  white-space: pre-wrap;\n",
       "}\n",
       "</style>\n",
       "<small>shape: (5, 11)</small><table border=\"1\" class=\"dataframe\"><thead><tr><th>event_time</th><th>event_type</th><th>product_id</th><th>category_id</th><th>category_code</th><th>brand</th><th>price</th><th>user_id</th><th>user_session</th><th>mean_price_by_categorycode</th><th>mean_price</th></tr><tr><td>str</td><td>str</td><td>i64</td><td>i64</td><td>str</td><td>str</td><td>f64</td><td>i64</td><td>str</td><td>f64</td><td>f64</td></tr></thead><tbody><tr><td>&quot;2019-11-01 00:00:00 UTC&quot;</td><td>&quot;view&quot;</td><td>1003461</td><td>2053013555631882655</td><td>&quot;electronics.smartphone&quot;</td><td>&quot;xiaomi&quot;</td><td>489.07</td><td>520088904</td><td>&quot;4d3b30da-a5e4-49df-b1a8-ba5943…</td><td>483.637803</td><td>292.459317</td></tr><tr><td>&quot;2019-11-01 00:00:00 UTC&quot;</td><td>&quot;view&quot;</td><td>5000088</td><td>2053013566100866035</td><td>&quot;appliances.sewing_machine&quot;</td><td>&quot;janome&quot;</td><td>293.65</td><td>530496790</td><td>&quot;8e5f4f83-366c-4f70-860e-ca7417…</td><td>244.516497</td><td>292.459317</td></tr><tr><td>&quot;2019-11-01 00:00:01 UTC&quot;</td><td>&quot;view&quot;</td><td>17302664</td><td>2053013553853497655</td><td>null</td><td>&quot;creed&quot;</td><td>28.31</td><td>561587266</td><td>&quot;755422e7-9040-477b-9bd2-6a6e8f…</td><td>176.64639</td><td>292.459317</td></tr><tr><td>&quot;2019-11-01 00:00:01 UTC&quot;</td><td>&quot;view&quot;</td><td>3601530</td><td>2053013563810775923</td><td>&quot;appliances.kitchen.washer&quot;</td><td>&quot;lg&quot;</td><td>712.87</td><td>518085591</td><td>&quot;3bfb58cd-7892-48cc-8020-2f17e6…</td><td>340.601164</td><td>292.459317</td></tr><tr><td>&quot;2019-11-01 00:00:01 UTC&quot;</td><td>&quot;view&quot;</td><td>1004775</td><td>2053013555631882655</td><td>&quot;electronics.smartphone&quot;</td><td>&quot;xiaomi&quot;</td><td>183.27</td><td>558856683</td><td>&quot;313628f1-68b8-460d-84f6-cec7a8…</td><td>483.637803</td><td>292.459317</td></tr></tbody></table></div>"
      ],
      "text/plain": [
       "shape: (5, 11)\n",
       "┌───────────┬───────────┬───────────┬───────────┬───┬───────────┬───────────┬───────────┬──────────┐\n",
       "│ event_tim ┆ event_typ ┆ product_i ┆ category_ ┆ … ┆ user_id   ┆ user_sess ┆ mean_pric ┆ mean_pri │\n",
       "│ e         ┆ e         ┆ d         ┆ id        ┆   ┆ ---       ┆ ion       ┆ e_by_cate ┆ ce       │\n",
       "│ ---       ┆ ---       ┆ ---       ┆ ---       ┆   ┆ i64       ┆ ---       ┆ gorycode  ┆ ---      │\n",
       "│ str       ┆ str       ┆ i64       ┆ i64       ┆   ┆           ┆ str       ┆ ---       ┆ f64      │\n",
       "│           ┆           ┆           ┆           ┆   ┆           ┆           ┆ f64       ┆          │\n",
       "╞═══════════╪═══════════╪═══════════╪═══════════╪═══╪═══════════╪═══════════╪═══════════╪══════════╡\n",
       "│ 2019-11-0 ┆ view      ┆ 1003461   ┆ 205301355 ┆ … ┆ 520088904 ┆ 4d3b30da- ┆ 483.63780 ┆ 292.4593 │\n",
       "│ 1         ┆           ┆           ┆ 563188265 ┆   ┆           ┆ a5e4-49df ┆ 3         ┆ 17       │\n",
       "│ 00:00:00  ┆           ┆           ┆ 5         ┆   ┆           ┆ -b1a8-ba5 ┆           ┆          │\n",
       "│ UTC       ┆           ┆           ┆           ┆   ┆           ┆ 943…      ┆           ┆          │\n",
       "│ 2019-11-0 ┆ view      ┆ 5000088   ┆ 205301356 ┆ … ┆ 530496790 ┆ 8e5f4f83- ┆ 244.51649 ┆ 292.4593 │\n",
       "│ 1         ┆           ┆           ┆ 610086603 ┆   ┆           ┆ 366c-4f70 ┆ 7         ┆ 17       │\n",
       "│ 00:00:00  ┆           ┆           ┆ 5         ┆   ┆           ┆ -860e-ca7 ┆           ┆          │\n",
       "│ UTC       ┆           ┆           ┆           ┆   ┆           ┆ 417…      ┆           ┆          │\n",
       "│ 2019-11-0 ┆ view      ┆ 17302664  ┆ 205301355 ┆ … ┆ 561587266 ┆ 755422e7- ┆ 176.64639 ┆ 292.4593 │\n",
       "│ 1         ┆           ┆           ┆ 385349765 ┆   ┆           ┆ 9040-477b ┆           ┆ 17       │\n",
       "│ 00:00:01  ┆           ┆           ┆ 5         ┆   ┆           ┆ -9bd2-6a6 ┆           ┆          │\n",
       "│ UTC       ┆           ┆           ┆           ┆   ┆           ┆ e8f…      ┆           ┆          │\n",
       "│ 2019-11-0 ┆ view      ┆ 3601530   ┆ 205301356 ┆ … ┆ 518085591 ┆ 3bfb58cd- ┆ 340.60116 ┆ 292.4593 │\n",
       "│ 1         ┆           ┆           ┆ 381077592 ┆   ┆           ┆ 7892-48cc ┆ 4         ┆ 17       │\n",
       "│ 00:00:01  ┆           ┆           ┆ 3         ┆   ┆           ┆ -8020-2f1 ┆           ┆          │\n",
       "│ UTC       ┆           ┆           ┆           ┆   ┆           ┆ 7e6…      ┆           ┆          │\n",
       "│ 2019-11-0 ┆ view      ┆ 1004775   ┆ 205301355 ┆ … ┆ 558856683 ┆ 313628f1- ┆ 483.63780 ┆ 292.4593 │\n",
       "│ 1         ┆           ┆           ┆ 563188265 ┆   ┆           ┆ 68b8-460d ┆ 3         ┆ 17       │\n",
       "│ 00:00:01  ┆           ┆           ┆ 5         ┆   ┆           ┆ -84f6-cec ┆           ┆          │\n",
       "│ UTC       ┆           ┆           ┆           ┆   ┆           ┆ 7a8…      ┆           ┆          │\n",
       "└───────────┴───────────┴───────────┴───────────┴───┴───────────┴───────────┴───────────┴──────────┘"
      ]
     },
     "execution_count": 32,
     "metadata": {},
     "output_type": "execute_result"
    }
   ],
   "source": [
    "# equivalent to groupby category then mean\n",
    "\n",
    "df.with_columns([\n",
    "    pl.col(\"price\")\n",
    "        .mean()\n",
    "        .over(\"category_code\")\n",
    "        .alias(\"mean_price_by_categorycode\"),\n",
    "    pl.col(\"price\")\n",
    "        .mean()\n",
    "        .alias(\"mean_price\")\n",
    "]).head()"
   ]
  },
  {
   "cell_type": "code",
   "execution_count": 36,
   "id": "f7663ff8-bea1-42da-a219-03ad8269dcd4",
   "metadata": {},
   "outputs": [
    {
     "data": {
      "text/html": [
       "<div><style>\n",
       ".dataframe > thead > tr,\n",
       ".dataframe > tbody > tr {\n",
       "  text-align: right;\n",
       "  white-space: pre-wrap;\n",
       "}\n",
       "</style>\n",
       "<small>shape: (5, 4)</small><table border=\"1\" class=\"dataframe\"><thead><tr><th>category_code</th><th>price</th><th>price_by_category</th><th>price_div_cat_avg</th></tr><tr><td>str</td><td>f64</td><td>f64</td><td>f64</td></tr></thead><tbody><tr><td>&quot;electronics.smartphone&quot;</td><td>489.07</td><td>483.637803</td><td>0.011232</td></tr><tr><td>&quot;appliances.sewing_machine&quot;</td><td>293.65</td><td>244.516497</td><td>0.200941</td></tr><tr><td>null</td><td>28.31</td><td>176.64639</td><td>-0.839736</td></tr><tr><td>&quot;appliances.kitchen.washer&quot;</td><td>712.87</td><td>340.601164</td><td>1.092976</td></tr><tr><td>&quot;electronics.smartphone&quot;</td><td>183.27</td><td>483.637803</td><td>-0.621059</td></tr></tbody></table></div>"
      ],
      "text/plain": [
       "shape: (5, 4)\n",
       "┌───────────────────────────┬────────┬───────────────────┬───────────────────┐\n",
       "│ category_code             ┆ price  ┆ price_by_category ┆ price_div_cat_avg │\n",
       "│ ---                       ┆ ---    ┆ ---               ┆ ---               │\n",
       "│ str                       ┆ f64    ┆ f64               ┆ f64               │\n",
       "╞═══════════════════════════╪════════╪═══════════════════╪═══════════════════╡\n",
       "│ electronics.smartphone    ┆ 489.07 ┆ 483.637803        ┆ 0.011232          │\n",
       "│ appliances.sewing_machine ┆ 293.65 ┆ 244.516497        ┆ 0.200941          │\n",
       "│ null                      ┆ 28.31  ┆ 176.64639         ┆ -0.839736         │\n",
       "│ appliances.kitchen.washer ┆ 712.87 ┆ 340.601164        ┆ 1.092976          │\n",
       "│ electronics.smartphone    ┆ 183.27 ┆ 483.637803        ┆ -0.621059         │\n",
       "└───────────────────────────┴────────┴───────────────────┴───────────────────┘"
      ]
     },
     "execution_count": 36,
     "metadata": {},
     "output_type": "execute_result"
    }
   ],
   "source": [
    "df_cat_window = df.select([\n",
    "    pl.col(\"category_code\"),\n",
    "    pl.col(\"price\"),\n",
    "    pl.col(\"price\")\n",
    "        .mean()\n",
    "        .over(\"category_code\")\n",
    "        .alias(\"price_by_category\"),\n",
    "    (pl.col(\"price\") / pl.col(\"price\").mean().over(\"category_code\") - 1)\n",
    "        .alias(\"price_div_cat_avg\")\n",
    "])\n",
    "\n",
    "df_cat_window.head()"
   ]
  },
  {
   "cell_type": "code",
   "execution_count": 37,
   "id": "b2c0c031-7893-45b7-b00a-850ccad10488",
   "metadata": {},
   "outputs": [],
   "source": [
    "df_cat_window_sample = df_cat_window.sample(1_000_000).to_pandas()"
   ]
  },
  {
   "cell_type": "code",
   "execution_count": 38,
   "id": "89955058-d47c-4c00-89bd-2d48b36db4d5",
   "metadata": {},
   "outputs": [
    {
     "data": {
      "text/plain": [
       "<Axes: >"
      ]
     },
     "execution_count": 38,
     "metadata": {},
     "output_type": "execute_result"
    },
    {
     "data": {
      "image/png": "[encoded data removed]",
      "text/plain": [
       "<Figure size 640x480 with 1 Axes>"
      ]
     },
     "metadata": {},
     "output_type": "display_data"
    }
   ],
   "source": [
    "df_cat_window_sample.price_div_cat_avg.hist(bins=30, range=[0, 5])"
   ]
  },
  {
   "cell_type": "code",
   "execution_count": 66,
   "id": "4884211d-9475-45cf-b172-624046acf81b",
   "metadata": {},
   "outputs": [
    {
     "data": {
      "text/plain": [
       "<Axes: ylabel='Count'>"
      ]
     },
     "execution_count": 66,
     "metadata": {},
     "output_type": "execute_result"
    },
    {
     "data": {
      "image/png": "[encoded data removed]",
      "text/plain": [
       "<Figure size 640x480 with 1 Axes>"
      ]
     },
     "metadata": {},
     "output_type": "display_data"
    }
   ],
   "source": [
    "sns.histplot(\n",
    "    df_cat_window.select(pl.col(\"price_div_cat_avg\")),\n",
    "    bins=30,\n",
    "    binrange=[0, 5],\n",
    ")"
   ]
  },
  {
   "cell_type": "code",
   "execution_count": 77,
   "id": "2fb998aa-aaf6-4ea7-a5ec-bd984a117af6",
   "metadata": {},
   "outputs": [
    {
     "data": {
      "text/plain": [
       "[-1.0,\n",
       " -0.7999642138319095,\n",
       " -0.7056265914731873,\n",
       " -0.5967436811262199,\n",
       " -0.4791321869632966,\n",
       " -0.3348963123005333,\n",
       " -0.12489574669813719,\n",
       " 0.10599486199775776,\n",
       " 0.4814700212020233,\n",
       " 1.0618528873391004,\n",
       " 35.50223889794373]"
      ]
     },
     "execution_count": 77,
     "metadata": {},
     "output_type": "execute_result"
    }
   ],
   "source": [
    "# polars only lets you take a single quantile at a time\n",
    "quantiles = np.arange(0.0, 1.1, 0.1)\n",
    "[\n",
    "    df_cat_window.select(\n",
    "        pl.col(\"price_div_cat_avg\")\n",
    "    ).quantile(x).item()\n",
    "\n",
    "    for x in quantiles\n",
    "]"
   ]
  },
  {
   "cell_type": "code",
   "execution_count": 79,
   "id": "557a6fbd-2fa2-47e0-8ab6-ab20366963a1",
   "metadata": {},
   "outputs": [
    {
     "data": {
      "text/html": [
       "<div>\n",
       "<style scoped>\n",
       "    .dataframe tbody tr th:only-of-type {\n",
       "        vertical-align: middle;\n",
       "    }\n",
       "\n",
       "    .dataframe tbody tr th {\n",
       "        vertical-align: top;\n",
       "    }\n",
       "\n",
       "    .dataframe thead th {\n",
       "        text-align: right;\n",
       "    }\n",
       "</style>\n",
       "<table border=\"1\" class=\"dataframe\">\n",
       "  <thead>\n",
       "    <tr style=\"text-align: right;\">\n",
       "      <th></th>\n",
       "      <th>price_div_cat_avg</th>\n",
       "    </tr>\n",
       "  </thead>\n",
       "  <tbody>\n",
       "    <tr>\n",
       "      <th>0.0</th>\n",
       "      <td>-1.000000</td>\n",
       "    </tr>\n",
       "    <tr>\n",
       "      <th>0.1</th>\n",
       "      <td>-0.799964</td>\n",
       "    </tr>\n",
       "    <tr>\n",
       "      <th>0.2</th>\n",
       "      <td>-0.705627</td>\n",
       "    </tr>\n",
       "    <tr>\n",
       "      <th>0.3</th>\n",
       "      <td>-0.596744</td>\n",
       "    </tr>\n",
       "    <tr>\n",
       "      <th>0.4</th>\n",
       "      <td>-0.479132</td>\n",
       "    </tr>\n",
       "    <tr>\n",
       "      <th>0.5</th>\n",
       "      <td>-0.334896</td>\n",
       "    </tr>\n",
       "    <tr>\n",
       "      <th>0.6</th>\n",
       "      <td>-0.124896</td>\n",
       "    </tr>\n",
       "    <tr>\n",
       "      <th>0.7</th>\n",
       "      <td>0.105995</td>\n",
       "    </tr>\n",
       "    <tr>\n",
       "      <th>0.8</th>\n",
       "      <td>0.481470</td>\n",
       "    </tr>\n",
       "    <tr>\n",
       "      <th>0.9</th>\n",
       "      <td>1.061853</td>\n",
       "    </tr>\n",
       "    <tr>\n",
       "      <th>1.0</th>\n",
       "      <td>35.502239</td>\n",
       "    </tr>\n",
       "  </tbody>\n",
       "</table>\n",
       "</div>"
      ],
      "text/plain": [
       "     price_div_cat_avg\n",
       "0.0          -1.000000\n",
       "0.1          -0.799964\n",
       "0.2          -0.705627\n",
       "0.3          -0.596744\n",
       "0.4          -0.479132\n",
       "0.5          -0.334896\n",
       "0.6          -0.124896\n",
       "0.7           0.105995\n",
       "0.8           0.481470\n",
       "0.9           1.061853\n",
       "1.0          35.502239"
      ]
     },
     "execution_count": 79,
     "metadata": {},
     "output_type": "execute_result"
    }
   ],
   "source": [
    "# or we can bounce out to pandas and look at this\n",
    "df_cat_window.select(\n",
    "    pl.col(\"price_div_cat_avg\")\n",
    ").to_pandas().quantile(np.arange(0., 1.1, 0.1))"
   ]
  },
  {
   "cell_type": "code",
   "execution_count": null,
   "id": "7420c5c7-6f5f-4621-9594-66a91d9a2685",
   "metadata": {},
   "outputs": [],
   "source": []
  }
 ],
 "metadata": {
  "kernelspec": {
   "display_name": "Python 3 (ipykernel)",
   "language": "python",
   "name": "python3"
  },
  "language_info": {
   "codemirror_mode": {
    "name": "ipython",
    "version": 3
   },
   "file_extension": ".py",
   "mimetype": "text/x-python",
   "name": "python",
   "nbconvert_exporter": "python",
   "pygments_lexer": "ipython3",
   "version": "3.11.7"
  }
 },
 "nbformat": 4,
 "nbformat_minor": 5
}
